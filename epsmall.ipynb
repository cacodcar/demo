{
 "cells": [
  {
   "cell_type": "code",
   "execution_count": 1,
   "metadata": {},
   "outputs": [],
   "source": [
    "from gana.block.program import Prg\n",
    "from gana.sets.index import I\n",
    "from gana.sets.variable import V\n",
    "from gana.sets.parameter import P\n",
    "from gana.operations.composition import inf, sup\n",
    "from gana.sets.theta import T"
   ]
  },
  {
   "cell_type": "code",
   "execution_count": 2,
   "metadata": {},
   "outputs": [],
   "source": [
    "def p1():\n",
    "    p1_ = Prg()\n",
    "    p1_.i = I(size=2)\n",
    "    p1_.j = I('a', 'b', 'c')\n",
    "    p1_.x = V(p1_.i)\n",
    "    p1_.y = V(p1_.j)\n",
    "    p1_.c1 = sum(p1_.x) <= 12\n",
    "    p1_.c2 = p1_.y(p1_.j) <= 20\n",
    "    p1_.o1 = sup(40 * sum(p1_.x) + 30 * sum(p1_.y))\n",
    "    return p1_\n",
    "\n",
    "\n",
    "def p2():\n",
    "    p2_ = Prg()\n",
    "    p2_.k = I(size=2)\n",
    "    p2_.z = V(p2_.k)\n",
    "    p2_.c3 = sum(p2_.z) >= 4\n",
    "    p2_.o2 = inf(3 * sum(p2_.z))\n",
    "    return p2_"
   ]
  },
  {
   "cell_type": "code",
   "execution_count": 3,
   "metadata": {},
   "outputs": [],
   "source": [
    "p1 = p1()\n",
    "p2 = p2()"
   ]
  },
  {
   "cell_type": "code",
   "execution_count": 4,
   "metadata": {},
   "outputs": [],
   "source": [
    "p = p1 + p2"
   ]
  },
  {
   "cell_type": "code",
   "execution_count": 6,
   "metadata": {},
   "outputs": [
    {
     "data": {
      "text/plain": [
       "0"
      ]
     },
     "execution_count": 6,
     "metadata": {},
     "output_type": "execute_result"
    }
   ],
   "source": [
    "p.c3.one.two.n"
   ]
  },
  {
   "cell_type": "code",
   "execution_count": 7,
   "metadata": {},
   "outputs": [
    {
     "data": {
      "text/plain": [
       "[[-40.0, -40.0, -30.0, -30.0, -30.0, 0, 0], [3.0, 3.0, 0, 0, 0, 0, 0]]"
      ]
     },
     "execution_count": 7,
     "metadata": {},
     "output_type": "execute_result"
    }
   ],
   "source": [
    "p.C"
   ]
  },
  {
   "cell_type": "code",
   "execution_count": 2,
   "metadata": {},
   "outputs": [],
   "source": [
    "def p():\n",
    "    p_ = Prg()\n",
    "    p_.y = I(size=1)\n",
    "    p_.q = I(size=3)\n",
    "    p_.res_cons = I('solar')\n",
    "    p_.res_dem = I('power')\n",
    "    p_.res_stg = I('charge')\n",
    "    p_.res = p_.res_cons | p_.res_dem | p_.res_stg\n",
    "    p_.pro_var = I('pv')\n",
    "    p_.pro_cer = I('li', 'li_d')\n",
    "    p_.pro = p_.pro_var | p_.pro_cer\n",
    "    p_.dm_fac = P(p_.power, p_.q, _=[0.5, 1, 0.5])\n",
    "    p_.pv_fac = P(p_.pv, p_.q, _=[1, 0, 0.5])\n",
    "    p_.demand = P(p_.res_dem, p_.q, _=[100] * 3)\n",
    "    p_.capex = P(p_.pro, p_.y, _=[5000, 1000, 0])\n",
    "    p_.fopex = P(p_.pro, p_.y, _=[500, 100, 0])\n",
    "    p_.vopex = P(p_.pro, p_.y, _=[10, 50, 0])\n",
    "    p_.cap_p = V(p_.pro, p_.y)\n",
    "    p_.cap_s = V(p_.res_stg, p_.y)\n",
    "    p_.sell = V(p_.res_dem, p_.q)\n",
    "    p_.con = V(p_.res_cons, p_.q)\n",
    "    p_.inv = V(p_.res_stg, p_.q)\n",
    "    p_.prod = V(p_.pro, p_.q)\n",
    "    p_.ex_cap = V(p_.pro, p_.y)\n",
    "    p_.ex_fop = V(p_.pro, p_.y)\n",
    "    p_.ex_vop = V(p_.pro, p_.y)\n",
    "    p_.con_vopex = p_.ex_vop(p_.pro, p_.y) == p_.vopex(p_.pro, p_.y) * sum(\n",
    "        p_.prod(p_.pro, q) for q in p_.q\n",
    "    )\n",
    "    p_.con_capmax = p_.cap_p(p_.pro, p_.y) <= 200\n",
    "    p_.con_capstg = p_.cap_s(p_.charge, p_.y) <= 200\n",
    "    p_.con_consmax = p_.con(p_.res_cons, p_.q) <= 200\n",
    "    p_.con_sell = p_.sell(p_.power, p_.q) >= p_.dm_fac(p_.power, p_.q) * p_.demand(\n",
    "        p_.power, p_.q\n",
    "    )\n",
    "    p_.con_pv = p_.prod(p_.pv, p_.q) <= p_.pv_fac(p_.pv, p_.q) * p_.cap_p(p_.pv, p_.y)\n",
    "    p_.con_prod = p_.prod(p_.pro_cer, p_.q) <= p_.cap_p(p_.pro_cer, p_.y)\n",
    "    p_.con_inv = p_.inv(p_.charge, p_.q) <= p_.cap_s(p_.charge, p_.y)\n",
    "    p_.con_capex = p_.ex_cap(p_.pro, p_.y) == p_.capex(p_.pro, p_.y) * p_.cap_p(\n",
    "        p_.pro, p_.y\n",
    "    )\n",
    "    p_.con_fopex = p_.ex_fop(p_.pro, p_.y) == p_.fopex(p_.pro, p_.y) * p_.cap_p(\n",
    "        p_.pro, p_.y\n",
    "    )\n",
    "    p_.con_solar = p_.prod(p_.pv, p_.q) == p_.con(p_.solar, p_.q)\n",
    "    p_.con_power = (\n",
    "        sum(p_.prod(i, p_.q) for i in p_.pro_var)\n",
    "        - p_.prod(p_.li, p_.q)\n",
    "        + p_.prod(p_.li_d, p_.q)\n",
    "        - p_.sell(p_.power, p_.q)\n",
    "        == 0\n",
    "    )\n",
    "    p_.con_charge = (\n",
    "        p_.prod(p_.li, p_.q)\n",
    "        - p_.prod(p_.li_d, p_.q)\n",
    "        + p_.inv(p_.charge, p_.q - 1)\n",
    "        - p_.inv(p_.charge, p_.q)\n",
    "        == 0\n",
    "    )\n",
    "    p_.o = inf(sum(p_.ex_cap) + sum(p_.ex_vop) + sum(p_.ex_fop))\n",
    "    p_.opt()\n",
    "    return p_"
   ]
  },
  {
   "cell_type": "code",
   "execution_count": 3,
   "metadata": {},
   "outputs": [
    {
     "name": "stdout",
     "output_type": "stream",
     "text": [
      "Set parameter Username\n",
      "Academic license - for non-commercial use only - expires 2025-12-10\n",
      "Read MPS format model from file prog.mps\n",
      "Reading time = 0.00 seconds\n",
      "PROG: 40 rows, 31 columns, 81 nonzeros\n",
      "Gurobi Optimizer version 12.0.0 build v12.0.0rc1 (win64 - Windows 11.0 (22631.2))\n",
      "\n",
      "CPU model: 13th Gen Intel(R) Core(TM) i7-13700, instruction set [SSE2|AVX|AVX2]\n",
      "Thread count: 16 physical cores, 24 logical processors, using up to 24 threads\n",
      "\n",
      "Optimize a model with 40 rows, 31 columns and 81 nonzeros\n",
      "Model fingerprint: 0x57d8ce44\n",
      "Coefficient statistics:\n",
      "  Matrix range     [5e-01, 5e+03]\n",
      "  Objective range  [1e+00, 1e+00]\n",
      "  Bounds range     [0e+00, 0e+00]\n",
      "  RHS range        [5e+01, 2e+02]\n",
      "Presolve removed 30 rows and 20 columns\n",
      "Presolve time: 0.00s\n",
      "Presolved: 10 rows, 11 columns, 25 nonzeros\n",
      "\n",
      "Iteration    Objective       Primal Inf.    Dual Inf.      Time\n",
      "       0    4.9949000e+02   3.748738e+01   0.000000e+00      0s\n",
      "       8    9.4200000e+05   0.000000e+00   0.000000e+00      0s\n",
      "\n",
      "Solved in 8 iterations and 0.01 seconds (0.00 work units)\n",
      "Optimal objective  9.420000000e+05\n"
     ]
    }
   ],
   "source": [
    "p = p()"
   ]
  },
  {
   "cell_type": "code",
   "execution_count": 11,
   "metadata": {},
   "outputs": [
    {
     "name": "stdout",
     "output_type": "stream",
     "text": [
      "pyomo is an optional dependency, pip install gana[all] to get optional dependencies\n"
     ]
    }
   ],
   "source": [
    "p.pyomo()"
   ]
  },
  {
   "cell_type": "code",
   "execution_count": 15,
   "metadata": {},
   "outputs": [
    {
     "data": {
      "text/plain": [
       "[0,\n",
       " 0,\n",
       " 0,\n",
       " 0,\n",
       " 0,\n",
       " 0,\n",
       " 0,\n",
       " 0,\n",
       " 0,\n",
       " 0,\n",
       " 0,\n",
       " 0,\n",
       " 0,\n",
       " 0,\n",
       " 0,\n",
       " 0,\n",
       " 0,\n",
       " 0,\n",
       " 0,\n",
       " 0,\n",
       " 0,\n",
       " 0,\n",
       " 0,\n",
       " 0,\n",
       " 0,\n",
       " 0,\n",
       " 0,\n",
       " 0,\n",
       " 0,\n",
       " 0,\n",
       " 0,\n",
       " 0,\n",
       " 0,\n",
       " 0,\n",
       " 200.0,\n",
       " 200.0,\n",
       " 200.0,\n",
       " 200.0,\n",
       " 200.0,\n",
       " 200.0,\n",
       " 200.0,\n",
       " -50.0,\n",
       " -100.0,\n",
       " -50.0,\n",
       " 0,\n",
       " 0,\n",
       " 0,\n",
       " 0,\n",
       " 0,\n",
       " 0,\n",
       " 0,\n",
       " 0,\n",
       " 0,\n",
       " 0,\n",
       " 0,\n",
       " 0,\n",
       " 0,\n",
       " 0,\n",
       " 0,\n",
       " 0,\n",
       " 0,\n",
       " 0,\n",
       " 0,\n",
       " 0,\n",
       " 0,\n",
       " 0,\n",
       " 0,\n",
       " 0,\n",
       " 0,\n",
       " 0,\n",
       " 0]"
      ]
     },
     "execution_count": 15,
     "metadata": {},
     "output_type": "execute_result"
    }
   ],
   "source": [
    "p.B "
   ]
  },
  {
   "cell_type": "code",
   "execution_count": 13,
   "metadata": {},
   "outputs": [
    {
     "name": "stdout",
     "output_type": "stream",
     "text": [
      "Solution for prog\n",
      "\n",
      "---Objective Value(s)---\n",
      "\n"
     ]
    },
    {
     "data": {
      "text/latex": [
       "$\\displaystyle min \\hspace{0.2cm} ex^{cap}_{pv, y0} + ex^{cap}_{li, y0} + ex^{cap}_{li_d, y0} + ex^{vop}_{pv, y0} + ex^{vop}_{li, y0} + ex^{vop}_{li_d, y0} + ex^{fop}_{pv, y0} + ex^{fop}_{li, y0} + ex^{fop}_{li_d, y0}=942000.0$"
      ],
      "text/plain": [
       "<IPython.core.display.Math object>"
      ]
     },
     "metadata": {},
     "output_type": "display_data"
    },
    {
     "name": "stdout",
     "output_type": "stream",
     "text": [
      "\n",
      "---Variable Value---\n",
      "\n"
     ]
    },
    {
     "data": {
      "text/latex": [
       "$\\displaystyle cap^{p}_{pv, y0}=150.0$"
      ],
      "text/plain": [
       "<IPython.core.display.Math object>"
      ]
     },
     "metadata": {},
     "output_type": "display_data"
    },
    {
     "data": {
      "text/latex": [
       "$\\displaystyle cap^{p}_{li, y0}=100.0$"
      ],
      "text/plain": [
       "<IPython.core.display.Math object>"
      ]
     },
     "metadata": {},
     "output_type": "display_data"
    },
    {
     "data": {
      "text/latex": [
       "$\\displaystyle cap^{p}_{li_d, y0}=200.0$"
      ],
      "text/plain": [
       "<IPython.core.display.Math object>"
      ]
     },
     "metadata": {},
     "output_type": "display_data"
    },
    {
     "data": {
      "text/latex": [
       "$\\displaystyle cap^{s}_{charge, y0}=200.0$"
      ],
      "text/plain": [
       "<IPython.core.display.Math object>"
      ]
     },
     "metadata": {},
     "output_type": "display_data"
    },
    {
     "data": {
      "text/latex": [
       "$\\displaystyle sell_{power, q0}=50.0$"
      ],
      "text/plain": [
       "<IPython.core.display.Math object>"
      ]
     },
     "metadata": {},
     "output_type": "display_data"
    },
    {
     "data": {
      "text/latex": [
       "$\\displaystyle sell_{power, q1}=100.0$"
      ],
      "text/plain": [
       "<IPython.core.display.Math object>"
      ]
     },
     "metadata": {},
     "output_type": "display_data"
    },
    {
     "data": {
      "text/latex": [
       "$\\displaystyle sell_{power, q2}=50.0$"
      ],
      "text/plain": [
       "<IPython.core.display.Math object>"
      ]
     },
     "metadata": {},
     "output_type": "display_data"
    },
    {
     "data": {
      "text/latex": [
       "$\\displaystyle con_{solar, q0}=150.0$"
      ],
      "text/plain": [
       "<IPython.core.display.Math object>"
      ]
     },
     "metadata": {},
     "output_type": "display_data"
    },
    {
     "data": {
      "text/latex": [
       "$\\displaystyle con_{solar, q1}=0.0$"
      ],
      "text/plain": [
       "<IPython.core.display.Math object>"
      ]
     },
     "metadata": {},
     "output_type": "display_data"
    },
    {
     "data": {
      "text/latex": [
       "$\\displaystyle con_{solar, q2}=50.0$"
      ],
      "text/plain": [
       "<IPython.core.display.Math object>"
      ]
     },
     "metadata": {},
     "output_type": "display_data"
    },
    {
     "data": {
      "text/latex": [
       "$\\displaystyle inv_{charge, q0}=100.0$"
      ],
      "text/plain": [
       "<IPython.core.display.Math object>"
      ]
     },
     "metadata": {},
     "output_type": "display_data"
    },
    {
     "data": {
      "text/latex": [
       "$\\displaystyle inv_{charge, q1}=0.0$"
      ],
      "text/plain": [
       "<IPython.core.display.Math object>"
      ]
     },
     "metadata": {},
     "output_type": "display_data"
    },
    {
     "data": {
      "text/latex": [
       "$\\displaystyle inv_{charge, q2}=0.0$"
      ],
      "text/plain": [
       "<IPython.core.display.Math object>"
      ]
     },
     "metadata": {},
     "output_type": "display_data"
    },
    {
     "data": {
      "text/latex": [
       "$\\displaystyle prod_{pv, q0}=150.0$"
      ],
      "text/plain": [
       "<IPython.core.display.Math object>"
      ]
     },
     "metadata": {},
     "output_type": "display_data"
    },
    {
     "data": {
      "text/latex": [
       "$\\displaystyle prod_{pv, q1}=0.0$"
      ],
      "text/plain": [
       "<IPython.core.display.Math object>"
      ]
     },
     "metadata": {},
     "output_type": "display_data"
    },
    {
     "data": {
      "text/latex": [
       "$\\displaystyle prod_{pv, q2}=50.0$"
      ],
      "text/plain": [
       "<IPython.core.display.Math object>"
      ]
     },
     "metadata": {},
     "output_type": "display_data"
    },
    {
     "data": {
      "text/latex": [
       "$\\displaystyle prod_{li, q0}=100.0$"
      ],
      "text/plain": [
       "<IPython.core.display.Math object>"
      ]
     },
     "metadata": {},
     "output_type": "display_data"
    },
    {
     "data": {
      "text/latex": [
       "$\\displaystyle prod_{li, q1}=0.0$"
      ],
      "text/plain": [
       "<IPython.core.display.Math object>"
      ]
     },
     "metadata": {},
     "output_type": "display_data"
    },
    {
     "data": {
      "text/latex": [
       "$\\displaystyle prod_{li, q2}=0.0$"
      ],
      "text/plain": [
       "<IPython.core.display.Math object>"
      ]
     },
     "metadata": {},
     "output_type": "display_data"
    },
    {
     "data": {
      "text/latex": [
       "$\\displaystyle prod_{li_d, q0}=0.0$"
      ],
      "text/plain": [
       "<IPython.core.display.Math object>"
      ]
     },
     "metadata": {},
     "output_type": "display_data"
    },
    {
     "data": {
      "text/latex": [
       "$\\displaystyle prod_{li_d, q1}=100.0$"
      ],
      "text/plain": [
       "<IPython.core.display.Math object>"
      ]
     },
     "metadata": {},
     "output_type": "display_data"
    },
    {
     "data": {
      "text/latex": [
       "$\\displaystyle prod_{li_d, q2}=0.0$"
      ],
      "text/plain": [
       "<IPython.core.display.Math object>"
      ]
     },
     "metadata": {},
     "output_type": "display_data"
    },
    {
     "data": {
      "text/latex": [
       "$\\displaystyle ex^{cap}_{pv, y0}=750000.0$"
      ],
      "text/plain": [
       "<IPython.core.display.Math object>"
      ]
     },
     "metadata": {},
     "output_type": "display_data"
    },
    {
     "data": {
      "text/latex": [
       "$\\displaystyle ex^{cap}_{li, y0}=100000.0$"
      ],
      "text/plain": [
       "<IPython.core.display.Math object>"
      ]
     },
     "metadata": {},
     "output_type": "display_data"
    },
    {
     "data": {
      "text/latex": [
       "$\\displaystyle ex^{cap}_{li_d, y0}=0.0$"
      ],
      "text/plain": [
       "<IPython.core.display.Math object>"
      ]
     },
     "metadata": {},
     "output_type": "display_data"
    },
    {
     "data": {
      "text/latex": [
       "$\\displaystyle ex^{fop}_{pv, y0}=75000.0$"
      ],
      "text/plain": [
       "<IPython.core.display.Math object>"
      ]
     },
     "metadata": {},
     "output_type": "display_data"
    },
    {
     "data": {
      "text/latex": [
       "$\\displaystyle ex^{fop}_{li, y0}=10000.0$"
      ],
      "text/plain": [
       "<IPython.core.display.Math object>"
      ]
     },
     "metadata": {},
     "output_type": "display_data"
    },
    {
     "data": {
      "text/latex": [
       "$\\displaystyle ex^{fop}_{li_d, y0}=0.0$"
      ],
      "text/plain": [
       "<IPython.core.display.Math object>"
      ]
     },
     "metadata": {},
     "output_type": "display_data"
    },
    {
     "data": {
      "text/latex": [
       "$\\displaystyle ex^{vop}_{pv, y0}=2000.0$"
      ],
      "text/plain": [
       "<IPython.core.display.Math object>"
      ]
     },
     "metadata": {},
     "output_type": "display_data"
    },
    {
     "data": {
      "text/latex": [
       "$\\displaystyle ex^{vop}_{li, y0}=5000.0$"
      ],
      "text/plain": [
       "<IPython.core.display.Math object>"
      ]
     },
     "metadata": {},
     "output_type": "display_data"
    },
    {
     "data": {
      "text/latex": [
       "$\\displaystyle ex^{vop}_{li_d, y0}=0.0$"
      ],
      "text/plain": [
       "<IPython.core.display.Math object>"
      ]
     },
     "metadata": {},
     "output_type": "display_data"
    },
    {
     "name": "stdout",
     "output_type": "stream",
     "text": [
      "\n",
      "---Constraint Slack---\n",
      "\n"
     ]
    },
    {
     "data": {
      "text/latex": [
       "$\\displaystyle cap^{p}_{pv, y0} - 200.0=-50.0$"
      ],
      "text/plain": [
       "<IPython.core.display.Math object>"
      ]
     },
     "metadata": {},
     "output_type": "display_data"
    },
    {
     "data": {
      "text/latex": [
       "$\\displaystyle cap^{p}_{li, y0} - 200.0=-100.0$"
      ],
      "text/plain": [
       "<IPython.core.display.Math object>"
      ]
     },
     "metadata": {},
     "output_type": "display_data"
    },
    {
     "data": {
      "text/latex": [
       "$\\displaystyle cap^{p}_{li_d, y0} - 200.0=0.0$"
      ],
      "text/plain": [
       "<IPython.core.display.Math object>"
      ]
     },
     "metadata": {},
     "output_type": "display_data"
    },
    {
     "data": {
      "text/latex": [
       "$\\displaystyle cap^{s}_{charge, y0} - 200.0=0.0$"
      ],
      "text/plain": [
       "<IPython.core.display.Math object>"
      ]
     },
     "metadata": {},
     "output_type": "display_data"
    },
    {
     "data": {
      "text/latex": [
       "$\\displaystyle con_{solar, q0} - 200.0=-50.0$"
      ],
      "text/plain": [
       "<IPython.core.display.Math object>"
      ]
     },
     "metadata": {},
     "output_type": "display_data"
    },
    {
     "data": {
      "text/latex": [
       "$\\displaystyle con_{solar, q1} - 200.0=-200.0$"
      ],
      "text/plain": [
       "<IPython.core.display.Math object>"
      ]
     },
     "metadata": {},
     "output_type": "display_data"
    },
    {
     "data": {
      "text/latex": [
       "$\\displaystyle con_{solar, q2} - 200.0=-150.0$"
      ],
      "text/plain": [
       "<IPython.core.display.Math object>"
      ]
     },
     "metadata": {},
     "output_type": "display_data"
    },
    {
     "data": {
      "text/latex": [
       "$\\displaystyle -sell_{power, q0} + 50.0=0.0$"
      ],
      "text/plain": [
       "<IPython.core.display.Math object>"
      ]
     },
     "metadata": {},
     "output_type": "display_data"
    },
    {
     "data": {
      "text/latex": [
       "$\\displaystyle -sell_{power, q1} + 100.0=0.0$"
      ],
      "text/plain": [
       "<IPython.core.display.Math object>"
      ]
     },
     "metadata": {},
     "output_type": "display_data"
    },
    {
     "data": {
      "text/latex": [
       "$\\displaystyle -sell_{power, q2} + 50.0=0.0$"
      ],
      "text/plain": [
       "<IPython.core.display.Math object>"
      ]
     },
     "metadata": {},
     "output_type": "display_data"
    },
    {
     "data": {
      "text/latex": [
       "$\\displaystyle -cap^{p}_{pv, y0} + prod_{pv, q0}=0.0$"
      ],
      "text/plain": [
       "<IPython.core.display.Math object>"
      ]
     },
     "metadata": {},
     "output_type": "display_data"
    },
    {
     "data": {
      "text/latex": [
       "$\\displaystyle -0.0 \\cdot cap^{p}_{pv, y0} + prod_{pv, q1}=150.0$"
      ],
      "text/plain": [
       "<IPython.core.display.Math object>"
      ]
     },
     "metadata": {},
     "output_type": "display_data"
    },
    {
     "data": {
      "text/latex": [
       "$\\displaystyle -0.5 \\cdot cap^{p}_{pv, y0} + prod_{pv, q2}=-25.0$"
      ],
      "text/plain": [
       "<IPython.core.display.Math object>"
      ]
     },
     "metadata": {},
     "output_type": "display_data"
    },
    {
     "data": {
      "text/latex": [
       "$\\displaystyle prod_{li, q0} - cap^{p}_{li, y0}=0.0$"
      ],
      "text/plain": [
       "<IPython.core.display.Math object>"
      ]
     },
     "metadata": {},
     "output_type": "display_data"
    },
    {
     "data": {
      "text/latex": [
       "$\\displaystyle prod_{li, q1} - cap^{p}_{li, y0}=-100.0$"
      ],
      "text/plain": [
       "<IPython.core.display.Math object>"
      ]
     },
     "metadata": {},
     "output_type": "display_data"
    },
    {
     "data": {
      "text/latex": [
       "$\\displaystyle prod_{li, q2} - cap^{p}_{li, y0}=-100.0$"
      ],
      "text/plain": [
       "<IPython.core.display.Math object>"
      ]
     },
     "metadata": {},
     "output_type": "display_data"
    },
    {
     "data": {
      "text/latex": [
       "$\\displaystyle prod_{li_d, q0} - cap^{p}_{li_d, y0}=-200.0$"
      ],
      "text/plain": [
       "<IPython.core.display.Math object>"
      ]
     },
     "metadata": {},
     "output_type": "display_data"
    },
    {
     "data": {
      "text/latex": [
       "$\\displaystyle prod_{li_d, q1} - cap^{p}_{li_d, y0}=-100.0$"
      ],
      "text/plain": [
       "<IPython.core.display.Math object>"
      ]
     },
     "metadata": {},
     "output_type": "display_data"
    },
    {
     "data": {
      "text/latex": [
       "$\\displaystyle prod_{li_d, q2} - cap^{p}_{li_d, y0}=-200.0$"
      ],
      "text/plain": [
       "<IPython.core.display.Math object>"
      ]
     },
     "metadata": {},
     "output_type": "display_data"
    },
    {
     "data": {
      "text/latex": [
       "$\\displaystyle inv_{charge, q0} - cap^{s}_{charge, y0}=-100.0$"
      ],
      "text/plain": [
       "<IPython.core.display.Math object>"
      ]
     },
     "metadata": {},
     "output_type": "display_data"
    },
    {
     "data": {
      "text/latex": [
       "$\\displaystyle inv_{charge, q1} - cap^{s}_{charge, y0}=-200.0$"
      ],
      "text/plain": [
       "<IPython.core.display.Math object>"
      ]
     },
     "metadata": {},
     "output_type": "display_data"
    },
    {
     "data": {
      "text/latex": [
       "$\\displaystyle inv_{charge, q2} - cap^{s}_{charge, y0}=-200.0$"
      ],
      "text/plain": [
       "<IPython.core.display.Math object>"
      ]
     },
     "metadata": {},
     "output_type": "display_data"
    }
   ],
   "source": [
    "p.sol()"
   ]
  },
  {
   "cell_type": "code",
   "execution_count": 12,
   "metadata": {},
   "outputs": [
    {
     "data": {
      "text/plain": [
       "[-50.0, -100.0, -50.0]"
      ]
     },
     "execution_count": 12,
     "metadata": {},
     "output_type": "execute_result"
    }
   ],
   "source": [
    "p.con_sell.B"
   ]
  },
  {
   "cell_type": "code",
   "execution_count": 11,
   "metadata": {},
   "outputs": [
    {
     "data": {
      "text/plain": [
       "1"
      ]
     },
     "execution_count": 11,
     "metadata": {},
     "output_type": "execute_result"
    }
   ],
   "source": [
    "len(p.o.funcs)"
   ]
  },
  {
   "cell_type": "code",
   "execution_count": 12,
   "metadata": {},
   "outputs": [
    {
     "data": {
      "text/plain": [
       "1"
      ]
     },
     "execution_count": 12,
     "metadata": {},
     "output_type": "execute_result"
    }
   ],
   "source": [
    "p.o.funcs.mis"
   ]
  },
  {
   "cell_type": "code",
   "execution_count": 13,
   "metadata": {},
   "outputs": [
    {
     "data": {
      "text/plain": [
       "{0: [ex_cap_0,\n",
       "  ex_cap_1,\n",
       "  ex_cap_2,\n",
       "  ex_vop_0,\n",
       "  ex_vop_1,\n",
       "  ex_vop_2,\n",
       "  ex_fop_0,\n",
       "  ex_fop_1,\n",
       "  ex_fop_2]}"
      ]
     },
     "execution_count": 13,
     "metadata": {},
     "output_type": "execute_result"
    }
   ],
   "source": [
    "p.o.funcs.variables"
   ]
  },
  {
   "cell_type": "code",
   "execution_count": 14,
   "metadata": {},
   "outputs": [],
   "source": [
    "f = sum(p.ex_cap) + sum(p.ex_vop) + sum(p.ex_fop)"
   ]
  },
  {
   "cell_type": "code",
   "execution_count": 15,
   "metadata": {},
   "outputs": [
    {
     "data": {
      "text/plain": [
       "1"
      ]
     },
     "execution_count": 15,
     "metadata": {},
     "output_type": "execute_result"
    }
   ],
   "source": [
    "len(p.o.funcs)"
   ]
  },
  {
   "cell_type": "code",
   "execution_count": 16,
   "metadata": {},
   "outputs": [
    {
     "data": {
      "text/plain": [
       "9"
      ]
     },
     "execution_count": 16,
     "metadata": {},
     "output_type": "execute_result"
    }
   ],
   "source": [
    "len(f.X[0])"
   ]
  },
  {
   "cell_type": "code",
   "execution_count": 17,
   "metadata": {},
   "outputs": [
    {
     "data": {
      "text/plain": [
       "{0: [ex_cap_0,\n",
       "  ex_cap_1,\n",
       "  ex_cap_2,\n",
       "  ex_vop_0,\n",
       "  ex_vop_1,\n",
       "  ex_vop_2,\n",
       "  ex_fop_0,\n",
       "  ex_fop_1,\n",
       "  ex_fop_2]}"
      ]
     },
     "execution_count": 17,
     "metadata": {},
     "output_type": "execute_result"
    }
   ],
   "source": [
    "f.variables"
   ]
  },
  {
   "cell_type": "code",
   "execution_count": 18,
   "metadata": {},
   "outputs": [
    {
     "name": "stdout",
     "output_type": "stream",
     "text": [
      "{0: [cap_p_0], 1: [cap_p_1], 2: [cap_p_2]}\n",
      "{0: [cap_s_0]}\n",
      "{0: [sell_0], 1: [sell_1], 2: [sell_2]}\n",
      "{0: [con_0], 1: [con_1], 2: [con_2]}\n",
      "{0: [inv_0], 1: [inv_1], 2: [inv_2]}\n",
      "{0: [prod_0], 1: [prod_1], 2: [prod_2], 3: [prod_3], 4: [prod_4], 5: [prod_5], 6: [prod_6], 7: [prod_7], 8: [prod_8]}\n",
      "{0: [ex_cap_0], 1: [ex_cap_1], 2: [ex_cap_2]}\n",
      "{0: [ex_fop_0], 1: [ex_fop_1], 2: [ex_fop_2]}\n",
      "{0: [ex_vop_0], 1: [ex_vop_1], 2: [ex_vop_2]}\n",
      "{0: [prod_0, prod_1, prod_2, ex_vop_0], 1: [prod_3, prod_4, prod_5, ex_vop_1], 2: [prod_6, prod_7, prod_8, ex_vop_2]}\n",
      "{0: [cap_p_0], 1: [cap_p_1], 2: [cap_p_2]}\n",
      "{0: [cap_s_0]}\n",
      "{0: [con_0], 1: [con_1], 2: [con_2]}\n",
      "{0: [sell_0], 1: [sell_1], 2: [sell_2]}\n",
      "{0: [cap_p_0, prod_0], 1: [cap_p_0, prod_1], 2: [cap_p_0, prod_2]}\n",
      "{0: [prod_3, cap_p_1], 1: [prod_4, cap_p_1], 2: [prod_5, cap_p_1], 3: [prod_6, cap_p_2], 4: [prod_7, cap_p_2], 5: [prod_8, cap_p_2]}\n",
      "{0: [inv_0, cap_s_0], 1: [inv_1, cap_s_0], 2: [inv_2, cap_s_0]}\n",
      "{0: [cap_p_0, ex_cap_0], 1: [cap_p_1, ex_cap_1], 2: [cap_p_2, ex_cap_2]}\n",
      "{0: [cap_p_0, ex_fop_0], 1: [cap_p_1, ex_fop_1], 2: [cap_p_2, ex_fop_2]}\n",
      "{0: [prod_0, con_0], 1: [prod_1, con_1], 2: [prod_2, con_2]}\n",
      "{0: [prod_0, prod_3, prod_6, sell_0], 1: [prod_1, prod_4, prod_7, sell_1], 2: [prod_2, prod_5, prod_8, sell_2]}\n",
      "{0: [prod_3, prod_6, None, inv_0], 1: [prod_4, prod_7, inv_0, inv_1], 2: [prod_5, prod_8, inv_1, inv_2]}\n"
     ]
    }
   ],
   "source": [
    "for f in p.sets.constraint:\n",
    "    print(f.variables)"
   ]
  },
  {
   "cell_type": "code",
   "execution_count": 19,
   "metadata": {},
   "outputs": [],
   "source": [
    "p = Prg()\n",
    "p.y = I(size=1)\n",
    "p.q = I(size=3)\n",
    "p.res_cons = I('solar')\n",
    "p.res_dem = I('power')\n",
    "p.res_stg = I('charge')\n",
    "p.res = p.res_cons | p.res_dem | p.res_stg\n",
    "p.pro_var = I('pv')\n",
    "p.pro_cer = I('li', 'li_d')\n",
    "p.pro = p.pro_var | p.pro_cer\n",
    "p.dm_fac = P(p.power, p.q, _=[0.5, 1, 0.5])\n",
    "# p.pv_fac = P(p.pv, p.q, _=[1, 0, 0.5])\n",
    "p.demand = P(p.res_dem, p.q, _=[100] * 3)\n",
    "p.capex = P(p.pro, p.y, _=[5000, 1000, 0])\n",
    "p.fopex = P(p.pro, p.y, _=[500, 100, 0])\n",
    "p.vopex = P(p.pro, p.y, _=[10, 50, 0])\n",
    "p.cap_p = V(p.pro, p.y)"
   ]
  },
  {
   "cell_type": "code",
   "execution_count": 20,
   "metadata": {},
   "outputs": [],
   "source": [
    "p.cap_s = V(p.res_stg, p.y)\n",
    "p.sell = V(p.res_dem, p.q)\n",
    "p.con = V(p.res_cons, p.q)\n",
    "p.inv = V(p.res_stg, p.q)\n",
    "p.prod = V(p.pro, p.q)\n",
    "p.ex_cap = V(p.pro, p.y)\n",
    "p.ex_fop = V(p.pro, p.y)\n",
    "p.ex_vop = V(p.pro, p.y)"
   ]
  },
  {
   "cell_type": "code",
   "execution_count": 21,
   "metadata": {},
   "outputs": [],
   "source": [
    "# p.stgu = T(p.charge, p.y, _=(0, 40))\n",
    "p.pvfac = T(p.pv, p.q, _=[(0, 1), (0, 0.4), (0.4, 0.5)])"
   ]
  },
  {
   "cell_type": "code",
   "execution_count": 22,
   "metadata": {},
   "outputs": [],
   "source": [
    "p.con_vopex = p.ex_vop(p.pro, p.y) == p.vopex(p.pro, p.y) * sum(\n",
    "    p.prod(p.pro, q) for q in p.q\n",
    ")\n",
    "p.con_capmax = p.cap_p(p.pro, p.y) <= 200\n",
    "p.con_capstg = p.cap_s(p.charge, p.y) <= 200\n",
    "p.con_consmax = p.con(p.res_cons, p.q) <= 200"
   ]
  },
  {
   "cell_type": "code",
   "execution_count": 23,
   "metadata": {},
   "outputs": [
    {
     "data": {
      "text/latex": [
       "$\\displaystyle -10.0 \\cdot prod_{pv, q0} - 10.0 \\cdot prod_{pv, q1} - 10.0 \\cdot prod_{pv, q2} + ex^{vop}_{pv, y0} = 0$"
      ],
      "text/plain": [
       "<IPython.core.display.Math object>"
      ]
     },
     "metadata": {},
     "output_type": "display_data"
    },
    {
     "data": {
      "text/latex": [
       "$\\displaystyle -50.0 \\cdot prod_{li, q0} - 50.0 \\cdot prod_{li, q1} - 50.0 \\cdot prod_{li, q2} + ex^{vop}_{li, y0} = 0$"
      ],
      "text/plain": [
       "<IPython.core.display.Math object>"
      ]
     },
     "metadata": {},
     "output_type": "display_data"
    },
    {
     "data": {
      "text/latex": [
       "$\\displaystyle -0.0 \\cdot prod_{li_d, q0} - 0.0 \\cdot prod_{li_d, q1} - 0.0 \\cdot prod_{li_d, q2} + ex^{vop}_{li_d, y0} = 0$"
      ],
      "text/plain": [
       "<IPython.core.display.Math object>"
      ]
     },
     "metadata": {},
     "output_type": "display_data"
    }
   ],
   "source": [
    "p.con_vopex.pprint(True)"
   ]
  },
  {
   "cell_type": "code",
   "execution_count": 24,
   "metadata": {},
   "outputs": [],
   "source": [
    "p.con_sell = p.sell(p.power, p.q) >= p.dm_fac(p.power, p.q) * p.demand(p.power, p.q)\n",
    "# p.con_pv = p.prod(p.pv, p.q) <= p.pv_fac(p.pv, p.q) * p.cap_p(p.pv, p.y)\n",
    "p.con_pv = p.prod(p.pv, p.q) <= 400 * p.pvfac(p.pv, p.q)\n",
    "\n",
    "p.con_prod = p.prod(p.pro_cer, p.q) <= p.cap_p(p.pro_cer, p.y)\n",
    "p.con_inv = p.inv(p.charge, p.q) <= p.cap_s(p.charge, p.y)\n",
    "p.con_capex = p.ex_cap(p.pro, p.y) == p.capex(p.pro, p.y) * p.cap_p(p.pro, p.y)\n",
    "p.con_fopex = p.ex_fop(p.pro, p.y) == p.fopex(p.pro, p.y) * p.cap_p(p.pro, p.y)\n",
    "p.con_solar = p.prod(p.pv, p.q) == p.con(p.solar, p.q)\n",
    "p.con_power = (\n",
    "    sum(p.prod(i, p.q) for i in p.pro_var)\n",
    "    - p.prod(p.li, p.q)\n",
    "    + p.prod(p.li_d, p.q)\n",
    "    - p.sell(p.power, p.q)\n",
    "    == 0\n",
    ")\n",
    "p.con_charge = (\n",
    "    p.prod(p.li, p.q)\n",
    "    - p.prod(p.li_d, p.q)\n",
    "    + p.inv(p.charge, p.q - 1)\n",
    "    - p.inv(p.charge, p.q)\n",
    "    == 0\n",
    ")"
   ]
  },
  {
   "cell_type": "code",
   "execution_count": 25,
   "metadata": {},
   "outputs": [
    {
     "data": {
      "text/plain": [
       "([[4, None, None], [None, 5, None], [None, None, 6]],\n",
       " [[-1.0, 0, 0], [0, -1.0, 0], [0, 0, -1.0]],\n",
       " [-50.0, -100.0, -50.0])"
      ]
     },
     "execution_count": 25,
     "metadata": {},
     "output_type": "execute_result"
    }
   ],
   "source": [
    "p.con_sell.X, p.con_sell.A, p.con_sell.B"
   ]
  },
  {
   "cell_type": "code",
   "execution_count": 26,
   "metadata": {},
   "outputs": [
    {
     "data": {
      "text/plain": [
       "([[13, None, None], [None, 14, None], [None, None, 15]],\n",
       " [[1.0, 0, 0], [0, 1.0, 0], [0, 0, 1.0]],\n",
       " [[400.0, 0, 0], [0, 400.0, 0], [0, 0, 400.0]],\n",
       " [[0, None, None], [None, 1, None], [None, None, 2]],\n",
       " [0, 0, 0])"
      ]
     },
     "execution_count": 26,
     "metadata": {},
     "output_type": "execute_result"
    }
   ],
   "source": [
    "p.con_pv.X, p.con_pv.A, p.con_pv.F, p.con_pv.Z, p.con_pv.B"
   ]
  },
  {
   "cell_type": "code",
   "execution_count": 27,
   "metadata": {},
   "outputs": [
    {
     "data": {
      "text/plain": [
       "[[400.0, 0, 0], [0, 400.0, 0], [0, 0, 400.0]]"
      ]
     },
     "execution_count": 27,
     "metadata": {},
     "output_type": "execute_result"
    }
   ],
   "source": [
    "p.con_pv.F"
   ]
  },
  {
   "cell_type": "code",
   "execution_count": 28,
   "metadata": {},
   "outputs": [
    {
     "data": {
      "text/latex": [
       "$\\displaystyle -500.0 \\cdot cap^{p}_{pv, y0} + ex^{fop}_{pv, y0} = 0$"
      ],
      "text/plain": [
       "<IPython.core.display.Math object>"
      ]
     },
     "metadata": {},
     "output_type": "display_data"
    },
    {
     "data": {
      "text/latex": [
       "$\\displaystyle -100.0 \\cdot cap^{p}_{li, y0} + ex^{fop}_{li, y0} = 0$"
      ],
      "text/plain": [
       "<IPython.core.display.Math object>"
      ]
     },
     "metadata": {},
     "output_type": "display_data"
    },
    {
     "data": {
      "text/latex": [
       "$\\displaystyle -0.0 \\cdot cap^{p}_{li_d, y0} + ex^{fop}_{li_d, y0} = 0$"
      ],
      "text/plain": [
       "<IPython.core.display.Math object>"
      ]
     },
     "metadata": {},
     "output_type": "display_data"
    }
   ],
   "source": [
    "p.con_fopex.pprint(True)"
   ]
  },
  {
   "cell_type": "code",
   "execution_count": 29,
   "metadata": {},
   "outputs": [
    {
     "data": {
      "text/plain": [
       "([[1.0, 0, 0],\n",
       "  [-1.0, 0, 0],\n",
       "  [0, 1.0, 0],\n",
       "  [0, -1.0, 0],\n",
       "  [0, 0, 1.0],\n",
       "  [0, 0, -1.0]],\n",
       " [1, 0, 0.4, 0, 0.5, -0.4],\n",
       " [0, 1, 2])"
      ]
     },
     "execution_count": 29,
     "metadata": {},
     "output_type": "execute_result"
    }
   ],
   "source": [
    "p.pvfac.CRa, p.pvfac.CRb, p.pvfac.X"
   ]
  },
  {
   "cell_type": "code",
   "execution_count": 31,
   "metadata": {},
   "outputs": [
    {
     "data": {
      "text/plain": [
       "([[1.0, 0, 0],\n",
       "  [-1.0, 0, 0],\n",
       "  [0, 1.0, 0],\n",
       "  [0, -1.0, 0],\n",
       "  [0, 0, 1.0],\n",
       "  [0, 0, -1.0]],\n",
       " [1, 0, 0.4, 0, 0.5, -0.4])"
      ]
     },
     "execution_count": 31,
     "metadata": {},
     "output_type": "execute_result"
    }
   ],
   "source": [
    "p.CRa, p.CRb"
   ]
  },
  {
   "cell_type": "code",
   "execution_count": 31,
   "metadata": {},
   "outputs": [
    {
     "data": {
      "text/plain": [
       "[[0, None, None, 25, None, None],\n",
       " [None, 1, None, None, 26, None],\n",
       " [None, None, 2, None, None, 27]]"
      ]
     },
     "execution_count": 31,
     "metadata": {},
     "output_type": "execute_result"
    }
   ],
   "source": [
    "p.con_fopex.X"
   ]
  },
  {
   "cell_type": "code",
   "execution_count": null,
   "metadata": {},
   "outputs": [],
   "source": [
    "p.F"
   ]
  },
  {
   "cell_type": "code",
   "execution_count": null,
   "metadata": {},
   "outputs": [],
   "source": [
    "p.A"
   ]
  },
  {
   "cell_type": "code",
   "execution_count": null,
   "metadata": {},
   "outputs": [],
   "source": [
    "p.inv(p.charge, p.q - 1)._"
   ]
  },
  {
   "cell_type": "code",
   "execution_count": null,
   "metadata": {},
   "outputs": [],
   "source": [
    "p.con_sell.B"
   ]
  },
  {
   "cell_type": "code",
   "execution_count": null,
   "metadata": {},
   "outputs": [],
   "source": [
    "p.con_inv.A"
   ]
  },
  {
   "cell_type": "code",
   "execution_count": null,
   "metadata": {},
   "outputs": [],
   "source": [
    "p.con_prod.A"
   ]
  },
  {
   "cell_type": "code",
   "execution_count": null,
   "metadata": {},
   "outputs": [],
   "source": [
    "p.con_pv.funcs.F"
   ]
  },
  {
   "cell_type": "code",
   "execution_count": null,
   "metadata": {},
   "outputs": [],
   "source": [
    "p.vars()"
   ]
  },
  {
   "cell_type": "code",
   "execution_count": null,
   "metadata": {},
   "outputs": [],
   "source": [
    "p.cons()"
   ]
  },
  {
   "cell_type": "code",
   "execution_count": 10,
   "metadata": {},
   "outputs": [],
   "source": [
    "A = [[0] * len(p.vars()) for _ in range(len(p.cons()))]\n",
    "B = [0] * len(p.cons())\n",
    "F = [[0] * len(p.thetas) for _ in range(len(p.cons()))]\n",
    "\n",
    "# A, B, F = ([0]*len(p.vars()) for _ in range(3))"
   ]
  },
  {
   "cell_type": "code",
   "execution_count": null,
   "metadata": {},
   "outputs": [],
   "source": []
  },
  {
   "cell_type": "code",
   "execution_count": null,
   "metadata": {},
   "outputs": [],
   "source": [
    "for c in p.sets.constraint:\n",
    "    print(c.funcs)\n",
    "    print(c.funcs.A)\n",
    "    # print(c.funcs.vars)\n",
    "    # print(c.funcs.pars)\n",
    "    # print(c.funcs.funcs)\n",
    "    # print(c.funcs.pvars)"
   ]
  },
  {
   "cell_type": "code",
   "execution_count": null,
   "metadata": {},
   "outputs": [],
   "source": [
    "p.mps()"
   ]
  },
  {
   "cell_type": "code",
   "execution_count": null,
   "metadata": {},
   "outputs": [],
   "source": [
    "for c in p.sets.constraint:\n",
    "    print(c.funcs.one_, c.funcs.two_, c.funcs.elems)"
   ]
  },
  {
   "cell_type": "code",
   "execution_count": null,
   "metadata": {},
   "outputs": [],
   "source": [
    "from gana.elements.func import Func\n",
    "\n",
    "for n, c in enumerate(p.cons()):\n",
    "    print(c.func)\n",
    "    print(c.func.elems)\n",
    "\n",
    "    # print(c.funcs.A)"
   ]
  },
  {
   "cell_type": "code",
   "execution_count": null,
   "metadata": {},
   "outputs": [],
   "source": [
    "A"
   ]
  },
  {
   "cell_type": "code",
   "execution_count": 9,
   "metadata": {},
   "outputs": [],
   "source": [
    "cs = p.sets.constraint"
   ]
  },
  {
   "cell_type": "code",
   "execution_count": null,
   "metadata": {},
   "outputs": [],
   "source": [
    "cs[0].funcs._"
   ]
  },
  {
   "cell_type": "code",
   "execution_count": null,
   "metadata": {},
   "outputs": [],
   "source": [
    "p.con_sell.funcs.B"
   ]
  },
  {
   "cell_type": "code",
   "execution_count": null,
   "metadata": {},
   "outputs": [],
   "source": [
    "p.con_prod.funcs.A"
   ]
  },
  {
   "cell_type": "code",
   "execution_count": null,
   "metadata": {},
   "outputs": [],
   "source": [
    "p.cons()"
   ]
  },
  {
   "cell_type": "code",
   "execution_count": null,
   "metadata": {},
   "outputs": [],
   "source": [
    "p.constraints"
   ]
  },
  {
   "cell_type": "code",
   "execution_count": null,
   "metadata": {},
   "outputs": [],
   "source": [
    "p.contvars()"
   ]
  },
  {
   "cell_type": "code",
   "execution_count": null,
   "metadata": {},
   "outputs": [],
   "source": [
    "p.thetas"
   ]
  },
  {
   "cell_type": "code",
   "execution_count": null,
   "metadata": {},
   "outputs": [],
   "source": [
    "p.pprint(True)"
   ]
  },
  {
   "cell_type": "code",
   "execution_count": null,
   "metadata": {},
   "outputs": [],
   "source": [
    "p.con_prod.funcs.struct"
   ]
  },
  {
   "cell_type": "code",
   "execution_count": null,
   "metadata": {},
   "outputs": [],
   "source": [
    "p.con_prod.two"
   ]
  },
  {
   "cell_type": "code",
   "execution_count": null,
   "metadata": {},
   "outputs": [],
   "source": [
    "p.pprint()"
   ]
  },
  {
   "cell_type": "code",
   "execution_count": null,
   "metadata": {},
   "outputs": [],
   "source": [
    "p.pvfac(p.pv, p.q).F"
   ]
  },
  {
   "cell_type": "code",
   "execution_count": null,
   "metadata": {},
   "outputs": [],
   "source": [
    "p.con_pv.F"
   ]
  },
  {
   "cell_type": "code",
   "execution_count": null,
   "metadata": {},
   "outputs": [],
   "source": [
    "p.con_sell.F"
   ]
  },
  {
   "cell_type": "code",
   "execution_count": 15,
   "metadata": {},
   "outputs": [],
   "source": [
    "f = 400 * p.pvfac(p.pv, p.q)"
   ]
  },
  {
   "cell_type": "code",
   "execution_count": null,
   "metadata": {},
   "outputs": [],
   "source": [
    "f.F"
   ]
  },
  {
   "cell_type": "code",
   "execution_count": null,
   "metadata": {},
   "outputs": [],
   "source": [
    "p.con_sell.funcs.B"
   ]
  },
  {
   "cell_type": "code",
   "execution_count": 14,
   "metadata": {},
   "outputs": [],
   "source": [
    "d = p.dm_fac(p.power, p.q) * p.demand(p.power, p.q)"
   ]
  },
  {
   "cell_type": "code",
   "execution_count": null,
   "metadata": {},
   "outputs": [],
   "source": [
    "p.con_sell.funcs.A"
   ]
  },
  {
   "cell_type": "code",
   "execution_count": null,
   "metadata": {},
   "outputs": [],
   "source": [
    "p.con_pv.F"
   ]
  },
  {
   "cell_type": "code",
   "execution_count": null,
   "metadata": {},
   "outputs": [],
   "source": [
    "p.con_prod.funcs.A"
   ]
  },
  {
   "cell_type": "code",
   "execution_count": null,
   "metadata": {},
   "outputs": [],
   "source": [
    "p.prod(p.pro_cer, p.q).A"
   ]
  },
  {
   "cell_type": "code",
   "execution_count": null,
   "metadata": {},
   "outputs": [],
   "source": [
    "a = p.cap_p(p.pro_cer, p.y).A"
   ]
  },
  {
   "cell_type": "code",
   "execution_count": null,
   "metadata": {},
   "outputs": [],
   "source": [
    "a"
   ]
  },
  {
   "cell_type": "code",
   "execution_count": null,
   "metadata": {},
   "outputs": [],
   "source": []
  },
  {
   "cell_type": "code",
   "execution_count": null,
   "metadata": {},
   "outputs": [],
   "source": [
    "[i for i in a for _ in range(3)]"
   ]
  },
  {
   "cell_type": "code",
   "execution_count": null,
   "metadata": {},
   "outputs": [],
   "source": [
    "p.cap_p(p.pro_cer, p.y).A"
   ]
  },
  {
   "cell_type": "code",
   "execution_count": null,
   "metadata": {},
   "outputs": [],
   "source": [
    "p.con_pv.pprint()"
   ]
  },
  {
   "cell_type": "code",
   "execution_count": null,
   "metadata": {},
   "outputs": [],
   "source": [
    "p.con_sell.funcs.A"
   ]
  },
  {
   "cell_type": "code",
   "execution_count": null,
   "metadata": {},
   "outputs": [],
   "source": [
    "p.con_pv.funcs.A"
   ]
  },
  {
   "cell_type": "code",
   "execution_count": null,
   "metadata": {},
   "outputs": [],
   "source": [
    "p.con_pv.funcs.F"
   ]
  },
  {
   "cell_type": "code",
   "execution_count": 15,
   "metadata": {},
   "outputs": [],
   "source": [
    "a = p.con_capex"
   ]
  },
  {
   "cell_type": "code",
   "execution_count": null,
   "metadata": {},
   "outputs": [],
   "source": [
    "a.two"
   ]
  },
  {
   "cell_type": "code",
   "execution_count": null,
   "metadata": {},
   "outputs": [],
   "source": [
    "for c in p.sets.constraint:\n",
    "    c.pprint()\n",
    "    # print(c.name, c.struct)\n",
    "    # print(c.funcs.struct_)\n",
    "    # print(c.funcs.rels_)\n",
    "    # print()"
   ]
  },
  {
   "cell_type": "code",
   "execution_count": null,
   "metadata": {},
   "outputs": [],
   "source": [
    "p.thetas"
   ]
  },
  {
   "cell_type": "code",
   "execution_count": null,
   "metadata": {},
   "outputs": [],
   "source": [
    "p.con_capmax.two"
   ]
  },
  {
   "cell_type": "code",
   "execution_count": 14,
   "metadata": {},
   "outputs": [],
   "source": [
    "f = p.sets.constraint[0].funcs"
   ]
  },
  {
   "cell_type": "code",
   "execution_count": null,
   "metadata": {},
   "outputs": [],
   "source": [
    "f.struct"
   ]
  },
  {
   "cell_type": "code",
   "execution_count": null,
   "metadata": {},
   "outputs": [],
   "source": [
    "f.signs"
   ]
  },
  {
   "cell_type": "code",
   "execution_count": null,
   "metadata": {},
   "outputs": [],
   "source": [
    "f.vars"
   ]
  },
  {
   "cell_type": "code",
   "execution_count": null,
   "metadata": {},
   "outputs": [],
   "source": [
    "for i in range(len(f.struct)):\n",
    "    if i in f.vars:\n",
    "        print(i, f.vars[i])\n",
    "    if i in f.signs:\n",
    "        print(i, f.signs[i])\n",
    "    if i in f.pars:\n",
    "        print(i, f.pars[i])"
   ]
  },
  {
   "cell_type": "code",
   "execution_count": null,
   "metadata": {},
   "outputs": [],
   "source": [
    "for i in f.vars:\n",
    "    print(i, f.vars[i])\n",
    "    print(i - 1, f.signs[i - 1])\n",
    "for i in f.pars:\n",
    "    print(i, f.pars[i])\n",
    "    print(i - 1, f.signs[i - 1])"
   ]
  },
  {
   "cell_type": "code",
   "execution_count": null,
   "metadata": {},
   "outputs": [],
   "source": [
    "f.struct"
   ]
  },
  {
   "cell_type": "code",
   "execution_count": null,
   "metadata": {},
   "outputs": [],
   "source": [
    "for i in f.vars:\n",
    "    if f.signs[i - 1] == '×':\n",
    "        print(f.pars[i - 2])"
   ]
  },
  {
   "cell_type": "code",
   "execution_count": null,
   "metadata": {},
   "outputs": [],
   "source": [
    "f.array\n",
    "# f.rel"
   ]
  },
  {
   "cell_type": "code",
   "execution_count": null,
   "metadata": {},
   "outputs": [],
   "source": [
    "f.struct"
   ]
  },
  {
   "cell_type": "code",
   "execution_count": null,
   "metadata": {},
   "outputs": [],
   "source": []
  },
  {
   "cell_type": "code",
   "execution_count": null,
   "metadata": {},
   "outputs": [],
   "source": [
    "f.one"
   ]
  },
  {
   "cell_type": "code",
   "execution_count": null,
   "metadata": {},
   "outputs": [],
   "source": [
    "f.two"
   ]
  },
  {
   "cell_type": "code",
   "execution_count": null,
   "metadata": {},
   "outputs": [],
   "source": []
  },
  {
   "cell_type": "code",
   "execution_count": null,
   "metadata": {},
   "outputs": [],
   "source": [
    "f.signs"
   ]
  },
  {
   "cell_type": "code",
   "execution_count": null,
   "metadata": {},
   "outputs": [],
   "source": [
    "f.vars"
   ]
  },
  {
   "cell_type": "code",
   "execution_count": null,
   "metadata": {},
   "outputs": [],
   "source": [
    "for c in p.sets.constraint:\n",
    "    print(c.struct)\n",
    "    # print(len(c.struct), c.struct)\n",
    "    # print('array', c.funcs.array)\n",
    "    # print(c.funcs.A())\n",
    "    # print(c.funcs.signs, c.funcs.vars, c.funcs.pars, c.funcs.pvars)\n",
    "    # print(c.funcs.elmo)"
   ]
  },
  {
   "cell_type": "code",
   "execution_count": null,
   "metadata": {},
   "outputs": [],
   "source": [
    "x = p.sets.constraint[9].struct\n",
    "if isinstance(x[-1], float) and x[-2] in ['+', '-']:\n",
    "    # if there is a parameter in the end, that goes to the b matrix\n",
    "    x = x[:-2]\n",
    "\n",
    "# here you get a list of tuples (rel, variable)\n",
    "x = list(zip(x[::2], x[1::2]))"
   ]
  },
  {
   "cell_type": "code",
   "execution_count": null,
   "metadata": {},
   "outputs": [],
   "source": [
    "type(p.con_capmax.two)"
   ]
  },
  {
   "cell_type": "code",
   "execution_count": null,
   "metadata": {},
   "outputs": [],
   "source": [
    "p.sets.constraint[9].struct"
   ]
  },
  {
   "cell_type": "code",
   "execution_count": null,
   "metadata": {},
   "outputs": [],
   "source": [
    "p.sets.constraint[9].funcs.elmo"
   ]
  },
  {
   "cell_type": "code",
   "execution_count": null,
   "metadata": {},
   "outputs": [],
   "source": [
    "p.struct"
   ]
  },
  {
   "cell_type": "code",
   "execution_count": null,
   "metadata": {},
   "outputs": [],
   "source": [
    "p.sets.constraint[9].funcs.elmo"
   ]
  },
  {
   "cell_type": "code",
   "execution_count": null,
   "metadata": {},
   "outputs": [],
   "source": []
  },
  {
   "cell_type": "code",
   "execution_count": null,
   "metadata": {},
   "outputs": [],
   "source": []
  },
  {
   "cell_type": "code",
   "execution_count": null,
   "metadata": {},
   "outputs": [],
   "source": [
    "for c in p.cons():\n",
    "    print(c.struct)\n",
    "    print(c.X(), c.A(), c.B(), c.T(), c.F())"
   ]
  },
  {
   "cell_type": "code",
   "execution_count": null,
   "metadata": {},
   "outputs": [],
   "source": [
    "p.con_pv[0].pprint()"
   ]
  },
  {
   "cell_type": "code",
   "execution_count": null,
   "metadata": {},
   "outputs": [],
   "source": [
    "for c in p.cons():\n",
    "    print(c.F(), c.B())"
   ]
  },
  {
   "cell_type": "code",
   "execution_count": null,
   "metadata": {},
   "outputs": [],
   "source": [
    "p.F()"
   ]
  },
  {
   "cell_type": "code",
   "execution_count": null,
   "metadata": {},
   "outputs": [],
   "source": [
    "p.con_pv.funcs[1].vars"
   ]
  },
  {
   "cell_type": "code",
   "execution_count": null,
   "metadata": {},
   "outputs": [],
   "source": [
    "p.thetas"
   ]
  },
  {
   "cell_type": "code",
   "execution_count": null,
   "metadata": {},
   "outputs": [],
   "source": [
    "p.con_pv.pprint(True)"
   ]
  },
  {
   "cell_type": "code",
   "execution_count": null,
   "metadata": {},
   "outputs": [],
   "source": [
    "p.con_pv[2].func.CRb()"
   ]
  },
  {
   "cell_type": "code",
   "execution_count": null,
   "metadata": {},
   "outputs": [],
   "source": []
  },
  {
   "cell_type": "code",
   "execution_count": 33,
   "metadata": {},
   "outputs": [],
   "source": [
    "a = [[], []]"
   ]
  },
  {
   "cell_type": "code",
   "execution_count": 36,
   "metadata": {},
   "outputs": [],
   "source": [
    "a[0] = 4"
   ]
  },
  {
   "cell_type": "code",
   "execution_count": null,
   "metadata": {},
   "outputs": [],
   "source": [
    "a"
   ]
  },
  {
   "cell_type": "code",
   "execution_count": null,
   "metadata": {},
   "outputs": [],
   "source": [
    "for cons in p.cons():\n",
    "    print(cons.F())"
   ]
  },
  {
   "cell_type": "code",
   "execution_count": null,
   "metadata": {},
   "outputs": [],
   "source": []
  },
  {
   "cell_type": "code",
   "execution_count": null,
   "metadata": {},
   "outputs": [],
   "source": [
    "p.pprint()"
   ]
  },
  {
   "cell_type": "code",
   "execution_count": null,
   "metadata": {},
   "outputs": [],
   "source": [
    "for cons in p.cons():\n",
    "    print(cons)\n",
    "    cons.pprint()"
   ]
  },
  {
   "cell_type": "code",
   "execution_count": null,
   "metadata": {},
   "outputs": [],
   "source": [
    "p.pprint()"
   ]
  },
  {
   "cell_type": "code",
   "execution_count": null,
   "metadata": {},
   "outputs": [],
   "source": [
    "p.con_pv[0].F()"
   ]
  },
  {
   "cell_type": "code",
   "execution_count": null,
   "metadata": {},
   "outputs": [],
   "source": [
    "p.thetas"
   ]
  },
  {
   "cell_type": "code",
   "execution_count": null,
   "metadata": {},
   "outputs": [],
   "source": [
    "p.F()"
   ]
  },
  {
   "cell_type": "code",
   "execution_count": null,
   "metadata": {},
   "outputs": [],
   "source": [
    "p.o = inf(sum(p.ex_cap) + sum(p.ex_vop) + sum(p.ex_fop))\n",
    "p.opt()"
   ]
  },
  {
   "cell_type": "code",
   "execution_count": null,
   "metadata": {},
   "outputs": [],
   "source": [
    "p.eqcons()[-2].func.A()"
   ]
  },
  {
   "cell_type": "code",
   "execution_count": null,
   "metadata": {},
   "outputs": [],
   "source": [
    "p._A()[68][10]"
   ]
  },
  {
   "cell_type": "code",
   "execution_count": null,
   "metadata": {},
   "outputs": [],
   "source": [
    "p._A()[69][11]"
   ]
  },
  {
   "cell_type": "code",
   "execution_count": null,
   "metadata": {},
   "outputs": [],
   "source": [
    "p._A()[70][11]"
   ]
  },
  {
   "cell_type": "code",
   "execution_count": null,
   "metadata": {},
   "outputs": [],
   "source": [
    "p.inv[0].n"
   ]
  },
  {
   "cell_type": "code",
   "execution_count": null,
   "metadata": {},
   "outputs": [],
   "source": [
    "p.pprint()"
   ]
  },
  {
   "cell_type": "code",
   "execution_count": null,
   "metadata": {},
   "outputs": [],
   "source": [
    "p.pprint(True)"
   ]
  },
  {
   "cell_type": "code",
   "execution_count": null,
   "metadata": {},
   "outputs": [],
   "source": [
    "p.nncons()"
   ]
  },
  {
   "cell_type": "code",
   "execution_count": null,
   "metadata": {},
   "outputs": [],
   "source": [
    "def p1():\n",
    "    p1_ = Prg()\n",
    "    p1_.i = I(size=2)\n",
    "    p1_.j = I('a', 'b', 'c')\n",
    "    p1_.x = V(p1_.i)\n",
    "    p1_.y = V(p1_.j)\n",
    "    p1_.c1 = sum(p1_.x) <= 12\n",
    "    p1_.c2 = p1_.y(p1_.j) <= 20\n",
    "    p1_.o1 = sup(40 * sum(p1_.x) + 30 * sum(p1_.y))\n",
    "    return p1_\n",
    "\n",
    "\n",
    "def p2():\n",
    "    p2_ = Prg()\n",
    "    p2_.k = I(size=2)\n",
    "    p2_.z = V(p2_.k)\n",
    "    p2_.c3 = sum(p2_.z) >= 4\n",
    "    p2_.o2 = inf(3 * sum(p2_.z))\n",
    "    return p2_"
   ]
  },
  {
   "cell_type": "code",
   "execution_count": null,
   "metadata": {},
   "outputs": [],
   "source": [
    "p11 = p1()"
   ]
  },
  {
   "cell_type": "code",
   "execution_count": null,
   "metadata": {},
   "outputs": [],
   "source": [
    "p11.A()"
   ]
  },
  {
   "cell_type": "code",
   "execution_count": null,
   "metadata": {},
   "outputs": [],
   "source": [
    "p22 = p2()"
   ]
  },
  {
   "cell_type": "code",
   "execution_count": null,
   "metadata": {},
   "outputs": [],
   "source": [
    "p22.A()"
   ]
  },
  {
   "cell_type": "code",
   "execution_count": null,
   "metadata": {},
   "outputs": [],
   "source": [
    "p22.c3"
   ]
  },
  {
   "cell_type": "code",
   "execution_count": null,
   "metadata": {},
   "outputs": [],
   "source": [
    "p = p11 + p22"
   ]
  },
  {
   "cell_type": "code",
   "execution_count": null,
   "metadata": {},
   "outputs": [],
   "source": [
    "p11.sets.constraint"
   ]
  },
  {
   "cell_type": "code",
   "execution_count": null,
   "metadata": {},
   "outputs": [],
   "source": [
    "p11.sets.nncons()"
   ]
  },
  {
   "cell_type": "code",
   "execution_count": null,
   "metadata": {},
   "outputs": [],
   "source": [
    "p11.nncons()[0].two"
   ]
  },
  {
   "cell_type": "code",
   "execution_count": null,
   "metadata": {},
   "outputs": [],
   "source": [
    "p.A()"
   ]
  },
  {
   "cell_type": "code",
   "execution_count": null,
   "metadata": {},
   "outputs": [],
   "source": [
    "p.o1"
   ]
  },
  {
   "cell_type": "code",
   "execution_count": null,
   "metadata": {},
   "outputs": [],
   "source": [
    "p.c1"
   ]
  },
  {
   "cell_type": "code",
   "execution_count": null,
   "metadata": {},
   "outputs": [],
   "source": [
    "p.C()"
   ]
  },
  {
   "cell_type": "code",
   "execution_count": null,
   "metadata": {},
   "outputs": [],
   "source": [
    "p.variables"
   ]
  },
  {
   "cell_type": "code",
   "execution_count": null,
   "metadata": {},
   "outputs": [],
   "source": [
    "p.objectives"
   ]
  },
  {
   "cell_type": "code",
   "execution_count": null,
   "metadata": {},
   "outputs": [],
   "source": [
    "p.o1"
   ]
  },
  {
   "cell_type": "code",
   "execution_count": null,
   "metadata": {},
   "outputs": [],
   "source": [
    "def test_padd(p1, p2):\n",
    "    p = p1 + p2\n",
    "    assert p.A() == [\n",
    "        [0, 0, 1.0, 0, 0, 0, 0],\n",
    "        [0, 0, 0, 1.0, 0, 0, 0],\n",
    "        [0, 0, 0, 0, 1.0, 0, 0],\n",
    "        [1.0, 1.0, 0, 0, 0, 0, 0],\n",
    "        [0, 0, 1.0, 0, 0, 0, 0],\n",
    "        [0, 0, 0, 1.0, 0, 0, 0],\n",
    "        [0, 0, 0, 0, 1.0, 0, 0],\n",
    "        [-1.0, -1.0, 0, 0, 0, 0, 0],\n",
    "        [-1.0, 0, 0, 0, 0, 0, 0],\n",
    "        [0, -1.0, 0, 0, 0, 0, 0],\n",
    "        [0, 0, -1.0, 0, 0, 0, 0],\n",
    "        [0, 0, 0, -1.0, 0, 0, 0],\n",
    "        [0, 0, 0, 0, -1.0, 0, 0],\n",
    "        [0, 0, 0, 0, 0, -1.0, 0],\n",
    "        [0, 0, 0, 0, 0, 0, -1.0],\n",
    "        [-1.0, 0, 0, 0, 0, 0, 0],\n",
    "        [0, -1.0, 0, 0, 0, 0, 0],\n",
    "        [0, 0, -1.0, 0, 0, 0, 0],\n",
    "        [0, 0, 0, -1.0, 0, 0, 0],\n",
    "        [0, 0, 0, 0, -1.0, 0, 0],\n",
    "        [-1.0, 0, 0, 0, 0, 0, 0],\n",
    "        [0, -1.0, 0, 0, 0, 0, 0],\n",
    "        [-1.0, 0, 0, 0, 0, 0, 0],\n",
    "        [0, -1.0, 0, 0, 0, 0, 0],\n",
    "        [0, 0, -1.0, 0, 0, 0, 0],\n",
    "        [0, 0, 0, -1.0, 0, 0, 0],\n",
    "        [0, 0, 0, 0, -1.0, 0, 0],\n",
    "        [-1.0, 0, 0, 0, 0, 0, 0],\n",
    "        [0, -1.0, 0, 0, 0, 0, 0],\n",
    "    ]\n",
    "    assert p.C() == [[-40.0, -40.0, -30.0, 30.0, 30.0, 0, 0], [3.0, 3.0, 0, 0, 0, 0, 0]]\n",
    "    assert p.variables == [p.x_0, p.x_1, p.y_0, p.y_1, p.y_2, p.z_0, p.z_1]\n",
    "    assert p.objectives == [p.o1, p.o2]"
   ]
  },
  {
   "cell_type": "code",
   "execution_count": null,
   "metadata": {},
   "outputs": [],
   "source": [
    "p.ex_cap.index"
   ]
  },
  {
   "cell_type": "code",
   "execution_count": null,
   "metadata": {},
   "outputs": [],
   "source": [
    "p.pprint()"
   ]
  },
  {
   "cell_type": "code",
   "execution_count": null,
   "metadata": {},
   "outputs": [],
   "source": [
    "f = sum(p.ex_cap) + sum(p.ex_vop) + sum(p.ex_fop)"
   ]
  },
  {
   "cell_type": "code",
   "execution_count": null,
   "metadata": {},
   "outputs": [],
   "source": [
    "f._"
   ]
  },
  {
   "cell_type": "code",
   "execution_count": null,
   "metadata": {},
   "outputs": [],
   "source": [
    "p.ex_cap.index._"
   ]
  },
  {
   "cell_type": "code",
   "execution_count": null,
   "metadata": {},
   "outputs": [],
   "source": [
    "a = (\n",
    "    p.ex_cap(p.ex_cap.index._[0])\n",
    "    + p.ex_cap(p.ex_cap.index._[1])\n",
    "    + p.ex_cap(p.ex_cap.index._[2])\n",
    ")"
   ]
  },
  {
   "cell_type": "code",
   "execution_count": null,
   "metadata": {},
   "outputs": [],
   "source": [
    "sum(p.ex_cap)"
   ]
  },
  {
   "cell_type": "code",
   "execution_count": null,
   "metadata": {},
   "outputs": [],
   "source": [
    "sum(p.ex_cap)"
   ]
  },
  {
   "cell_type": "code",
   "execution_count": null,
   "metadata": {},
   "outputs": [],
   "source": [
    "p.con_charge.pprint(True)"
   ]
  },
  {
   "cell_type": "code",
   "execution_count": null,
   "metadata": {},
   "outputs": [],
   "source": [
    "type(p.ex_cap)"
   ]
  },
  {
   "cell_type": "code",
   "execution_count": null,
   "metadata": {},
   "outputs": [],
   "source": [
    "from operator import is_\n",
    "\n",
    "is_(p.ex_vop(p.pro, p.y), p.ex_vop)"
   ]
  },
  {
   "cell_type": "code",
   "execution_count": null,
   "metadata": {},
   "outputs": [],
   "source": [
    "type(p.ex_vop.index)"
   ]
  },
  {
   "cell_type": "code",
   "execution_count": null,
   "metadata": {},
   "outputs": [],
   "source": [
    "p.ex_vop.index"
   ]
  },
  {
   "cell_type": "code",
   "execution_count": null,
   "metadata": {},
   "outputs": [],
   "source": [
    "p.ex_vop(p.li, p.y[0]).index"
   ]
  },
  {
   "cell_type": "code",
   "execution_count": null,
   "metadata": {},
   "outputs": [],
   "source": [
    "p.k = V()"
   ]
  },
  {
   "cell_type": "code",
   "execution_count": null,
   "metadata": {},
   "outputs": [],
   "source": [
    "p.prod(p.pro, p.q[0])._"
   ]
  },
  {
   "cell_type": "code",
   "execution_count": null,
   "metadata": {},
   "outputs": [],
   "source": [
    "p.ex_vop(p.pro, p.y[0])._"
   ]
  },
  {
   "cell_type": "code",
   "execution_count": null,
   "metadata": {},
   "outputs": [],
   "source": [
    "from math import prod\n",
    "\n",
    "a = prod((p.pro, p.y[0]))"
   ]
  },
  {
   "cell_type": "code",
   "execution_count": null,
   "metadata": {},
   "outputs": [],
   "source": []
  },
  {
   "cell_type": "code",
   "execution_count": null,
   "metadata": {},
   "outputs": [],
   "source": [
    "a._"
   ]
  },
  {
   "cell_type": "code",
   "execution_count": null,
   "metadata": {},
   "outputs": [],
   "source": [
    "key = (p.li, p.y[0])"
   ]
  },
  {
   "cell_type": "code",
   "execution_count": null,
   "metadata": {},
   "outputs": [],
   "source": [
    "k = "
   ]
  },
  {
   "cell_type": "code",
   "execution_count": null,
   "metadata": {},
   "outputs": [],
   "source": [
    "k = None\n",
    "for x in key:\n",
    "    k &= x"
   ]
  },
  {
   "cell_type": "code",
   "execution_count": null,
   "metadata": {},
   "outputs": [],
   "source": [
    "k"
   ]
  },
  {
   "cell_type": "code",
   "execution_count": null,
   "metadata": {},
   "outputs": [],
   "source": [
    "type(k)"
   ]
  },
  {
   "cell_type": "code",
   "execution_count": null,
   "metadata": {},
   "outputs": [],
   "source": []
  },
  {
   "cell_type": "code",
   "execution_count": null,
   "metadata": {},
   "outputs": [],
   "source": [
    "p.ex_vop.idx[k]"
   ]
  },
  {
   "cell_type": "code",
   "execution_count": null,
   "metadata": {},
   "outputs": [],
   "source": [
    "type(p.li)"
   ]
  },
  {
   "cell_type": "code",
   "execution_count": null,
   "metadata": {},
   "outputs": [],
   "source": [
    "type(p.y[0])"
   ]
  },
  {
   "cell_type": "code",
   "execution_count": null,
   "metadata": {},
   "outputs": [],
   "source": [
    "p.ex_vop.idx"
   ]
  },
  {
   "cell_type": "code",
   "execution_count": null,
   "metadata": {},
   "outputs": [],
   "source": [
    "type(p.ex_vop.index._[0])"
   ]
  },
  {
   "cell_type": "code",
   "execution_count": null,
   "metadata": {},
   "outputs": [],
   "source": [
    "p.vopex(p.pro, p.y)"
   ]
  },
  {
   "cell_type": "code",
   "execution_count": null,
   "metadata": {},
   "outputs": [],
   "source": [
    "p.ex_vop.index"
   ]
  },
  {
   "cell_type": "code",
   "execution_count": null,
   "metadata": {},
   "outputs": [],
   "source": [
    "from math import prod\n",
    "\n",
    "prod((p.pro, p.y))"
   ]
  },
  {
   "cell_type": "code",
   "execution_count": null,
   "metadata": {},
   "outputs": [],
   "source": [
    "p.ex_vop.index._"
   ]
  },
  {
   "cell_type": "code",
   "execution_count": null,
   "metadata": {},
   "outputs": [],
   "source": [
    "p.ex_vop._"
   ]
  },
  {
   "cell_type": "code",
   "execution_count": null,
   "metadata": {},
   "outputs": [],
   "source": [
    "p.opt()"
   ]
  },
  {
   "cell_type": "code",
   "execution_count": null,
   "metadata": {},
   "outputs": [],
   "source": [
    "p.sol()"
   ]
  },
  {
   "cell_type": "code",
   "execution_count": null,
   "metadata": {},
   "outputs": [],
   "source": [
    "p = Prg()\n",
    "p.i1 = I('a', 'b', 'c')\n",
    "p.i2 = I(size=4)"
   ]
  },
  {
   "cell_type": "code",
   "execution_count": null,
   "metadata": {},
   "outputs": [],
   "source": [
    "p.a._"
   ]
  },
  {
   "cell_type": "code",
   "execution_count": null,
   "metadata": {},
   "outputs": [],
   "source": [
    "from energiapy.src.energiapy.gana.src.gana.elements.index import Idx\n",
    "\n",
    "ii = p.i1 * Idx(4)"
   ]
  },
  {
   "cell_type": "code",
   "execution_count": null,
   "metadata": {},
   "outputs": [],
   "source": [
    "ii._"
   ]
  },
  {
   "cell_type": "code",
   "execution_count": null,
   "metadata": {},
   "outputs": [],
   "source": [
    "p.v1 = V(p.i1)\n",
    "p.v2 = V(p.i2)\n",
    "p.v12 = V(p.i1, p.i2)\n",
    "p.v21 = V(p.i2, p.i1)\n",
    "p.v14 = V(p.i1, 4)\n",
    "p.v41 = V(4, p.i1)\n",
    "p.va4 = V(p.a, 4)\n",
    "p.v4a = V(4, p.a)"
   ]
  },
  {
   "cell_type": "code",
   "execution_count": null,
   "metadata": {},
   "outputs": [],
   "source": [
    "p.v12(p.i1, 2)._"
   ]
  },
  {
   "cell_type": "code",
   "execution_count": null,
   "metadata": {},
   "outputs": [],
   "source": [
    "p.i1.of"
   ]
  },
  {
   "cell_type": "code",
   "execution_count": null,
   "metadata": {},
   "outputs": [],
   "source": [
    "p.v1.index"
   ]
  },
  {
   "cell_type": "code",
   "execution_count": null,
   "metadata": {},
   "outputs": [],
   "source": [
    "list(p.va4.idx)[0]"
   ]
  },
  {
   "cell_type": "code",
   "execution_count": null,
   "metadata": {},
   "outputs": [],
   "source": [
    "type(p.va4(p.a, 4))"
   ]
  },
  {
   "cell_type": "code",
   "execution_count": null,
   "metadata": {},
   "outputs": [],
   "source": [
    "for i in p.i1:\n",
    "    print(i, p.v1(i))\n",
    "print()\n",
    "for i in p.i2:\n",
    "    print(i, p.v2(i))\n",
    "print()\n",
    "\n",
    "for i in p.i1:\n",
    "    for j in p.i2:\n",
    "        print((i, j), p.v12(i, j))\n",
    "print()\n",
    "\n",
    "for i in p.i2:\n",
    "    for j in p.i1:\n",
    "        print(p.v21(i, j))\n",
    "print()\n",
    "\n",
    "for i in p.i1:\n",
    "    print(p.v14(i, 4))\n",
    "print()\n",
    "\n",
    "for j in p.i1:\n",
    "    print(p.v41(4, j))\n",
    "print()\n",
    "\n",
    "print(p.va4(p.a, 4))\n",
    "print()\n",
    "\n",
    "print(p.v4a(4, p.a))"
   ]
  },
  {
   "cell_type": "code",
   "execution_count": null,
   "metadata": {},
   "outputs": [],
   "source": [
    "list(p.v12.idx)[0]"
   ]
  },
  {
   "cell_type": "code",
   "execution_count": null,
   "metadata": {},
   "outputs": [],
   "source": [
    "p.a.of"
   ]
  },
  {
   "cell_type": "code",
   "execution_count": null,
   "metadata": {},
   "outputs": [],
   "source": [
    "p.v2.index._"
   ]
  },
  {
   "cell_type": "code",
   "execution_count": null,
   "metadata": {},
   "outputs": [],
   "source": [
    "a = (1, 2, 3)"
   ]
  },
  {
   "cell_type": "code",
   "execution_count": null,
   "metadata": {},
   "outputs": [],
   "source": [
    "p.i1.of"
   ]
  },
  {
   "cell_type": "code",
   "execution_count": null,
   "metadata": {},
   "outputs": [],
   "source": []
  },
  {
   "cell_type": "code",
   "execution_count": null,
   "metadata": {},
   "outputs": [],
   "source": [
    "def psmall():\n",
    "    p_ = Prg()\n",
    "    p_.i = I(size=2)\n",
    "    p_.ri = I('r')\n",
    "    p_.x = V(p_.i)\n",
    "    p_.y = V(p_.ri)\n",
    "    p_.c1 = p_.x(0) + p_.x(1) <= 12\n",
    "    p_.c2 = 2 * p_.x(0) + p_.x(1) <= 16\n",
    "    p_.c3 = 4 * p_.y(p_.r) == 40\n",
    "    p_.o = sup(40 * p_.x(0) + 30 * p_.x(1) - p_.y(p_.r))\n",
    "    # p_.opt()\n",
    "    return p_"
   ]
  },
  {
   "cell_type": "code",
   "execution_count": null,
   "metadata": {},
   "outputs": [],
   "source": [
    "p = Prg()"
   ]
  },
  {
   "cell_type": "code",
   "execution_count": null,
   "metadata": {},
   "outputs": [],
   "source": [
    "p.i = I(size=2)\n",
    "p.ri = I('r')"
   ]
  },
  {
   "cell_type": "code",
   "execution_count": null,
   "metadata": {},
   "outputs": [],
   "source": [
    "p.ri.pprint()"
   ]
  },
  {
   "cell_type": "code",
   "execution_count": null,
   "metadata": {},
   "outputs": [],
   "source": [
    "p.x = V(p.i)\n",
    "p.y = V(p.ri)"
   ]
  },
  {
   "cell_type": "code",
   "execution_count": null,
   "metadata": {},
   "outputs": [],
   "source": [
    "p.c1 = p.x(0) + p.x(1) <= 12\n",
    "p.c2 = 2 * p.x(0) + p.x(1) <= 16\n",
    "p.c3 = 4 * p.y(p.r) == 40\n",
    "p.o = sup(40 * p.x(0) + 30 * p.x(1) - p.y(p.r))"
   ]
  },
  {
   "cell_type": "code",
   "execution_count": null,
   "metadata": {},
   "outputs": [],
   "source": [
    "# a = p.oooo | p.ri"
   ]
  },
  {
   "cell_type": "code",
   "execution_count": null,
   "metadata": {},
   "outputs": [],
   "source": [
    "p.oooo = I('r', 't', 'g')"
   ]
  },
  {
   "cell_type": "code",
   "execution_count": null,
   "metadata": {},
   "outputs": [],
   "source": [
    "p.c1.X(), p.c1.A(), p.c1.B()"
   ]
  },
  {
   "cell_type": "code",
   "execution_count": null,
   "metadata": {},
   "outputs": [],
   "source": [
    "p.r.parent"
   ]
  },
  {
   "cell_type": "code",
   "execution_count": null,
   "metadata": {},
   "outputs": [],
   "source": []
  },
  {
   "cell_type": "code",
   "execution_count": null,
   "metadata": {},
   "outputs": [],
   "source": [
    "p.NN()"
   ]
  },
  {
   "cell_type": "code",
   "execution_count": null,
   "metadata": {},
   "outputs": [],
   "source": [
    "p = psmall()"
   ]
  },
  {
   "cell_type": "code",
   "execution_count": null,
   "metadata": {},
   "outputs": [],
   "source": [
    "p.c3.pprint()"
   ]
  },
  {
   "cell_type": "code",
   "execution_count": null,
   "metadata": {},
   "outputs": [],
   "source": [
    "p.mps()"
   ]
  },
  {
   "cell_type": "code",
   "execution_count": null,
   "metadata": {},
   "outputs": [],
   "source": [
    "m = p.gurobi()"
   ]
  },
  {
   "cell_type": "code",
   "execution_count": null,
   "metadata": {},
   "outputs": [],
   "source": [
    "p.opt()"
   ]
  },
  {
   "cell_type": "code",
   "execution_count": null,
   "metadata": {},
   "outputs": [],
   "source": []
  },
  {
   "cell_type": "code",
   "execution_count": null,
   "metadata": {},
   "outputs": [],
   "source": [
    "# p.pprint(True)"
   ]
  },
  {
   "cell_type": "code",
   "execution_count": null,
   "metadata": {},
   "outputs": [],
   "source": [
    "p.lp()"
   ]
  },
  {
   "cell_type": "code",
   "execution_count": null,
   "metadata": {},
   "outputs": [],
   "source": [
    "m = p.gurobi()"
   ]
  },
  {
   "cell_type": "code",
   "execution_count": null,
   "metadata": {},
   "outputs": [],
   "source": [
    "# p.pyomo()"
   ]
  },
  {
   "cell_type": "code",
   "execution_count": null,
   "metadata": {},
   "outputs": [],
   "source": [
    "p.opt()"
   ]
  },
  {
   "cell_type": "code",
   "execution_count": null,
   "metadata": {},
   "outputs": [],
   "source": []
  },
  {
   "cell_type": "code",
   "execution_count": null,
   "metadata": {},
   "outputs": [],
   "source": []
  },
  {
   "cell_type": "code",
   "execution_count": null,
   "metadata": {},
   "outputs": [],
   "source": [
    "p.sol()"
   ]
  },
  {
   "cell_type": "code",
   "execution_count": null,
   "metadata": {},
   "outputs": [],
   "source": [
    "p.opt()"
   ]
  },
  {
   "cell_type": "code",
   "execution_count": null,
   "metadata": {},
   "outputs": [],
   "source": [
    "p.cap_p.sol()"
   ]
  },
  {
   "cell_type": "code",
   "execution_count": null,
   "metadata": {},
   "outputs": [],
   "source": [
    "p.cap_p.idx"
   ]
  },
  {
   "cell_type": "code",
   "execution_count": null,
   "metadata": {},
   "outputs": [],
   "source": [
    "p.cap_p(p.pro, p.y[0])"
   ]
  },
  {
   "cell_type": "code",
   "execution_count": null,
   "metadata": {},
   "outputs": [],
   "source": [
    "p.sol()"
   ]
  },
  {
   "cell_type": "code",
   "execution_count": null,
   "metadata": {},
   "outputs": [],
   "source": [
    "p.pprint(True)"
   ]
  },
  {
   "cell_type": "code",
   "execution_count": null,
   "metadata": {},
   "outputs": [],
   "source": [
    "p.B()"
   ]
  },
  {
   "cell_type": "code",
   "execution_count": null,
   "metadata": {},
   "outputs": [],
   "source": [
    "p.G()"
   ]
  },
  {
   "cell_type": "code",
   "execution_count": null,
   "metadata": {},
   "outputs": [],
   "source": [
    "p.A()"
   ]
  },
  {
   "cell_type": "code",
   "execution_count": null,
   "metadata": {},
   "outputs": [],
   "source": [
    "p.opt()"
   ]
  },
  {
   "cell_type": "code",
   "execution_count": null,
   "metadata": {},
   "outputs": [],
   "source": [
    "p.cap_p.sol()"
   ]
  },
  {
   "cell_type": "code",
   "execution_count": null,
   "metadata": {},
   "outputs": [],
   "source": [
    "p.sol()"
   ]
  },
  {
   "cell_type": "code",
   "execution_count": null,
   "metadata": {},
   "outputs": [],
   "source": [
    "# p.o.sol(True)"
   ]
  },
  {
   "cell_type": "code",
   "execution_count": null,
   "metadata": {},
   "outputs": [],
   "source": [
    "p_ = Prg()\n",
    "p_.i = I(size=2)\n",
    "p_.ri = I('r')\n",
    "p_.x = V(p_.i)\n",
    "p_.z = V(p_.ri)\n",
    "p_.c1 = p_.x(0) + p_.x(1) <= 12\n",
    "p_.c2 = 2 * p_.x(0) + p_.x(1) <= 16\n",
    "p_.c3 = 4 * p_.z(p_.r) == 40\n",
    "p_.ob = sup(40 * p_.x(0) + 30 * p_.x(1) - p_.z(p_.r))\n",
    "# p_.opt()"
   ]
  },
  {
   "cell_type": "code",
   "execution_count": null,
   "metadata": {},
   "outputs": [],
   "source": [
    "p1 = Prg()\n",
    "p1.i = I(size=2)\n",
    "p1.j = I('a', 'b', 'c')\n",
    "p1.x = V(p1.i)\n",
    "p1.y = V(p1.j)\n",
    "p1.c1 = p1.x(p1.i[0]) + p1.x(p1.i[1]) <= 12\n",
    "p1.c2 = p1.y(p1.j) <= 20\n",
    "p1.o1 = sup(40 * sum(p1.x) + 30 * sum(p1.y))\n",
    "# p1.opt()"
   ]
  },
  {
   "cell_type": "code",
   "execution_count": null,
   "metadata": {},
   "outputs": [],
   "source": [
    "p.C()"
   ]
  },
  {
   "cell_type": "code",
   "execution_count": null,
   "metadata": {},
   "outputs": [],
   "source": [
    "p2 = Prg()\n",
    "p2.k = I(size=2)\n",
    "p2.z = V(p2.k)\n",
    "p2.c3 = p2.z(p2.k[0]) + p2.z(p2.k[1]) >= 4\n",
    "# p2.o2 = inf(3 * sum(p2.z))\n",
    "# p2.opt()"
   ]
  },
  {
   "cell_type": "code",
   "execution_count": null,
   "metadata": {},
   "outputs": [],
   "source": [
    "p = p1 + p2"
   ]
  },
  {
   "cell_type": "code",
   "execution_count": null,
   "metadata": {},
   "outputs": [],
   "source": [
    "p.variables"
   ]
  },
  {
   "cell_type": "code",
   "execution_count": null,
   "metadata": {},
   "outputs": [],
   "source": [
    "for v in p.variables:\n",
    "    print(v.n)"
   ]
  },
  {
   "cell_type": "code",
   "execution_count": null,
   "metadata": {},
   "outputs": [],
   "source": [
    "p.pprint()"
   ]
  },
  {
   "cell_type": "code",
   "execution_count": null,
   "metadata": {},
   "outputs": [],
   "source": [
    "p.A()"
   ]
  },
  {
   "cell_type": "code",
   "execution_count": null,
   "metadata": {},
   "outputs": [],
   "source": [
    "p.opt()"
   ]
  },
  {
   "cell_type": "code",
   "execution_count": null,
   "metadata": {},
   "outputs": [],
   "source": [
    "p.A()"
   ]
  },
  {
   "cell_type": "code",
   "execution_count": null,
   "metadata": {},
   "outputs": [],
   "source": [
    "p.G()"
   ]
  },
  {
   "cell_type": "code",
   "execution_count": null,
   "metadata": {},
   "outputs": [],
   "source": [
    "p.H()"
   ]
  },
  {
   "cell_type": "code",
   "execution_count": null,
   "metadata": {},
   "outputs": [],
   "source": [
    "p.NN()"
   ]
  },
  {
   "cell_type": "code",
   "execution_count": null,
   "metadata": {},
   "outputs": [],
   "source": [
    "p._A()"
   ]
  },
  {
   "cell_type": "code",
   "execution_count": null,
   "metadata": {},
   "outputs": [],
   "source": [
    "p.C()"
   ]
  },
  {
   "cell_type": "code",
   "execution_count": null,
   "metadata": {},
   "outputs": [],
   "source": [
    "p.objectives"
   ]
  },
  {
   "cell_type": "code",
   "execution_count": null,
   "metadata": {},
   "outputs": [],
   "source": [
    "p.pprint()"
   ]
  },
  {
   "cell_type": "code",
   "execution_count": null,
   "metadata": {},
   "outputs": [],
   "source": [
    "p1 = Prg()"
   ]
  },
  {
   "cell_type": "code",
   "execution_count": null,
   "metadata": {},
   "outputs": [],
   "source": [
    "p1.i0 = I('x')\n",
    "p1.i1 = I('x', 'y', 'z')\n",
    "p1.i2 = I('p', 'q')\n",
    "p1.i3 = I('x', 'y', 'z', 'p', 'q', 'y')\n",
    "p1.i4 = I('x', 'y', 'z')\n",
    "p1.i5 = I(size=3)\n",
    "p1.i6 = I(size=800)"
   ]
  },
  {
   "cell_type": "code",
   "execution_count": null,
   "metadata": {},
   "outputs": [],
   "source": [
    "# p1.i5 = p1.i0 * p1.i1\n",
    "p1.v0 = V(p1.i0)\n",
    "p1.v1 = V(p1.i1)\n",
    "p1.v12 = V(p1.i1, nn=False)\n",
    "p1.v2 = V(p1.i0, p1.i2, itg=True)\n",
    "p1.v22 = V(p1.i0, p1.i2, nn=False)\n",
    "p1.v32 = V(p1.i0, bnr=True)"
   ]
  },
  {
   "cell_type": "code",
   "execution_count": null,
   "metadata": {},
   "outputs": [],
   "source": [
    "p1.p0 = P(p1.i0, p1.i5, _=[1, 2, 5])\n",
    "p1.p1 = P(p1.i0, _=[4])\n",
    "p1.p2 = P(p1.i0, p1.i5, _=[6, 8, 3])\n",
    "p1.p3 = P(p1.i0, _=[True])\n",
    "p1.p4 = P(p1.i0, p1.i5, _=[10, 10, 10])\n",
    "p1.p5 = P(p1.i0, p1.i5, _=[4, 2, 7])\n",
    "p1.p6 = P(p1.i1, _=[3, 4, 7])"
   ]
  },
  {
   "cell_type": "code",
   "execution_count": null,
   "metadata": {},
   "outputs": [],
   "source": [
    "p1.f1 = p1.v22 + p1.v2"
   ]
  },
  {
   "cell_type": "code",
   "execution_count": null,
   "metadata": {},
   "outputs": [],
   "source": [
    "p1.f1.pprint(True)"
   ]
  },
  {
   "cell_type": "code",
   "execution_count": null,
   "metadata": {},
   "outputs": [],
   "source": [
    "p1.f2 = p1.v22 - p1.v2\n",
    "p1.f3 = p1.v22 * p1.v2\n",
    "p1.f4 = p1.v22 / p1.v2\n",
    "\n",
    "p1.c1 = p1.v22 == p1.v2\n",
    "p1.c2 = p1.v22 >= p1.v2\n",
    "p1.c3 = p1.v22 <= p1.v2\n",
    "p1.c4 = p1.v22 > p1.v2\n",
    "p1.c5 = p1.v22 < p1.v2\n",
    "p1.c6 = p1.v1 <= p1.p6\n",
    "\n",
    "# p1.pprint(True)"
   ]
  },
  {
   "cell_type": "code",
   "execution_count": null,
   "metadata": {},
   "outputs": [],
   "source": [
    "p1.pprint(True)"
   ]
  },
  {
   "cell_type": "code",
   "execution_count": null,
   "metadata": {},
   "outputs": [],
   "source": [
    "p = Prg()"
   ]
  },
  {
   "cell_type": "code",
   "execution_count": null,
   "metadata": {},
   "outputs": [],
   "source": [
    "p.t1 = I(size=1)\n",
    "p.t2 = I(size=2)\n",
    "p.t4 = I(size=4)"
   ]
  },
  {
   "cell_type": "code",
   "execution_count": null,
   "metadata": {},
   "outputs": [],
   "source": [
    "p.c = V(p.t4)\n",
    "p.s = V(p.t4)\n",
    "p.p = V(p.t4)\n",
    "p.bal = P(p.t4, _=[0, 0, 0, 0])\n",
    "p.bub = P(p.t4, _=[12, 15, 18, 9])\n",
    "p.blb = P(p.t4, _=[3, 3, 3, 3])\n",
    "p.sub = P(p.t2, _=[15, 17])\n",
    "p.slb = P(p.t2, _=[4, 8])\n",
    "p.pub = P(p.t1, _=[50])\n",
    "p.plb = P(p.t1, _=[10])\n",
    "p.pcst = P(p.t4, _=[0.5] * 4)\n",
    "p.bcst = P(p.t4, _=[2] * 4)\n",
    "p.scst = P(p.t4, _=[3] * 4)\n",
    "p.bcnv = P(p.t4, _=[3] * 4)\n",
    "p.scnv = P(p.t4, _=[1] * 4)"
   ]
  },
  {
   "cell_type": "code",
   "execution_count": null,
   "metadata": {},
   "outputs": [],
   "source": [
    "p.cons_bmax = p.c <= p.bub\n",
    "p.cons_bmin = p.c + p.s + p.p >= p.blb\n",
    "p.cons_smax1 = p.s(p.t4[0]) + 3 * p.s(p.t4[1]) <= p.sub(p.t2[0])\n",
    "p.cons_smin1 = p.s(p.t4[0]) + p.s(p.t4[1]) >= p.slb(p.t2[0])\n",
    "p.cons_smax2 = 3 + p.s(p.t4[2]) + p.s(p.t4[3]) <= p.sub(p.t2[1])\n",
    "p.cons_smin2 = p.s(p.t4[2]) + p.s(p.t4[3]) >= p.slb(p.t2[0])\n",
    "p.cons_bal = p.c + p.p - p.s == 0\n",
    "p.cons_pmax = sum(p.p) <= sum(p.pub)\n",
    "\n",
    "p.obj = inf(-3 * sum(p.s) + 0.5 * sum(p.p) + 2 * sum(p.c))\n",
    "\n",
    "\n",
    "# p.pprint()\n",
    "# p.pprint()"
   ]
  },
  {
   "cell_type": "code",
   "execution_count": null,
   "metadata": {},
   "outputs": [],
   "source": [
    "p.t4.__dict__"
   ]
  },
  {
   "cell_type": "code",
   "execution_count": null,
   "metadata": {},
   "outputs": [],
   "source": [
    "p.pprint(True)"
   ]
  },
  {
   "cell_type": "code",
   "execution_count": null,
   "metadata": {},
   "outputs": [],
   "source": [
    "p.opt()"
   ]
  },
  {
   "cell_type": "code",
   "execution_count": null,
   "metadata": {},
   "outputs": [],
   "source": [
    "p.sol()"
   ]
  }
 ],
 "metadata": {
  "kernelspec": {
   "display_name": ".venv",
   "language": "python",
   "name": "python3"
  },
  "language_info": {
   "codemirror_mode": {
    "name": "ipython",
    "version": 3
   },
   "file_extension": ".py",
   "mimetype": "text/x-python",
   "name": "python",
   "nbconvert_exporter": "python",
   "pygments_lexer": "ipython3",
   "version": "3.12.8"
  }
 },
 "nbformat": 4,
 "nbformat_minor": 2
}
