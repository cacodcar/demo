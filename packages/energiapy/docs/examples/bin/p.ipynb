{
 "cells": [
  {
   "cell_type": "code",
   "execution_count": 248,
   "metadata": {},
   "outputs": [],
   "source": [
    "from pyomo.environ import *"
   ]
  },
  {
   "cell_type": "code",
   "execution_count": 249,
   "metadata": {},
   "outputs": [],
   "source": [
    "solver = SolverFactory('gurobi')"
   ]
  },
  {
   "cell_type": "code",
   "execution_count": 250,
   "metadata": {},
   "outputs": [],
   "source": [
    "r = ['solar', 'wind', 'power', 'water', 'hydrogen', 'oxygen']\n",
    "o = ['PV', 'WF', 'PEM']\n",
    "\n",
    "solar = 1.2  # - for power\n",
    "wind = 1.3  # - for power\n",
    "# for hydrogen\n",
    "power = 3.9  # -\n",
    "water = 2.95  # -\n",
    "hydrogen = 1  # +\n",
    "oxygen = 4.7  # +"
   ]
  },
  {
   "cell_type": "code",
   "execution_count": 251,
   "metadata": {},
   "outputs": [],
   "source": [
    "m = ConcreteModel()\n",
    "m.c = Var(['solar', 'wind', 'water'], within=NonNegativeReals)\n",
    "m.d = Var(['hydrogen', 'oxygen'], within=NonNegativeReals)\n",
    "m.p = Var(['power', 'hydrogen', 'oxygen'], within=NonNegativeReals)\n",
    "\n",
    "m.con1 = Constraint(expr=m.p['hydrogen'] - m.d['hydrogen'] == 0)\n",
    "m.con2 = Constraint(expr=m.p['oxygen'] - m.d['oxygen'] == 0)\n",
    "\n",
    "m.con3 = Constraint(expr=m.c['water'] - water * m.p['hydrogen'] == 0)\n",
    "m.con4 = Constraint(expr=m.d['oxygen'] - oxygen * m.p['hydrogen'] == 0)\n",
    "m.con5 = Constraint(expr=m.p['power'] - power * m.p['hydrogen'] == 0)\n",
    "\n",
    "m.con6 = Constraint(\n",
    "    expr=(1 / solar) * m.c['solar'] + (1 / wind) * m.c['wind'] - m.p['power'] == 0\n",
    ")\n",
    "m.con7 = Constraint(expr=m.c['water'] <= 2.6)\n",
    "m.con8 = Constraint(expr=m.c['solar'] <= 0.9)\n",
    "m.con9 = Constraint(expr=m.c['wind'] <= 0.65)\n",
    "m.con10 = Constraint(expr=m.d['oxygen'] <= 1.5)\n",
    "\n",
    "m.obj = Objective(expr=-m.d['hydrogen'])\n",
    "\n",
    "res_m = solver.solve(m)"
   ]
  },
  {
   "cell_type": "code",
   "execution_count": 252,
   "metadata": {},
   "outputs": [
    {
     "name": "stdout",
     "output_type": "stream",
     "text": [
      "hydrogen discharged: 0.3191489361702128\n",
      "oxygen discharged: 1.5\n",
      "water consumed: 0.9414893617021276\n",
      "solar consumed: 0.8936170212765958\n",
      "wind consumed: 0.65\n",
      "power produced: 1.2446808510638299\n"
     ]
    }
   ],
   "source": [
    "print('hydrogen discharged:', m.d['hydrogen']())\n",
    "print('oxygen discharged:', m.d['oxygen']())\n",
    "print('water consumed:', m.c['water']())\n",
    "print('solar consumed:', m.c['solar']())\n",
    "print('wind consumed:', m.c['wind']())\n",
    "print('power produced:', m.p['power']())"
   ]
  },
  {
   "cell_type": "code",
   "execution_count": 253,
   "metadata": {},
   "outputs": [],
   "source": [
    "w = ConcreteModel()\n",
    "# p1 - PV + PEM\n",
    "# p2 - WF + PEM\n",
    "w.x_ = Var(['p1', 'p2'], within=NonNegativeReals)\n",
    "\n",
    "w.con1 = Constraint(expr=w.x_['p1'] <= 0.9 / (power * solar))\n",
    "w.con2 = Constraint(expr=w.x_['p2'] <= 0.65 / (power * wind))\n",
    "w.con3 = Constraint(expr=w.x_['p1'] + w.x_['p2'] <= min(2.6 / water, 1.5 / oxygen))\n",
    "\n",
    "w.obj = Objective(expr=-(w.x_['p1'] + w.x_['p2']))\n",
    "res_w = solver.solve(w)"
   ]
  },
  {
   "cell_type": "code",
   "execution_count": 257,
   "metadata": {},
   "outputs": [],
   "source": [
    "d_hydrogen = w.x_['p1']() + w.x_['p2']()\n",
    "d_oxygen = oxygen * (w.x_['p1']() + w.x_['p2']())\n",
    "c_water = water * (w.x_['p1']() + w.x_['p2']())\n",
    "c_solar = (power * solar) * w.x_['p1']()\n",
    "c_wind = (power * wind) * w.x_['p2']()\n",
    "p_power = power * (w.x_['p1']() + w.x_['p2']())"
   ]
  },
  {
   "cell_type": "code",
   "execution_count": 258,
   "metadata": {},
   "outputs": [
    {
     "name": "stdout",
     "output_type": "stream",
     "text": [
      "hydrogen discharged: 0.3191489361702127\n",
      "oxygen discharged: 1.4999999999999998\n",
      "water consumed: 0.9414893617021276\n",
      "solar consumed: 0.8936170212765956\n",
      "wind consumed: 0.65\n",
      "power produced: 1.2446808510638296\n"
     ]
    }
   ],
   "source": [
    "print('hydrogen discharged:', d_hydrogen)\n",
    "print('oxygen discharged:', d_oxygen)\n",
    "print('water consumed:', c_water)\n",
    "print('solar consumed:', c_solar)\n",
    "print('wind consumed:', c_wind)\n",
    "print('power produced:', p_power)"
   ]
  }
 ],
 "metadata": {
  "kernelspec": {
   "display_name": ".venv",
   "language": "python",
   "name": "python3"
  },
  "language_info": {
   "codemirror_mode": {
    "name": "ipython",
    "version": 3
   },
   "file_extension": ".py",
   "mimetype": "text/x-python",
   "name": "python",
   "nbconvert_exporter": "python",
   "pygments_lexer": "ipython3",
   "version": "3.12.6"
  }
 },
 "nbformat": 4,
 "nbformat_minor": 2
}
