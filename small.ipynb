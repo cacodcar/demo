{
 "cells": [
  {
   "cell_type": "markdown",
   "metadata": {},
   "source": [
    "## Small energiapy Example"
   ]
  },
  {
   "cell_type": "code",
   "execution_count": 17,
   "metadata": {},
   "outputs": [],
   "source": [
    "from energiapy.components.measure.basis import Basis\n",
    "from energiapy.components.space.linkage import Link\n",
    "from energiapy.components.space.location import Loc\n",
    "from energiapy.components.time.period import Period\n",
    "from energiapy.components.commodity.resource import Resource\n",
    "from energiapy.components.commodity.cash import Cash\n",
    "from energiapy.components.impact.environ import Environ\n",
    "from energiapy.components.impact.social import Social\n",
    "from energiapy.components.use.land import Land\n",
    "from energiapy.represent.model import Model\n",
    "from energiapy.components.operation.process import Process"
   ]
  },
  {
   "cell_type": "markdown",
   "metadata": {},
   "source": [
    "## The Model\n",
    "\n",
    "The model is the main collection object. Components are added to the Model which also aggregates the mathematical program"
   ]
  },
  {
   "cell_type": "code",
   "execution_count": 18,
   "metadata": {},
   "outputs": [],
   "source": [
    "m = Model()"
   ]
  },
  {
   "cell_type": "markdown",
   "metadata": {},
   "source": [
    "## Define the Basis"
   ]
  },
  {
   "cell_type": "code",
   "execution_count": 19,
   "metadata": {},
   "outputs": [],
   "source": [
    "m.mw = Basis(label='Mega Watts')"
   ]
  },
  {
   "cell_type": "markdown",
   "metadata": {},
   "source": [
    "## A single location\n"
   ]
  },
  {
   "cell_type": "code",
   "execution_count": 20,
   "metadata": {},
   "outputs": [],
   "source": [
    "m.place = Loc()"
   ]
  },
  {
   "cell_type": "markdown",
   "metadata": {},
   "source": [
    "## Construct the Temporal Horizon "
   ]
  },
  {
   "cell_type": "code",
   "execution_count": 21,
   "metadata": {},
   "outputs": [],
   "source": [
    "m.quar = Period(label='quarter')\n",
    "m.year = 4 * m.quar"
   ]
  },
  {
   "cell_type": "markdown",
   "metadata": {},
   "source": [
    "## Declare the currency "
   ]
  },
  {
   "cell_type": "code",
   "execution_count": 22,
   "metadata": {},
   "outputs": [],
   "source": [
    "m.money = Cash(m.place, label='USD')"
   ]
  },
  {
   "cell_type": "code",
   "execution_count": 23,
   "metadata": {},
   "outputs": [],
   "source": [
    "m.money.spend(m.quar) <= 300000"
   ]
  },
  {
   "cell_type": "markdown",
   "metadata": {},
   "source": [
    "## Declare Resources "
   ]
  },
  {
   "cell_type": "code",
   "execution_count": 24,
   "metadata": {},
   "outputs": [],
   "source": [
    "m.solar = Resource(basis=m.mw, label='Solar Power')\n",
    "m.solar.buy() <= [0.6, 0.8, 0.9, 0.7]\n",
    "\n",
    "m.wind = Resource(basis=m.mw, label='Wind Power')\n",
    "m.wind.buy() <= [0.9, 0.8, 0.5, 0.7]\n",
    "\n",
    "m.power = Resource(basis=m.mw, label='Power')\n",
    "m.power.sell() >= [0.6, 0.7, 0.8, 0.3]"
   ]
  },
  {
   "cell_type": "markdown",
   "metadata": {},
   "source": [
    "## Define Processes "
   ]
  },
  {
   "cell_type": "code",
   "execution_count": 25,
   "metadata": {},
   "outputs": [],
   "source": [
    "m.wf = Process(basis=m.mw, label='Wind Farm')\n",
    "m.wf.setup() <= 100\n",
    "m.wf.conv(m.power) == -m.wind\n",
    "m.wf.setup.spend(m.money) == 1302182\n",
    "m.wf.operate.spend(m.money) == 2000"
   ]
  },
  {
   "cell_type": "code",
   "execution_count": 26,
   "metadata": {},
   "outputs": [],
   "source": [
    "m.pv = Process(basis=m.mw, label='Solar Farm')\n",
    "m.pv.setup() <= 100\n",
    "m.pv.conv(m.power) == -m.wind\n",
    "m.pv.setup.spend(m.money) == 567000\n",
    "m.pv.operate.spend(m.money) == 90000"
   ]
  },
  {
   "cell_type": "code",
   "execution_count": null,
   "metadata": {},
   "outputs": [],
   "source": [
    "m.money.spend.opt()"
   ]
  },
  {
   "cell_type": "code",
   "execution_count": null,
   "metadata": {},
   "outputs": [],
   "source": [
    "m.pprint()"
   ]
  },
  {
   "cell_type": "code",
   "execution_count": null,
   "metadata": {},
   "outputs": [],
   "source": [
    "m.program"
   ]
  },
  {
   "cell_type": "code",
   "execution_count": null,
   "metadata": {},
   "outputs": [],
   "source": [
    "m.prg.opt()"
   ]
  },
  {
   "cell_type": "code",
   "execution_count": null,
   "metadata": {},
   "outputs": [],
   "source": [
    "m.prg.sol()"
   ]
  }
 ],
 "metadata": {
  "kernelspec": {
   "display_name": ".venv",
   "language": "python",
   "name": "python3"
  },
  "language_info": {
   "codemirror_mode": {
    "name": "ipython",
    "version": 3
   },
   "file_extension": ".py",
   "mimetype": "text/x-python",
   "name": "python",
   "nbconvert_exporter": "python",
   "pygments_lexer": "ipython3",
   "version": "3.12.5"
  }
 },
 "nbformat": 4,
 "nbformat_minor": 2
}
