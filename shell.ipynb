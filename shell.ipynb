{
 "cells": [
  {
   "cell_type": "markdown",
   "metadata": {},
   "source": [
    "# An Illustrative Example "
   ]
  },
  {
   "cell_type": "markdown",
   "metadata": {},
   "source": [
    "## Import Modules \n",
    "\n",
    "energiapy is a component-based data-driven modeling platform.\n",
    "\n",
    "Component are categorized into:\n",
    "\n",
    "Scope components which define the boundaries and extent of the system: \n",
    "\n",
    "1. Basis - Provides a scale to the data being provided \n",
    "2. Loc - A location \n",
    "3. Link - A linkage between two locations \n",
    "4. Period - A time period, collections of these make a temporal scale \n",
    "\n",
    "Commodities which flow through the system: \n",
    "\n",
    "1. Resource \n",
    "2. Material (same as Resource)\n",
    "3. Land \n",
    "4. Cash (same as Econ)\n",
    "\n",
    "Operations which perform actions that elicit flow: \n",
    "\n",
    "1. Process - Convert one Resource into another\n",
    "2. Storage - Store Resource to withdraw at a later time \n",
    "3. Transit - Transport Resource from one location to another \n",
    "\n",
    "Impact which is a consequence of an Action or a Flow: \n",
    "\n",
    "1. Econ - Economic (same as Cash)\n",
    "2. Environ - Environmental \n",
    "3. Social \n"
   ]
  },
  {
   "cell_type": "code",
   "execution_count": 1,
   "metadata": {},
   "outputs": [],
   "source": [
    "from energiapy.components.measure.basis import Basis\n",
    "from energiapy.components.commodity.resource import Resource\n",
    "from energiapy.components.commodity.misc import Cash, Land, Material\n",
    "from energiapy.components.impact.categories import Econ\n",
    "from energiapy.components.impact.categories import Environ\n",
    "from energiapy.components.impact.categories import Social\n",
    "from energiapy.components.temporal.period import Period\n",
    "from energiapy.components.spatial.linkage import Link\n",
    "from energiapy.components.spatial.location import Loc\n",
    "from energiapy.modeling.model import Model\n",
    "from energiapy.components.operation.process import Process\n",
    "from energiapy.components.game.player import Player"
   ]
  },
  {
   "cell_type": "code",
   "execution_count": 2,
   "metadata": {},
   "outputs": [],
   "source": [
    "m = Model()"
   ]
  },
  {
   "cell_type": "markdown",
   "metadata": {},
   "source": [
    "## Basis \n",
    "\n",
    "These can be declared relationally "
   ]
  },
  {
   "cell_type": "code",
   "execution_count": 3,
   "metadata": {},
   "outputs": [],
   "source": [
    "m.mw = Basis(label='Megawatt')\n",
    "m.kw = m.mw / 1000\n",
    "m.g = Basis(label='Gram')\n",
    "m.kg = 1000 * m.g\n",
    "m.ton = m.kg * 1000\n",
    "m.mton = m.ton * 1000\n",
    "m.mile = Basis(label='Mile')\n",
    "m.km = m.mile * 1.60934\n",
    "m.acre = Basis(label='Acre')"
   ]
  },
  {
   "cell_type": "markdown",
   "metadata": {},
   "source": [
    ".howmany() is a helpful feature to see how these are related "
   ]
  },
  {
   "cell_type": "code",
   "execution_count": null,
   "metadata": {},
   "outputs": [],
   "source": [
    "m.ton.howmany(m.g)"
   ]
  },
  {
   "cell_type": "code",
   "execution_count": null,
   "metadata": {},
   "outputs": [],
   "source": [
    "m.mw.howmany(m.kw)"
   ]
  },
  {
   "cell_type": "markdown",
   "metadata": {},
   "source": [
    "## Temporal Scales\n",
    "\n",
    "These are generated based on the temporal periods declared. "
   ]
  },
  {
   "cell_type": "code",
   "execution_count": 6,
   "metadata": {},
   "outputs": [],
   "source": [
    "m.h = Period()\n",
    "m.d = m.h * 24\n",
    "m.y = m.d * 365\n",
    "# m.w = m.d * 7\n",
    "# m.s = Period()"
   ]
  },
  {
   "cell_type": "markdown",
   "metadata": {},
   "source": [
    ".howmany() can be used for these as well "
   ]
  },
  {
   "cell_type": "code",
   "execution_count": 7,
   "metadata": {},
   "outputs": [],
   "source": [
    "m.h.of"
   ]
  },
  {
   "cell_type": "code",
   "execution_count": null,
   "metadata": {},
   "outputs": [],
   "source": [
    "m.y.howmany(m.h)"
   ]
  },
  {
   "cell_type": "markdown",
   "metadata": {},
   "source": [
    "These are all collected in model.time"
   ]
  },
  {
   "cell_type": "code",
   "execution_count": null,
   "metadata": {},
   "outputs": [],
   "source": [
    "m.time.periods"
   ]
  },
  {
   "cell_type": "markdown",
   "metadata": {},
   "source": [
    "The scale defined by the sparsest time period becomes the horizon of the problem "
   ]
  },
  {
   "cell_type": "code",
   "execution_count": null,
   "metadata": {},
   "outputs": [],
   "source": [
    "m.time.sparsest"
   ]
  },
  {
   "cell_type": "code",
   "execution_count": null,
   "metadata": {},
   "outputs": [],
   "source": [
    "m.time.horizon"
   ]
  },
  {
   "cell_type": "markdown",
   "metadata": {},
   "source": [
    "It can be directly accessed as well "
   ]
  },
  {
   "cell_type": "code",
   "execution_count": null,
   "metadata": {},
   "outputs": [],
   "source": [
    "m.horizon"
   ]
  },
  {
   "cell_type": "code",
   "execution_count": null,
   "metadata": {},
   "outputs": [],
   "source": [
    "m.time.tree"
   ]
  },
  {
   "cell_type": "code",
   "execution_count": null,
   "metadata": {},
   "outputs": [],
   "source": [
    "m.time.find(8760)"
   ]
  },
  {
   "cell_type": "markdown",
   "metadata": {},
   "source": [
    "The densest discretization can also be found"
   ]
  },
  {
   "cell_type": "code",
   "execution_count": null,
   "metadata": {},
   "outputs": [],
   "source": [
    "m.time.densest"
   ]
  },
  {
   "cell_type": "markdown",
   "metadata": {},
   "source": [
    "## Locations "
   ]
  },
  {
   "cell_type": "markdown",
   "metadata": {},
   "source": [
    "Locations can be nested. For example, Houston (htown) and College Station (cstat) for Texas (tx) "
   ]
  },
  {
   "cell_type": "code",
   "execution_count": 10,
   "metadata": {},
   "outputs": [],
   "source": [
    "m.htown = Loc()\n",
    "m.cstat = Loc()\n",
    "m.tx = m.htown + m.cstat\n",
    "m.sd = Loc()\n",
    "m.la = Loc()\n",
    "m.cali = m.sd + m.la\n",
    "m.usa = m.tx + m.cali\n",
    "m.ath = Loc()\n",
    "m.amd = Loc()\n",
    "m.eu = m.ath + m.amd\n",
    "m.pune = Loc()\n",
    "m.goa = Loc()\n",
    "m.ind = m.pune + m.goa\n",
    "m.earth = m.usa + m.eu + m.ind"
   ]
  },
  {
   "cell_type": "markdown",
   "metadata": {},
   "source": [
    "Use the tree feature to determine how locations are nested "
   ]
  },
  {
   "cell_type": "code",
   "execution_count": 11,
   "metadata": {},
   "outputs": [
    {
     "data": {
      "text/plain": [
       "{cali: {la: {}, sd: {}}, tx: {cstat: {}, htown: {}}}"
      ]
     },
     "execution_count": 11,
     "metadata": {},
     "output_type": "execute_result"
    }
   ],
   "source": [
    "m.usa.tree()"
   ]
  },
  {
   "cell_type": "markdown",
   "metadata": {},
   "source": [
    "All spatial components are stored in model.space "
   ]
  },
  {
   "cell_type": "code",
   "execution_count": null,
   "metadata": {},
   "outputs": [],
   "source": [
    "m.space.locs"
   ]
  },
  {
   "cell_type": "markdown",
   "metadata": {},
   "source": [
    "## Linkages "
   ]
  },
  {
   "cell_type": "markdown",
   "metadata": {},
   "source": [
    "Linkages can be declared between locations "
   ]
  },
  {
   "cell_type": "code",
   "execution_count": 640,
   "metadata": {},
   "outputs": [],
   "source": [
    "m.grid = Link(source=m.cali, sink=m.tx, dist=1400, basis=m.mile)\n",
    "m.sea = Link(source=m.usa, sink=m.eu, dist=10000, basis=m.km, bi=True)"
   ]
  },
  {
   "cell_type": "markdown",
   "metadata": {},
   "source": [
    "Note that locations are strictly uni directional. In the example above. m.sea_ is generated in the opposite direction"
   ]
  },
  {
   "cell_type": "code",
   "execution_count": null,
   "metadata": {},
   "outputs": [],
   "source": [
    "m.sea.source, m.sea.sink"
   ]
  },
  {
   "cell_type": "code",
   "execution_count": null,
   "metadata": {},
   "outputs": [],
   "source": [
    "m.sea_.source, m.sea_.sink"
   ]
  },
  {
   "cell_type": "markdown",
   "metadata": {},
   "source": [
    "Determine if locations are connected "
   ]
  },
  {
   "cell_type": "code",
   "execution_count": null,
   "metadata": {},
   "outputs": [],
   "source": [
    "m.cali.connected(m.tx)"
   ]
  },
  {
   "cell_type": "markdown",
   "metadata": {},
   "source": [
    "Print out the links using .links "
   ]
  },
  {
   "cell_type": "code",
   "execution_count": null,
   "metadata": {},
   "outputs": [],
   "source": [
    "m.usa.links(m.eu)"
   ]
  },
  {
   "cell_type": "markdown",
   "metadata": {},
   "source": [
    "Generate a reverse link if necessary using negation "
   ]
  },
  {
   "cell_type": "code",
   "execution_count": null,
   "metadata": {},
   "outputs": [],
   "source": [
    "m.grid_back = -m.grid\n",
    "m.grid_back.source, m.grid_back.sink"
   ]
  },
  {
   "cell_type": "markdown",
   "metadata": {},
   "source": [
    "## Cash "
   ]
  },
  {
   "cell_type": "markdown",
   "metadata": {},
   "source": [
    "Cash is also economic impact (Econ)\n",
    "The exchange rates can be set "
   ]
  },
  {
   "cell_type": "code",
   "execution_count": 646,
   "metadata": {},
   "outputs": [],
   "source": [
    "m.usd = Cash(m.usa)\n",
    "m.eur = Cash(m.eu)\n",
    "m.inr = Cash(m.ind)\n",
    "m.eur == m.usd * 0.92\n",
    "m.inr == m.usd / 84.08"
   ]
  },
  {
   "cell_type": "markdown",
   "metadata": {},
   "source": [
    "Note that all locations with a location adopt the same currency. Texas, for example, has the currency (USD) given that it is in the US"
   ]
  },
  {
   "cell_type": "code",
   "execution_count": null,
   "metadata": {},
   "outputs": [],
   "source": [
    "m.tx.currency"
   ]
  },
  {
   "cell_type": "markdown",
   "metadata": {},
   "source": [
    "All non Scope components can be modeled \n",
    "\n",
    "Here we are limiting the amount of USD that can be spent"
   ]
  },
  {
   "cell_type": "code",
   "execution_count": 12,
   "metadata": {},
   "outputs": [
    {
     "ename": "AttributeError",
     "evalue": "'Model' object has no attribute 'usd'",
     "output_type": "error",
     "traceback": [
      "\u001b[1;31m---------------------------------------------------------------------------\u001b[0m",
      "\u001b[1;31mAttributeError\u001b[0m                            Traceback (most recent call last)",
      "Cell \u001b[1;32mIn[12], line 1\u001b[0m\n\u001b[1;32m----> 1\u001b[0m \u001b[43mm\u001b[49m\u001b[38;5;241;43m.\u001b[39;49m\u001b[43musd\u001b[49m\u001b[38;5;241m.\u001b[39mspend(m\u001b[38;5;241m.\u001b[39musa, m\u001b[38;5;241m.\u001b[39my) \u001b[38;5;241m>\u001b[39m\u001b[38;5;241m=\u001b[39m \u001b[38;5;241m1e9\u001b[39m\n\u001b[0;32m      2\u001b[0m m\u001b[38;5;241m.\u001b[39musd\u001b[38;5;241m.\u001b[39mpprint()\n",
      "\u001b[1;31mAttributeError\u001b[0m: 'Model' object has no attribute 'usd'"
     ]
    }
   ],
   "source": [
    "m.usd.spend(m.usa, m.y) >= 1e9\n",
    "m.usd.pprint()"
   ]
  },
  {
   "cell_type": "markdown",
   "metadata": {},
   "source": [
    "If a temporal disposition is not provided. The horizon is assumed. The year in this case"
   ]
  },
  {
   "cell_type": "code",
   "execution_count": null,
   "metadata": {},
   "outputs": [],
   "source": [
    "m.usd.spend(m.eu) <= 1e9\n",
    "m.usd.pprint()"
   ]
  },
  {
   "cell_type": "markdown",
   "metadata": {},
   "source": [
    "Here, we are specifying that not more than 5 usd can be spent in the EU on any particular day  "
   ]
  },
  {
   "cell_type": "code",
   "execution_count": 650,
   "metadata": {},
   "outputs": [],
   "source": [
    "m.usd.spend(m.eu, m.d) <= 5"
   ]
  },
  {
   "cell_type": "markdown",
   "metadata": {},
   "source": [
    "Whereas, here we are providing a different value for everyday "
   ]
  },
  {
   "cell_type": "code",
   "execution_count": 651,
   "metadata": {},
   "outputs": [],
   "source": [
    "m.usd.spend(m.tx) <= list(range(365))"
   ]
  },
  {
   "cell_type": "markdown",
   "metadata": {},
   "source": [
    "The temporal disposition can be specified. But given that the length of the values is 365, the constraint is written for each day"
   ]
  },
  {
   "cell_type": "markdown",
   "metadata": {},
   "source": [
    "The program for the entire model can be written out anytime "
   ]
  },
  {
   "cell_type": "code",
   "execution_count": null,
   "metadata": {},
   "outputs": [],
   "source": [
    "m.pprint()"
   ]
  },
  {
   "cell_type": "markdown",
   "metadata": {},
   "source": [
    "The full program (with parameter values) can be printed using model.pprint(True)"
   ]
  },
  {
   "cell_type": "code",
   "execution_count": 653,
   "metadata": {},
   "outputs": [],
   "source": [
    "# m.pprint(True)"
   ]
  },
  {
   "cell_type": "markdown",
   "metadata": {},
   "source": [
    "Some more example constraints are provided below "
   ]
  },
  {
   "cell_type": "code",
   "execution_count": 654,
   "metadata": {},
   "outputs": [],
   "source": [
    "# m.usd.earn(m.y) > 20\n",
    "# m.eur.spend(m.ath) <= 1e9\n",
    "# m.eur.spend(m.amd) < 4 * 1e8\n",
    "# m.usd.earn(m.htown) >= 4 * 1e5\n",
    "# m.usd.earn(m.cstat) >= 1e5\n",
    "# m.inr.spend() <= 4 * 1e9"
   ]
  },
  {
   "cell_type": "markdown",
   "metadata": {},
   "source": [
    "All impacts are stored in model.impact "
   ]
  },
  {
   "cell_type": "code",
   "execution_count": null,
   "metadata": {},
   "outputs": [],
   "source": [
    "m.impact.econs"
   ]
  },
  {
   "cell_type": "markdown",
   "metadata": {},
   "source": [
    "## Emission "
   ]
  },
  {
   "cell_type": "markdown",
   "metadata": {},
   "source": [
    "Similarly Emissions can be declared "
   ]
  },
  {
   "cell_type": "code",
   "execution_count": null,
   "metadata": {},
   "outputs": [],
   "source": [
    "m.gwp = Environ()\n",
    "m.eut = Environ()\n",
    "m.impact.environs"
   ]
  },
  {
   "cell_type": "markdown",
   "metadata": {},
   "source": [
    "And bound "
   ]
  },
  {
   "cell_type": "code",
   "execution_count": 657,
   "metadata": {},
   "outputs": [],
   "source": [
    "# m.gwp.emit(m.eu, m.y) <= 3 * 1e5\n",
    "m.gwp.emit(m.ind, m.y) <= 4 * 1e5\n",
    "m.gwp.emit(m.usa, m.y) <= 3 * 1e5\n",
    "m.gwp.abate(m.usa, m.y) >= 6 * 1e3"
   ]
  },
  {
   "cell_type": "markdown",
   "metadata": {},
   "source": [
    "## Social Impact"
   ]
  },
  {
   "cell_type": "markdown",
   "metadata": {},
   "source": [
    "Social impacts are treated in the same vein "
   ]
  },
  {
   "cell_type": "code",
   "execution_count": null,
   "metadata": {},
   "outputs": [],
   "source": [
    "m.mrh = Social(label='Median Risk Hours')\n",
    "m.impact.socials"
   ]
  },
  {
   "cell_type": "code",
   "execution_count": 659,
   "metadata": {},
   "outputs": [],
   "source": [
    "m.mrh.benefit(m.eu, m.y) <= 3 * 1e5\n",
    "m.mrh.benefit(m.ind, m.y) <= 4 * 1e5\n",
    "m.mrh.detriment(m.htown, m.y) <= 3 * 1e5"
   ]
  },
  {
   "cell_type": "code",
   "execution_count": null,
   "metadata": {},
   "outputs": [],
   "source": [
    "m.mrh.pprint(True)"
   ]
  },
  {
   "cell_type": "markdown",
   "metadata": {},
   "source": [
    "## Resource "
   ]
  },
  {
   "cell_type": "markdown",
   "metadata": {},
   "source": [
    "Resources are the primary commodity. It is helpful to provide a basis "
   ]
  },
  {
   "cell_type": "code",
   "execution_count": 661,
   "metadata": {},
   "outputs": [],
   "source": [
    "m.h2 = Resource(basis=m.ton, label='Hydrogen')"
   ]
  },
  {
   "cell_type": "markdown",
   "metadata": {},
   "source": [
    "Every component has a positive and negative flow "
   ]
  },
  {
   "cell_type": "code",
   "execution_count": null,
   "metadata": {},
   "outputs": [],
   "source": [
    "m.h2.buy"
   ]
  },
  {
   "cell_type": "code",
   "execution_count": null,
   "metadata": {},
   "outputs": [],
   "source": [
    "m.h2.sell"
   ]
  },
  {
   "cell_type": "code",
   "execution_count": null,
   "metadata": {},
   "outputs": [],
   "source": [
    "m.h2.sell.neg"
   ]
  },
  {
   "cell_type": "code",
   "execution_count": null,
   "metadata": {},
   "outputs": [],
   "source": [
    "m.h2.flows"
   ]
  },
  {
   "cell_type": "markdown",
   "metadata": {},
   "source": [
    "Every flow has a consequence.\n",
    "\n",
    "Which can be negative, such as expenditure on purchase "
   ]
  },
  {
   "cell_type": "code",
   "execution_count": null,
   "metadata": {},
   "outputs": [],
   "source": [
    "m.h2.buy.spend"
   ]
  },
  {
   "cell_type": "markdown",
   "metadata": {},
   "source": [
    "Or, positive. Such as credits given to a buyer for purchasing a particular good "
   ]
  },
  {
   "cell_type": "code",
   "execution_count": null,
   "metadata": {},
   "outputs": [],
   "source": [
    "m.h2.buy.earn"
   ]
  },
  {
   "cell_type": "markdown",
   "metadata": {},
   "source": [
    "Every flow or consequence can be bound"
   ]
  },
  {
   "cell_type": "code",
   "execution_count": 668,
   "metadata": {},
   "outputs": [],
   "source": [
    "m.h2.sell(m.ind) >= 1e6"
   ]
  },
  {
   "cell_type": "code",
   "execution_count": null,
   "metadata": {},
   "outputs": [],
   "source": [
    "m.h2.pprint()"
   ]
  },
  {
   "cell_type": "markdown",
   "metadata": {},
   "source": [
    "However, providing a value (==). Makes this a calculation "
   ]
  },
  {
   "cell_type": "code",
   "execution_count": 670,
   "metadata": {},
   "outputs": [],
   "source": [
    "m.h2.buy.spend(m.usd, m.usa, m.y) == 33\n",
    "m.h2.buy.emit(m.gwp) == 20"
   ]
  },
  {
   "cell_type": "code",
   "execution_count": null,
   "metadata": {},
   "outputs": [],
   "source": [
    "m.h2.pprint()"
   ]
  },
  {
   "cell_type": "code",
   "execution_count": 672,
   "metadata": {},
   "outputs": [],
   "source": [
    "# parameter\n",
    "# m.h2.sell_emit(m.eut) = 10"
   ]
  },
  {
   "cell_type": "markdown",
   "metadata": {},
   "source": [
    "Some more constraints "
   ]
  },
  {
   "cell_type": "code",
   "execution_count": 673,
   "metadata": {},
   "outputs": [],
   "source": [
    "# sum(p.sell(m.h2, m.ind, t) for t in p.time)\n",
    "m.h2.sell() >= 3 * 1e6\n",
    "m.h2.sell.spend(m.inr, m.ind) == 2\n",
    "m.h2.sell.spend(m.usd, m.usa) == 2.5\n",
    "# This shows the price being entered is in USD\n",
    "# converted to EUR as the location is given as the EU\n",
    "m.h2.sell.spend(m.usd, m.eu) == 1.5\n",
    "\n",
    "# m.gwp.emit(m.h2) <= 1e6\n",
    "\n",
    "m.pow = Resource(basis=m.mw, label='Power')\n",
    "\n",
    "# m.gwp.emit(m.eu) == [5, 5, 6]\n",
    "m.gwp.emit(m.ind) == list(range(365))\n",
    "m.gwp.emit(m.usa) == 3\n",
    "\n",
    "m.sun = Resource(basis=m.mw, label='Solar')\n",
    "m.wind = Resource(basis=m.mw, label='Wind')\n",
    "m.ng = Resource(basis=m.ton, label='Natural Gas')\n",
    "\n",
    "\n",
    "m.ng.buy(m.usa) <= 1e6\n",
    "m.ng.buy(m.tx) == 1e5  # tx needs to buy exactly 100,000 tons\n",
    "m.ng.buy(m.eu) <= 1e6\n",
    "m.ng.buy(m.ind) <= 1e6\n",
    "\n",
    "\n",
    "m.o2 = Resource(basis=m.ton, label='Oxygen')\n",
    "m.h2o = Resource(m.ton, label='Water')\n",
    "# this applies everywhere\n",
    "m.h2o.buy.spend(m.usd) == 0.5\n",
    "# these are only at location\n",
    "# the rest retain the global value provided\n",
    "m.h2o.buy.spend(m.usd, m.usa) == 1\n",
    "# m.h2o.buy.spend(m.ath) == 0.4\n",
    "\n",
    "m.co2 = Resource(m.ton, label='Carbon Dioxide')\n",
    "m.co2.sell.emit(m.gwp) == 100\n",
    "m.co2.sell.emit(m.eut) == 100"
   ]
  },
  {
   "cell_type": "markdown",
   "metadata": {},
   "source": [
    "## Material and Land Use"
   ]
  },
  {
   "cell_type": "markdown",
   "metadata": {},
   "source": [
    "Materials and Land are essentially resources but land cannot be transported"
   ]
  },
  {
   "cell_type": "code",
   "execution_count": 674,
   "metadata": {},
   "outputs": [],
   "source": [
    "m.steel = Resource(m.ton, label='Steel')\n",
    "m.steel.buy.emit(m.gwp) == 10\n",
    "m.cement = Resource(m.ton, label='Cement')"
   ]
  },
  {
   "cell_type": "code",
   "execution_count": 675,
   "metadata": {},
   "outputs": [],
   "source": [
    "m.sand = Land(m.acre, label='Sand')\n",
    "m.farm = Land(m.acre)"
   ]
  },
  {
   "cell_type": "markdown",
   "metadata": {},
   "source": [
    "Their use can be bound as well "
   ]
  },
  {
   "cell_type": "code",
   "execution_count": 676,
   "metadata": {},
   "outputs": [],
   "source": [
    "m.sand.use(m.usa, m.y) <= 1e6"
   ]
  },
  {
   "cell_type": "markdown",
   "metadata": {},
   "source": [
    "They can be forced to be disposed "
   ]
  },
  {
   "cell_type": "code",
   "execution_count": null,
   "metadata": {},
   "outputs": [],
   "source": [
    "m.steel.dispose(m.usa, m.y) >= 1e6\n",
    "m.steel.pprint()"
   ]
  },
  {
   "cell_type": "markdown",
   "metadata": {},
   "source": [
    "Check the flows and consequences of any component"
   ]
  },
  {
   "cell_type": "code",
   "execution_count": null,
   "metadata": {},
   "outputs": [],
   "source": [
    "m.steel.flows"
   ]
  },
  {
   "cell_type": "markdown",
   "metadata": {},
   "source": [
    "## Process "
   ]
  },
  {
   "cell_type": "code",
   "execution_count": 679,
   "metadata": {},
   "outputs": [],
   "source": [
    "m.pem = Process(label='PEM Electrolyzer', basis=m.ton)"
   ]
  },
  {
   "cell_type": "markdown",
   "metadata": {},
   "source": [
    "Processes can be given a capacity limit "
   ]
  },
  {
   "cell_type": "code",
   "execution_count": 680,
   "metadata": {},
   "outputs": [],
   "source": [
    "m.pem.setup(m.usa) <= 1000"
   ]
  },
  {
   "cell_type": "code",
   "execution_count": 681,
   "metadata": {},
   "outputs": [],
   "source": [
    "# m.pem.setup.use.emit(m.h2, m.gwp, m.usa) == 30"
   ]
  },
  {
   "cell_type": "markdown",
   "metadata": {},
   "source": [
    "Their material and land use can be set "
   ]
  },
  {
   "cell_type": "code",
   "execution_count": null,
   "metadata": {},
   "outputs": [],
   "source": [
    "m.pem.setup.use(m.steel) == 3\n",
    "m.pem.pprint()"
   ]
  },
  {
   "cell_type": "markdown",
   "metadata": {},
   "source": [
    "Related expenditure can be provided "
   ]
  },
  {
   "cell_type": "code",
   "execution_count": 683,
   "metadata": {},
   "outputs": [],
   "source": [
    "m.pem.setup.spend(m.usd, m.usa) == 1e6\n",
    "# m.pem.setup.spend(m.eur, m.eu) == list(range(8760))\n",
    "m.pem.setup.spend(m.inr, m.ind) == 1e6\n",
    "m.pem.operate.spend(m.usd, m.usa) == 1e3"
   ]
  },
  {
   "cell_type": "markdown",
   "metadata": {},
   "source": [
    "Conversion balance can be provided for each process \n",
    "\n",
    "As also operational time (lag), setup time, etc. "
   ]
  },
  {
   "cell_type": "code",
   "execution_count": null,
   "metadata": {},
   "outputs": [],
   "source": [
    "m.pem.conv(m.h2) == -0.4 * m.pow + 0.8 * m.o2\n",
    "m.pem.conv(m.h2) == -0.2 * m.h2o\n",
    "m.pem.setup(m.usa) >= 10\n",
    "m.pem.operate.time = 2 * m.h\n",
    "# m.pem.life == 20 * m.y\n",
    "# m.pem.use(m.farm) == (200, 300)\n",
    "# m.pem.setup.time = 30 * m.d\n",
    "# m.pem.consume(m.pow) <= 30\n",
    "# m.pem.produce(m.o2) >= 40\n",
    "m.pem.pprint()"
   ]
  },
  {
   "cell_type": "code",
   "execution_count": null,
   "metadata": {},
   "outputs": [],
   "source": [
    "m.program.pem_conv.pprint(True)"
   ]
  },
  {
   "cell_type": "code",
   "execution_count": null,
   "metadata": {},
   "outputs": [],
   "source": [
    "# m.wf = Process(label = 'Wind Farm')\n",
    "# m.wf.life(m.y) = 50\n",
    "# m.wf(m.pow) = 1.3*m.wind\n",
    "# m.wf.capex(m.usa) = 1e6\n",
    "# m.wf.capex(m.eu) = [1e6, 0.95*1e6, 0.9*1e6]\n",
    "# m.wf.capex(m.ind) = 1e6\n",
    "# # bounds are summed for wfs across at all locations\n",
    "# m.wf.cap() >= 1000\n",
    "# m.wf.cap() <= 10\n",
    "# m.wf.dispose(m.y) <= [100, 200, 300]\n",
    "# m.wf.op(m.tx) = # variable intermittency data a\n",
    "# m.wf.op(m.cali) = # variable intermittency data b\n",
    "# m.wf.op(m.ath) = # variable intermittency data c\n",
    "# m.wf.use() = 1.6*m.steel + 0.3*m.cement\n",
    "\n",
    "# m.pv = Process(label = 'Solar PV')\n",
    "# m.pv(m.pow) = 1.3*m.sun\n",
    "# # exacts are applied to pv at all locations\n",
    "# # capacity modes\n",
    "# m.pv.setup.spend(cap = (0, 20)) = 100\n",
    "# m.pv.setup.spend(cap = (20, 40)) = 70\n",
    "# m.pv.setup.spend(cap = (40, 80)) = 55  # check whether max cap bin here matches the max capacity\n",
    "# m.pv.operate(m.tx) = # variable intermittency data a\n",
    "# m.pv.operate(m.cali) = # variable intermittency data b\n",
    "# m.pv.operate(m.ath) = # variable intermittency data c\n",
    "# m.pv.cap() <= 80\n",
    "\n",
    "# m.tx.has(m.wf, m.pv, m.pem)"
   ]
  },
  {
   "cell_type": "markdown",
   "metadata": {},
   "source": [
    "## Storage "
   ]
  },
  {
   "cell_type": "markdown",
   "metadata": {},
   "source": [
    "This is being developed "
   ]
  },
  {
   "cell_type": "code",
   "execution_count": null,
   "metadata": {},
   "outputs": [],
   "source": [
    "# m.lii = Storage(m.usa, m.eu, label='Lithium Ion Battery')\n",
    "# m.lii.store(m.pow)\n",
    "# m.lii.cap >= 40\n",
    "# m.lii.cap <= 1000\n",
    "\n",
    "# # assumed to be available at all locations\n",
    "# m.silo = Storage(label='Hydrogen Silo')\n",
    "# m.silo.store(m.h2) == 0.8 * m.pow\n",
    "# m.silo.cap == 50\n",
    "# m.silo.capex(m.usa) == 1e6\n",
    "# m.silo.capex(m.eu) == [1e6, 0.95 * 1e6, 0.9 * 1e6]"
   ]
  },
  {
   "cell_type": "markdown",
   "metadata": {},
   "source": [
    "## Transit "
   ]
  },
  {
   "cell_type": "code",
   "execution_count": null,
   "metadata": {},
   "outputs": [],
   "source": [
    "# m.wire = Transit(m.grid, label = 'Car')\n",
    "# m.wire.carry(m.pow)\n",
    "# m.wire.capex(m.usa) = 1e6 # all links within USA\n",
    "# # if speed not provided then instantenous\n",
    "\n",
    "# m.ship = Transit(m.sea, label = 'Ship')\n",
    "# # can make this return an attribute that gets set\n",
    "# # setattr can be used to then set the value\n",
    "# m.ship.carry(m.h2) == - 0.8*m.pow\n",
    "# m.ship.capex(m.sea) == 1e6\n",
    "# m.ship.speed(m.mile, m.h) == 10"
   ]
  },
  {
   "cell_type": "markdown",
   "metadata": {},
   "source": [
    "## The model"
   ]
  },
  {
   "cell_type": "code",
   "execution_count": null,
   "metadata": {},
   "outputs": [],
   "source": [
    "# add binaries only where needed, such as operation with minimum capacities\n",
    "m.pprint()"
   ]
  },
  {
   "cell_type": "code",
   "execution_count": null,
   "metadata": {},
   "outputs": [],
   "source": []
  }
 ],
 "metadata": {
  "kernelspec": {
   "display_name": ".venv",
   "language": "python",
   "name": "python3"
  },
  "language_info": {
   "codemirror_mode": {
    "name": "ipython",
    "version": 3
   },
   "file_extension": ".py",
   "mimetype": "text/x-python",
   "name": "python",
   "nbconvert_exporter": "python",
   "pygments_lexer": "ipython3",
   "version": "3.12.8"
  }
 },
 "nbformat": 4,
 "nbformat_minor": 2
}
