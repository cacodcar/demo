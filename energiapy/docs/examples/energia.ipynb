{
 "cells": [
  {
   "cell_type": "markdown",
   "metadata": {},
   "source": [
    "## God's Chosen Casestudy "
   ]
  },
  {
   "cell_type": "markdown",
   "metadata": {},
   "source": [
    "## Imports "
   ]
  },
  {
   "cell_type": "code",
   "execution_count": 1,
   "metadata": {},
   "outputs": [],
   "source": [
    "from energiapy.src.energiapy.components.measure.basis import Basis\n",
    "from energiapy.src.energiapy.components.flow.resource import Resource\n",
    "from energiapy.src.energiapy.components.flow.cash import Cash\n",
    "from energiapy.src.energiapy.components.impact.environ import Environ\n",
    "from energiapy.src.energiapy.components.impact.social import Social\n",
    "from energiapy.src.energiapy.components.use.land import Land\n",
    "from energiapy.src.energiapy.components.time.period import Period\n",
    "from energiapy.src.energiapy.components.space.linkage import Link\n",
    "from energiapy.src.energiapy.components.space.location import Loc\n",
    "from energiapy.src.energiapy.represent.model import Model"
   ]
  },
  {
   "cell_type": "code",
   "execution_count": 2,
   "metadata": {},
   "outputs": [],
   "source": [
    "m = Model()"
   ]
  },
  {
   "cell_type": "code",
   "execution_count": 3,
   "metadata": {},
   "outputs": [
    {
     "data": {
      "text/plain": [
       "locs"
      ]
     },
     "execution_count": 3,
     "metadata": {},
     "output_type": "execute_result"
    }
   ],
   "source": [
    "m._.locs"
   ]
  },
  {
   "cell_type": "markdown",
   "metadata": {},
   "source": [
    "## Basis "
   ]
  },
  {
   "cell_type": "code",
   "execution_count": 4,
   "metadata": {},
   "outputs": [],
   "source": [
    "m.mw = Basis(label='Megawatt')\n",
    "m.kw = m.mw / 1000\n",
    "m.g = Basis(label='Gram')\n",
    "m.kg = 1000 * m.g\n",
    "m.ton = m.kg * 1000\n",
    "m.mton = m.ton * 1000\n",
    "m.mile = Basis(label='Mile')\n",
    "m.km = m.mile * 1.60934\n",
    "m.acre = Basis(label='Acre')"
   ]
  },
  {
   "cell_type": "markdown",
   "metadata": {},
   "source": [
    "## Temporal Scale "
   ]
  },
  {
   "cell_type": "code",
   "execution_count": 5,
   "metadata": {},
   "outputs": [],
   "source": [
    "m.h = Period()\n",
    "m.d = m.h * 24\n",
    "m.y = m.d * 365\n",
    "m.w = m.d * 7\n",
    "m.s = Period()"
   ]
  },
  {
   "cell_type": "code",
   "execution_count": 6,
   "metadata": {},
   "outputs": [
    {
     "data": {
      "text/plain": [
       "[h, d, y, w, s]"
      ]
     },
     "execution_count": 6,
     "metadata": {},
     "output_type": "execute_result"
    }
   ],
   "source": [
    "m.time.periods"
   ]
  },
  {
   "cell_type": "markdown",
   "metadata": {},
   "source": [
    "## Locations "
   ]
  },
  {
   "cell_type": "code",
   "execution_count": 7,
   "metadata": {},
   "outputs": [],
   "source": [
    "m.htown = Loc()\n",
    "m.cstat = Loc()\n",
    "m.tx = m.htown + m.cstat\n",
    "\n",
    "m.sd = Loc()\n",
    "m.la = Loc()\n",
    "\n",
    "m.cali = m.sd + m.la\n",
    "\n",
    "m.usa = m.tx + m.cali\n",
    "\n",
    "m.ath = Loc()\n",
    "m.amd = Loc()\n",
    "\n",
    "m.eu = m.ath + m.amd\n",
    "\n",
    "m.pune = Loc()\n",
    "m.goa = Loc()\n",
    "m.ind = m.pune + m.goa\n",
    "\n",
    "m.earth = m.usa + m.eu + m.ind"
   ]
  },
  {
   "cell_type": "code",
   "execution_count": 8,
   "metadata": {},
   "outputs": [
    {
     "data": {
      "text/plain": [
       "[htown, cstat, tx, sd, la, cali, usa, ath, amd, eu, pune, goa, ind, earth]"
      ]
     },
     "execution_count": 8,
     "metadata": {},
     "output_type": "execute_result"
    }
   ],
   "source": [
    "m.prg.locs._"
   ]
  },
  {
   "cell_type": "markdown",
   "metadata": {},
   "source": [
    "## Linkages "
   ]
  },
  {
   "cell_type": "code",
   "execution_count": 9,
   "metadata": {},
   "outputs": [],
   "source": [
    "m.grid = Link(source=m.cali, sink=m.tx, dist=1400, basis=m.mile)\n",
    "m.sea = Link(source=m.usa, sink=m.eu, dist=10000, basis=m.km, bi=True)"
   ]
  },
  {
   "cell_type": "markdown",
   "metadata": {},
   "source": [
    "## Cash "
   ]
  },
  {
   "cell_type": "code",
   "execution_count": 10,
   "metadata": {},
   "outputs": [],
   "source": [
    "m.usd = Cash(m.usa)\n",
    "m.eur = Cash(m.eu)\n",
    "m.inr = Cash(m.ind)\n",
    "m.eur == m.usd * 0.92\n",
    "m.inr == m.usd / 84.08"
   ]
  },
  {
   "cell_type": "code",
   "execution_count": 11,
   "metadata": {},
   "outputs": [],
   "source": [
    "m.usd.spend(m.usa, m.y) >= 1e9\n",
    "m.usd.spend(m.eu, m.y) <= 1e9\n",
    "# # m.usd.spend(m.eu, m.d) <= list(range(365))\n",
    "m.usd.spend(m.usa, m.y) + m.usd.spend(m.ind, m.y) <= 1e9\n",
    "# m.usd.spend(m.eu, m.y) >= 1e9"
   ]
  },
  {
   "cell_type": "code",
   "execution_count": 12,
   "metadata": {},
   "outputs": [
    {
     "name": "stdout",
     "output_type": "stream",
     "text": [
      "\n",
      "\n",
      "\n",
      "\n",
      "\n",
      "\n",
      "\n",
      "\n",
      "\n",
      "\n",
      "\n",
      "\n",
      "\n",
      "\n",
      "\n",
      "\n",
      "\n",
      "\n",
      "\n",
      "\n",
      "\n",
      "\n",
      "\n",
      "\n",
      "\n",
      "\n",
      "\n"
     ]
    },
    {
     "data": {
      "text/plain": [
       "(usd, usa, y) | (usd, eu, y) | (usd, ind, y)"
      ]
     },
     "execution_count": 12,
     "metadata": {},
     "output_type": "execute_result"
    }
   ],
   "source": [
    "m.program.spend.index"
   ]
  },
  {
   "cell_type": "code",
   "execution_count": 13,
   "metadata": {},
   "outputs": [
    {
     "data": {
      "text/plain": [
       "{(usd, usa, y0): spend_0, (usd, eu, y0): spend_1, (usd, ind, y0): spend_2}"
      ]
     },
     "execution_count": 13,
     "metadata": {},
     "output_type": "execute_result"
    }
   ],
   "source": [
    "m.prg.sets.variable[0].idx"
   ]
  },
  {
   "cell_type": "code",
   "execution_count": 14,
   "metadata": {},
   "outputs": [
    {
     "name": "stdout",
     "output_type": "stream",
     "text": [
      "\n",
      "\n",
      "\n",
      "\n",
      "\n",
      "\n",
      "\n",
      "\n",
      "\n",
      "\n",
      "\n",
      "\n",
      "\n",
      "\n",
      "\n",
      "\n",
      "\n",
      "\n",
      "\n",
      "\n",
      "\n",
      "\n",
      "\n",
      "\n",
      "\n",
      "\n",
      "\n",
      "Mathematical Program for prg(m)\n",
      "\n",
      "---Index Sets---\n",
      "\n"
     ]
    },
    {
     "data": {
      "text/latex": [
       "$\\displaystyle \\mathcal{locs} = \\{ htown, cstat, tx, sd, la, cali, usa, ath, amd, eu, pune, goa, ind, earth \\}$"
      ],
      "text/plain": [
       "<IPython.core.display.Math object>"
      ]
     },
     "metadata": {},
     "output_type": "display_data"
    },
    {
     "data": {
      "text/latex": [
       "$\\displaystyle \\mathcal{links} = \\{ grid, sea_, sea \\}$"
      ],
      "text/plain": [
       "<IPython.core.display.Math object>"
      ]
     },
     "metadata": {},
     "output_type": "display_data"
    },
    {
     "data": {
      "text/latex": [
       "$\\displaystyle \\mathcal{spaces} = \\{ htown, cstat, tx, sd, la, cali, usa, ath, amd, eu, pune, goa, ind, earth, grid, sea_, sea \\}$"
      ],
      "text/plain": [
       "<IPython.core.display.Math object>"
      ]
     },
     "metadata": {},
     "output_type": "display_data"
    },
    {
     "data": {
      "text/latex": [
       "$\\displaystyle \\mathcal{currencies} = \\{ usd, eur, inr \\}$"
      ],
      "text/plain": [
       "<IPython.core.display.Math object>"
      ]
     },
     "metadata": {},
     "output_type": "display_data"
    },
    {
     "data": {
      "text/latex": [
       "$\\displaystyle \\mathcal{environs} = \\{  \\}$"
      ],
      "text/plain": [
       "<IPython.core.display.Math object>"
      ]
     },
     "metadata": {},
     "output_type": "display_data"
    },
    {
     "data": {
      "text/latex": [
       "$\\displaystyle \\mathcal{socials} = \\{  \\}$"
      ],
      "text/plain": [
       "<IPython.core.display.Math object>"
      ]
     },
     "metadata": {},
     "output_type": "display_data"
    },
    {
     "data": {
      "text/latex": [
       "$\\displaystyle \\mathcal{resources} = \\{  \\}$"
      ],
      "text/plain": [
       "<IPython.core.display.Math object>"
      ]
     },
     "metadata": {},
     "output_type": "display_data"
    },
    {
     "data": {
      "text/latex": [
       "$\\displaystyle \\mathcal{lands} = \\{  \\}$"
      ],
      "text/plain": [
       "<IPython.core.display.Math object>"
      ]
     },
     "metadata": {},
     "output_type": "display_data"
    },
    {
     "name": "stdout",
     "output_type": "stream",
     "text": [
      "\n",
      "---Objective(s)---\n",
      "\n",
      "\n",
      "---Such that---\n",
      "\n"
     ]
    },
    {
     "data": {
      "text/latex": [
       "$\\displaystyle -spend_{\\mathcal{usd, usa, y}} + 1000000000.0 \\leq 0$"
      ],
      "text/plain": [
       "<IPython.core.display.Math object>"
      ]
     },
     "metadata": {},
     "output_type": "display_data"
    },
    {
     "data": {
      "text/latex": [
       "$\\displaystyle spend_{\\mathcal{usd, eu, y}} - 1000000000.0 \\leq 0$"
      ],
      "text/plain": [
       "<IPython.core.display.Math object>"
      ]
     },
     "metadata": {},
     "output_type": "display_data"
    },
    {
     "data": {
      "text/latex": [
       "$\\displaystyle spend_{\\mathcal{usd, usa, y}} + spend_{\\mathcal{usd, ind, y}} - 1000000000.0 \\leq 0$"
      ],
      "text/plain": [
       "<IPython.core.display.Math object>"
      ]
     },
     "metadata": {},
     "output_type": "display_data"
    },
    {
     "data": {
      "text/latex": [
       "$\\displaystyle -spend_{\\mathcal{usd, usa, y \\cup usd, eu, y \\cup usd, ind, y}} \\leq 0$"
      ],
      "text/plain": [
       "<IPython.core.display.Math object>"
      ]
     },
     "metadata": {},
     "output_type": "display_data"
    }
   ],
   "source": [
    "m.pprint()"
   ]
  },
  {
   "cell_type": "code",
   "execution_count": 15,
   "metadata": {},
   "outputs": [],
   "source": [
    "# m.eur.spend(m.ath) <= 1e9\n",
    "# m.eur.spend(m.amd) < 4 * 1e8\n",
    "# m.usd.earn(m.houston) >= 4 * 1e5\n",
    "# m.usd.earn(m.cstat) >= 1e5\n",
    "# m.inr.spend() <= 4 * 1e9"
   ]
  },
  {
   "cell_type": "markdown",
   "metadata": {},
   "source": [
    "## Emission "
   ]
  },
  {
   "cell_type": "code",
   "execution_count": 16,
   "metadata": {},
   "outputs": [
    {
     "data": {
      "text/plain": [
       "[gwp, eut]"
      ]
     },
     "execution_count": 16,
     "metadata": {},
     "output_type": "execute_result"
    }
   ],
   "source": [
    "m.gwp = Environ()\n",
    "m.eut = Environ()\n",
    "m.impact.environs"
   ]
  },
  {
   "cell_type": "code",
   "execution_count": null,
   "metadata": {},
   "outputs": [],
   "source": [
    "m.prg.locs._"
   ]
  },
  {
   "cell_type": "code",
   "execution_count": 17,
   "metadata": {},
   "outputs": [],
   "source": [
    "# m.gwp.emit(m.eu, m.y) <= 3 * 1e5\n",
    "m.gwp.emit(m.ind, m.y) <= 4 * 1e5\n",
    "m.gwp.emit(m.usa, m.y) <= 3 * 1e5\n",
    "m.gwp.abate(m.usa, m.y) >= 6 * 1e3"
   ]
  },
  {
   "cell_type": "code",
   "execution_count": 18,
   "metadata": {},
   "outputs": [
    {
     "name": "stdout",
     "output_type": "stream",
     "text": [
      "\n",
      "\n",
      "\n",
      "\n",
      "\n",
      "\n",
      "\n",
      "\n",
      "\n",
      "\n",
      "\n",
      "\n",
      "\n",
      "\n",
      "\n",
      "\n",
      "\n",
      "\n",
      "\n",
      "\n",
      "\n",
      "\n",
      "\n",
      "\n",
      "\n",
      "\n",
      "\n",
      "\n",
      "\n",
      "\n",
      "\n",
      "\n",
      "\n",
      "\n",
      "\n",
      "\n",
      "\n",
      "\n",
      "\n",
      "\n",
      "\n",
      "\n",
      "\n",
      "\n",
      "\n",
      "\n",
      "\n",
      "\n",
      "\n",
      "Mathematical Program for prg(m)\n",
      "\n",
      "---Index Sets---\n",
      "\n"
     ]
    },
    {
     "data": {
      "text/latex": [
       "$\\displaystyle \\mathcal{locs} = \\{ htown, cstat, tx, sd, la, cali, usa, ath, amd, eu, pune, goa, ind, earth \\}$"
      ],
      "text/plain": [
       "<IPython.core.display.Math object>"
      ]
     },
     "metadata": {},
     "output_type": "display_data"
    },
    {
     "data": {
      "text/latex": [
       "$\\displaystyle \\mathcal{links} = \\{ grid, sea_, sea \\}$"
      ],
      "text/plain": [
       "<IPython.core.display.Math object>"
      ]
     },
     "metadata": {},
     "output_type": "display_data"
    },
    {
     "data": {
      "text/latex": [
       "$\\displaystyle \\mathcal{spaces} = \\{ htown, cstat, tx, sd, la, cali, usa, ath, amd, eu, pune, goa, ind, earth, grid, sea_, sea \\}$"
      ],
      "text/plain": [
       "<IPython.core.display.Math object>"
      ]
     },
     "metadata": {},
     "output_type": "display_data"
    },
    {
     "data": {
      "text/latex": [
       "$\\displaystyle \\mathcal{currencies} = \\{ usd, eur, inr \\}$"
      ],
      "text/plain": [
       "<IPython.core.display.Math object>"
      ]
     },
     "metadata": {},
     "output_type": "display_data"
    },
    {
     "data": {
      "text/latex": [
       "$\\displaystyle \\mathcal{environs} = \\{ gwp, eut \\}$"
      ],
      "text/plain": [
       "<IPython.core.display.Math object>"
      ]
     },
     "metadata": {},
     "output_type": "display_data"
    },
    {
     "data": {
      "text/latex": [
       "$\\displaystyle \\mathcal{socials} = \\{  \\}$"
      ],
      "text/plain": [
       "<IPython.core.display.Math object>"
      ]
     },
     "metadata": {},
     "output_type": "display_data"
    },
    {
     "data": {
      "text/latex": [
       "$\\displaystyle \\mathcal{resources} = \\{  \\}$"
      ],
      "text/plain": [
       "<IPython.core.display.Math object>"
      ]
     },
     "metadata": {},
     "output_type": "display_data"
    },
    {
     "data": {
      "text/latex": [
       "$\\displaystyle \\mathcal{lands} = \\{  \\}$"
      ],
      "text/plain": [
       "<IPython.core.display.Math object>"
      ]
     },
     "metadata": {},
     "output_type": "display_data"
    },
    {
     "name": "stdout",
     "output_type": "stream",
     "text": [
      "\n",
      "---Objective(s)---\n",
      "\n",
      "\n",
      "---Such that---\n",
      "\n"
     ]
    },
    {
     "data": {
      "text/latex": [
       "$\\displaystyle -spend_{\\mathcal{usd, usa, y}} + 1000000000.0 \\leq 0$"
      ],
      "text/plain": [
       "<IPython.core.display.Math object>"
      ]
     },
     "metadata": {},
     "output_type": "display_data"
    },
    {
     "data": {
      "text/latex": [
       "$\\displaystyle spend_{\\mathcal{usd, eu, y}} - 1000000000.0 \\leq 0$"
      ],
      "text/plain": [
       "<IPython.core.display.Math object>"
      ]
     },
     "metadata": {},
     "output_type": "display_data"
    },
    {
     "data": {
      "text/latex": [
       "$\\displaystyle spend_{\\mathcal{usd, usa, y}} + spend_{\\mathcal{usd, ind, y}} - 1000000000.0 \\leq 0$"
      ],
      "text/plain": [
       "<IPython.core.display.Math object>"
      ]
     },
     "metadata": {},
     "output_type": "display_data"
    },
    {
     "data": {
      "text/latex": [
       "$\\displaystyle emit_{\\mathcal{gwp, ind, y}} - 400000.0 \\leq 0$"
      ],
      "text/plain": [
       "<IPython.core.display.Math object>"
      ]
     },
     "metadata": {},
     "output_type": "display_data"
    },
    {
     "data": {
      "text/latex": [
       "$\\displaystyle emit_{\\mathcal{gwp, usa, y}} - 300000.0 \\leq 0$"
      ],
      "text/plain": [
       "<IPython.core.display.Math object>"
      ]
     },
     "metadata": {},
     "output_type": "display_data"
    },
    {
     "data": {
      "text/latex": [
       "$\\displaystyle -abate_{\\mathcal{gwp, usa, y}} + 6000.0 \\leq 0$"
      ],
      "text/plain": [
       "<IPython.core.display.Math object>"
      ]
     },
     "metadata": {},
     "output_type": "display_data"
    },
    {
     "data": {
      "text/latex": [
       "$\\displaystyle -spend_{\\mathcal{usd, usa, y \\cup usd, eu, y \\cup usd, ind, y}} \\leq 0$"
      ],
      "text/plain": [
       "<IPython.core.display.Math object>"
      ]
     },
     "metadata": {},
     "output_type": "display_data"
    },
    {
     "data": {
      "text/latex": [
       "$\\displaystyle -emit_{\\mathcal{gwp, ind, y \\cup gwp, usa, y}} \\leq 0$"
      ],
      "text/plain": [
       "<IPython.core.display.Math object>"
      ]
     },
     "metadata": {},
     "output_type": "display_data"
    },
    {
     "data": {
      "text/latex": [
       "$\\displaystyle -abate_{\\mathcal{gwp, usa, y}} \\leq 0$"
      ],
      "text/plain": [
       "<IPython.core.display.Math object>"
      ]
     },
     "metadata": {},
     "output_type": "display_data"
    }
   ],
   "source": [
    "m.pprint()"
   ]
  },
  {
   "cell_type": "code",
   "execution_count": 19,
   "metadata": {},
   "outputs": [
    {
     "name": "stdout",
     "output_type": "stream",
     "text": [
      "Mathematical Program for gwp\n",
      "\n",
      "---Index Sets---\n",
      "\n",
      "\n",
      "---Objective(s)---\n",
      "\n",
      "\n",
      "---Such that---\n",
      "\n"
     ]
    },
    {
     "data": {
      "text/latex": [
       "$\\displaystyle emit_{\\mathcal{gwp, ind, y}} - 400000.0 \\leq 0$"
      ],
      "text/plain": [
       "<IPython.core.display.Math object>"
      ]
     },
     "metadata": {},
     "output_type": "display_data"
    },
    {
     "data": {
      "text/latex": [
       "$\\displaystyle emit_{\\mathcal{gwp, usa, y}} - 300000.0 \\leq 0$"
      ],
      "text/plain": [
       "<IPython.core.display.Math object>"
      ]
     },
     "metadata": {},
     "output_type": "display_data"
    },
    {
     "data": {
      "text/latex": [
       "$\\displaystyle -abate_{\\mathcal{gwp, usa, y}} + 6000.0 \\leq 0$"
      ],
      "text/plain": [
       "<IPython.core.display.Math object>"
      ]
     },
     "metadata": {},
     "output_type": "display_data"
    },
    {
     "data": {
      "text/latex": [
       "$\\displaystyle -emit_{\\mathcal{gwp, ind, y}} \\leq 0$"
      ],
      "text/plain": [
       "<IPython.core.display.Math object>"
      ]
     },
     "metadata": {},
     "output_type": "display_data"
    },
    {
     "data": {
      "text/latex": [
       "$\\displaystyle -abate_{\\mathcal{gwp, usa, y}} \\leq 0$"
      ],
      "text/plain": [
       "<IPython.core.display.Math object>"
      ]
     },
     "metadata": {},
     "output_type": "display_data"
    }
   ],
   "source": [
    "m.gwp.prg.pprint()"
   ]
  },
  {
   "cell_type": "code",
   "execution_count": 20,
   "metadata": {},
   "outputs": [
    {
     "name": "stdout",
     "output_type": "stream",
     "text": [
      "Mathematical Program for gwp\n",
      "\n",
      "---Index Sets---\n",
      "\n",
      "\n",
      "---Objective(s)---\n",
      "\n",
      "\n",
      "---Such that---\n",
      "\n"
     ]
    },
    {
     "data": {
      "text/latex": [
       "$\\displaystyle emit_{\\mathcal{gwp, ind, y}} - 400000.0 \\leq 0$"
      ],
      "text/plain": [
       "<IPython.core.display.Math object>"
      ]
     },
     "metadata": {},
     "output_type": "display_data"
    },
    {
     "data": {
      "text/latex": [
       "$\\displaystyle emit_{\\mathcal{gwp, usa, y}} - 300000.0 \\leq 0$"
      ],
      "text/plain": [
       "<IPython.core.display.Math object>"
      ]
     },
     "metadata": {},
     "output_type": "display_data"
    },
    {
     "data": {
      "text/latex": [
       "$\\displaystyle -abate_{\\mathcal{gwp, usa, y}} + 6000.0 \\leq 0$"
      ],
      "text/plain": [
       "<IPython.core.display.Math object>"
      ]
     },
     "metadata": {},
     "output_type": "display_data"
    },
    {
     "data": {
      "text/latex": [
       "$\\displaystyle -emit_{\\mathcal{gwp, ind, y}} \\leq 0$"
      ],
      "text/plain": [
       "<IPython.core.display.Math object>"
      ]
     },
     "metadata": {},
     "output_type": "display_data"
    },
    {
     "data": {
      "text/latex": [
       "$\\displaystyle -abate_{\\mathcal{gwp, usa, y}} \\leq 0$"
      ],
      "text/plain": [
       "<IPython.core.display.Math object>"
      ]
     },
     "metadata": {},
     "output_type": "display_data"
    }
   ],
   "source": [
    "m.impact.environs[0].pprint()"
   ]
  },
  {
   "cell_type": "markdown",
   "metadata": {},
   "source": [
    "## Social Impact"
   ]
  },
  {
   "cell_type": "code",
   "execution_count": 21,
   "metadata": {},
   "outputs": [
    {
     "data": {
      "text/plain": [
       "[mrh]"
      ]
     },
     "execution_count": 21,
     "metadata": {},
     "output_type": "execute_result"
    }
   ],
   "source": [
    "m.mrh = Social(label='Median Risk Hours')\n",
    "m.impact.socials"
   ]
  },
  {
   "cell_type": "code",
   "execution_count": 22,
   "metadata": {},
   "outputs": [],
   "source": [
    "m.mrh.benefit(m.eu, m.y) <= 3 * 1e5\n",
    "m.mrh.benefit(m.ind, m.y) <= 4 * 1e5\n",
    "m.mrh.detriment(m.htown, m.y) <= 3 * 1e5"
   ]
  },
  {
   "cell_type": "code",
   "execution_count": 23,
   "metadata": {},
   "outputs": [
    {
     "name": "stdout",
     "output_type": "stream",
     "text": [
      "\n",
      "\n",
      "\n",
      "\n",
      "\n",
      "\n",
      "\n",
      "\n",
      "\n",
      "\n",
      "\n",
      "\n",
      "\n",
      "\n",
      "\n",
      "\n",
      "\n",
      "\n",
      "\n",
      "\n",
      "\n",
      "\n",
      "\n",
      "\n",
      "\n",
      "\n",
      "\n",
      "\n",
      "\n",
      "\n",
      "\n",
      "\n",
      "\n",
      "\n",
      "\n",
      "\n",
      "\n",
      "\n",
      "\n",
      "\n",
      "\n",
      "\n",
      "\n",
      "\n",
      "\n",
      "\n",
      "\n",
      "\n",
      "\n",
      "\n",
      "\n",
      "\n",
      "\n",
      "\n",
      "\n",
      "\n",
      "\n",
      "\n",
      "\n",
      "\n",
      "\n",
      "\n",
      "\n",
      "\n",
      "\n",
      "\n",
      "\n",
      "\n",
      "Mathematical Program for prg(m)\n",
      "\n",
      "---Index Sets---\n",
      "\n"
     ]
    },
    {
     "data": {
      "text/latex": [
       "$\\displaystyle \\mathcal{locs} = \\{ htown, cstat, tx, sd, la, cali, usa, ath, amd, eu, pune, goa, ind, earth \\}$"
      ],
      "text/plain": [
       "<IPython.core.display.Math object>"
      ]
     },
     "metadata": {},
     "output_type": "display_data"
    },
    {
     "data": {
      "text/latex": [
       "$\\displaystyle \\mathcal{links} = \\{ grid, sea_, sea \\}$"
      ],
      "text/plain": [
       "<IPython.core.display.Math object>"
      ]
     },
     "metadata": {},
     "output_type": "display_data"
    },
    {
     "data": {
      "text/latex": [
       "$\\displaystyle \\mathcal{spaces} = \\{ htown, cstat, tx, sd, la, cali, usa, ath, amd, eu, pune, goa, ind, earth, grid, sea_, sea \\}$"
      ],
      "text/plain": [
       "<IPython.core.display.Math object>"
      ]
     },
     "metadata": {},
     "output_type": "display_data"
    },
    {
     "data": {
      "text/latex": [
       "$\\displaystyle \\mathcal{currencies} = \\{ usd, eur, inr \\}$"
      ],
      "text/plain": [
       "<IPython.core.display.Math object>"
      ]
     },
     "metadata": {},
     "output_type": "display_data"
    },
    {
     "data": {
      "text/latex": [
       "$\\displaystyle \\mathcal{environs} = \\{ gwp, eut \\}$"
      ],
      "text/plain": [
       "<IPython.core.display.Math object>"
      ]
     },
     "metadata": {},
     "output_type": "display_data"
    },
    {
     "data": {
      "text/latex": [
       "$\\displaystyle \\mathcal{socials} = \\{ mrh \\}$"
      ],
      "text/plain": [
       "<IPython.core.display.Math object>"
      ]
     },
     "metadata": {},
     "output_type": "display_data"
    },
    {
     "data": {
      "text/latex": [
       "$\\displaystyle \\mathcal{resources} = \\{  \\}$"
      ],
      "text/plain": [
       "<IPython.core.display.Math object>"
      ]
     },
     "metadata": {},
     "output_type": "display_data"
    },
    {
     "data": {
      "text/latex": [
       "$\\displaystyle \\mathcal{lands} = \\{  \\}$"
      ],
      "text/plain": [
       "<IPython.core.display.Math object>"
      ]
     },
     "metadata": {},
     "output_type": "display_data"
    },
    {
     "name": "stdout",
     "output_type": "stream",
     "text": [
      "\n",
      "---Objective(s)---\n",
      "\n",
      "\n",
      "---Such that---\n",
      "\n"
     ]
    },
    {
     "data": {
      "text/latex": [
       "$\\displaystyle -spend_{\\mathcal{usd, usa, y}} + 1000000000.0 \\leq 0$"
      ],
      "text/plain": [
       "<IPython.core.display.Math object>"
      ]
     },
     "metadata": {},
     "output_type": "display_data"
    },
    {
     "data": {
      "text/latex": [
       "$\\displaystyle spend_{\\mathcal{usd, eu, y}} - 1000000000.0 \\leq 0$"
      ],
      "text/plain": [
       "<IPython.core.display.Math object>"
      ]
     },
     "metadata": {},
     "output_type": "display_data"
    },
    {
     "data": {
      "text/latex": [
       "$\\displaystyle spend_{\\mathcal{usd, usa, y}} + spend_{\\mathcal{usd, ind, y}} - 1000000000.0 \\leq 0$"
      ],
      "text/plain": [
       "<IPython.core.display.Math object>"
      ]
     },
     "metadata": {},
     "output_type": "display_data"
    },
    {
     "data": {
      "text/latex": [
       "$\\displaystyle emit_{\\mathcal{gwp, ind, y}} - 400000.0 \\leq 0$"
      ],
      "text/plain": [
       "<IPython.core.display.Math object>"
      ]
     },
     "metadata": {},
     "output_type": "display_data"
    },
    {
     "data": {
      "text/latex": [
       "$\\displaystyle emit_{\\mathcal{gwp, usa, y}} - 300000.0 \\leq 0$"
      ],
      "text/plain": [
       "<IPython.core.display.Math object>"
      ]
     },
     "metadata": {},
     "output_type": "display_data"
    },
    {
     "data": {
      "text/latex": [
       "$\\displaystyle -abate_{\\mathcal{gwp, usa, y}} + 6000.0 \\leq 0$"
      ],
      "text/plain": [
       "<IPython.core.display.Math object>"
      ]
     },
     "metadata": {},
     "output_type": "display_data"
    },
    {
     "data": {
      "text/latex": [
       "$\\displaystyle benefit_{\\mathcal{mrh, eu, y}} - 300000.0 \\leq 0$"
      ],
      "text/plain": [
       "<IPython.core.display.Math object>"
      ]
     },
     "metadata": {},
     "output_type": "display_data"
    },
    {
     "data": {
      "text/latex": [
       "$\\displaystyle benefit_{\\mathcal{mrh, ind, y}} - 400000.0 \\leq 0$"
      ],
      "text/plain": [
       "<IPython.core.display.Math object>"
      ]
     },
     "metadata": {},
     "output_type": "display_data"
    },
    {
     "data": {
      "text/latex": [
       "$\\displaystyle detriment_{\\mathcal{mrh, htown, y}} - 300000.0 \\leq 0$"
      ],
      "text/plain": [
       "<IPython.core.display.Math object>"
      ]
     },
     "metadata": {},
     "output_type": "display_data"
    },
    {
     "data": {
      "text/latex": [
       "$\\displaystyle -spend_{\\mathcal{usd, usa, y \\cup usd, eu, y \\cup usd, ind, y}} \\leq 0$"
      ],
      "text/plain": [
       "<IPython.core.display.Math object>"
      ]
     },
     "metadata": {},
     "output_type": "display_data"
    },
    {
     "data": {
      "text/latex": [
       "$\\displaystyle -emit_{\\mathcal{gwp, ind, y \\cup gwp, usa, y}} \\leq 0$"
      ],
      "text/plain": [
       "<IPython.core.display.Math object>"
      ]
     },
     "metadata": {},
     "output_type": "display_data"
    },
    {
     "data": {
      "text/latex": [
       "$\\displaystyle -abate_{\\mathcal{gwp, usa, y}} \\leq 0$"
      ],
      "text/plain": [
       "<IPython.core.display.Math object>"
      ]
     },
     "metadata": {},
     "output_type": "display_data"
    },
    {
     "data": {
      "text/latex": [
       "$\\displaystyle -benefit_{\\mathcal{mrh, eu, y \\cup mrh, ind, y}} \\leq 0$"
      ],
      "text/plain": [
       "<IPython.core.display.Math object>"
      ]
     },
     "metadata": {},
     "output_type": "display_data"
    },
    {
     "data": {
      "text/latex": [
       "$\\displaystyle -detriment_{\\mathcal{mrh, htown, y}} \\leq 0$"
      ],
      "text/plain": [
       "<IPython.core.display.Math object>"
      ]
     },
     "metadata": {},
     "output_type": "display_data"
    }
   ],
   "source": [
    "m.pprint()"
   ]
  },
  {
   "cell_type": "markdown",
   "metadata": {},
   "source": [
    "## Resource "
   ]
  },
  {
   "cell_type": "code",
   "execution_count": 25,
   "metadata": {},
   "outputs": [
    {
     "ename": "AttributeError",
     "evalue": "'Prg' object has no attribute 'h'",
     "output_type": "error",
     "traceback": [
      "\u001b[0;31m---------------------------------------------------------------------------\u001b[0m",
      "\u001b[0;31mAttributeError\u001b[0m                            Traceback (most recent call last)",
      "Cell \u001b[0;32mIn[25], line 3\u001b[0m\n\u001b[1;32m      1\u001b[0m m\u001b[38;5;241m.\u001b[39mh2 \u001b[38;5;241m=\u001b[39m Resource(basis\u001b[38;5;241m=\u001b[39mm\u001b[38;5;241m.\u001b[39mton, label \u001b[38;5;241m=\u001b[39m \u001b[38;5;124m'\u001b[39m\u001b[38;5;124mHydrogen\u001b[39m\u001b[38;5;124m'\u001b[39m)\n\u001b[1;32m      2\u001b[0m \u001b[38;5;66;03m# parameter\u001b[39;00m\n\u001b[0;32m----> 3\u001b[0m \u001b[43mm\u001b[49m\u001b[38;5;241;43m.\u001b[39;49m\u001b[43mh2\u001b[49m\u001b[38;5;241;43m.\u001b[39;49m\u001b[43mbuy_emit\u001b[49m\u001b[43m(\u001b[49m\u001b[43mm\u001b[49m\u001b[38;5;241;43m.\u001b[39;49m\u001b[43mgwp\u001b[49m\u001b[43m)\u001b[49m \u001b[38;5;241m==\u001b[39m \u001b[38;5;241m20\u001b[39m\n\u001b[1;32m      4\u001b[0m \u001b[38;5;66;03m# m.h2.sell_emit(m.eut) = 10\u001b[39;00m\n",
      "File \u001b[0;32m~/Desktop/repos/kuru/energiapy/src/energiapy/components/flow/resource.py:63\u001b[0m, in \u001b[0;36mResource.buy_emit\u001b[0;34m(self, environ, loc, time)\u001b[0m\n\u001b[1;32m     61\u001b[0m \u001b[38;5;28;01mdef\u001b[39;00m \u001b[38;5;21mbuy_emit\u001b[39m(\u001b[38;5;28mself\u001b[39m, environ: Environ \u001b[38;5;241m=\u001b[39m \u001b[38;5;28;01mNone\u001b[39;00m, loc: Loc \u001b[38;5;241m=\u001b[39m \u001b[38;5;28;01mNone\u001b[39;00m, time: Period \u001b[38;5;241m=\u001b[39m \u001b[38;5;28;01mNone\u001b[39;00m):\n\u001b[1;32m     62\u001b[0m \u001b[38;5;250m    \u001b[39m\u001b[38;5;124;03m\"\"\"Buy Emission\"\"\"\u001b[39;00m\n\u001b[0;32m---> 63\u001b[0m     \u001b[38;5;28;01mreturn\u001b[39;00m \u001b[38;5;28;43mself\u001b[39;49m\u001b[38;5;241;43m.\u001b[39;49m\u001b[43mcalculate\u001b[49m\u001b[43m(\u001b[49m\u001b[38;5;124;43m'\u001b[39;49m\u001b[38;5;124;43mbuy_emit\u001b[39;49m\u001b[38;5;124;43m'\u001b[39;49m\u001b[43m,\u001b[49m\u001b[43m \u001b[49m\u001b[38;5;124;43m'\u001b[39;49m\u001b[38;5;124;43mbuy\u001b[39;49m\u001b[38;5;124;43m'\u001b[39;49m\u001b[43m,\u001b[49m\u001b[43m \u001b[49m\u001b[43menviron\u001b[49m\u001b[43m,\u001b[49m\u001b[43m \u001b[49m\u001b[43mloc\u001b[49m\u001b[43m,\u001b[49m\u001b[43m \u001b[49m\u001b[43mtime\u001b[49m\u001b[43m)\u001b[49m\n",
      "File \u001b[0;32m~/Desktop/repos/kuru/energiapy/src/energiapy/_core/_component.py:171\u001b[0m, in \u001b[0;36m_Defined.calculate\u001b[0;34m(self, var_calc, var_dep, comp_dep, loc, time)\u001b[0m\n\u001b[1;32m    166\u001b[0m \u001b[38;5;28;01mdef\u001b[39;00m \u001b[38;5;21mcalculate\u001b[39m(\n\u001b[1;32m    167\u001b[0m     \u001b[38;5;28mself\u001b[39m, var_calc: \u001b[38;5;28mstr\u001b[39m, var_dep: \u001b[38;5;28mstr\u001b[39m, comp_dep: _Defined, loc: Loc, time: Period\n\u001b[1;32m    168\u001b[0m ):\n\u001b[1;32m    169\u001b[0m \u001b[38;5;250m    \u001b[39m\u001b[38;5;124;03m\"\"\"Calculate a component attribute\"\"\"\u001b[39;00m\n\u001b[0;32m--> 171\u001b[0m     \u001b[38;5;28;01mreturn\u001b[39;00m \u001b[43mCalculate\u001b[49m\u001b[43m(\u001b[49m\n\u001b[1;32m    172\u001b[0m \u001b[43m        \u001b[49m\u001b[43mcomp\u001b[49m\u001b[38;5;241;43m=\u001b[39;49m\u001b[38;5;28;43mself\u001b[39;49m\u001b[43m,\u001b[49m\n\u001b[1;32m    173\u001b[0m \u001b[43m        \u001b[49m\u001b[43mvar_calc\u001b[49m\u001b[38;5;241;43m=\u001b[39;49m\u001b[43mvar_calc\u001b[49m\u001b[43m,\u001b[49m\n\u001b[1;32m    174\u001b[0m \u001b[43m        \u001b[49m\u001b[43mcomp_dep\u001b[49m\u001b[38;5;241;43m=\u001b[39;49m\u001b[43mcomp_dep\u001b[49m\u001b[43m,\u001b[49m\n\u001b[1;32m    175\u001b[0m \u001b[43m        \u001b[49m\u001b[43mvar_dep\u001b[49m\u001b[38;5;241;43m=\u001b[39;49m\u001b[43mvar_dep\u001b[49m\u001b[43m,\u001b[49m\n\u001b[1;32m    176\u001b[0m \u001b[43m        \u001b[49m\u001b[43mloc\u001b[49m\u001b[38;5;241;43m=\u001b[39;49m\u001b[43mloc\u001b[49m\u001b[43m,\u001b[49m\n\u001b[1;32m    177\u001b[0m \u001b[43m        \u001b[49m\u001b[43mtime\u001b[49m\u001b[38;5;241;43m=\u001b[39;49m\u001b[43mtime\u001b[49m\u001b[43m,\u001b[49m\n\u001b[1;32m    178\u001b[0m \u001b[43m    \u001b[49m\u001b[43m)\u001b[49m\n",
      "File \u001b[0;32m~/Desktop/repos/kuru/energiapy/src/energiapy/program/constraints.py:64\u001b[0m, in \u001b[0;36mCalculate.__init__\u001b[0;34m(self, comp, var_calc, comp_dep, var_dep, loc, time)\u001b[0m\n\u001b[1;32m     52\u001b[0m \u001b[38;5;28;01mdef\u001b[39;00m \u001b[38;5;21m__init__\u001b[39m(\n\u001b[1;32m     53\u001b[0m     \u001b[38;5;28mself\u001b[39m,\n\u001b[1;32m     54\u001b[0m     comp: _Defined,\n\u001b[0;32m   (...)\u001b[0m\n\u001b[1;32m     59\u001b[0m     time: Period,\n\u001b[1;32m     60\u001b[0m ):\n\u001b[1;32m     61\u001b[0m     Operator\u001b[38;5;241m.\u001b[39m\u001b[38;5;21m__init__\u001b[39m(\n\u001b[1;32m     62\u001b[0m         \u001b[38;5;28mself\u001b[39m,\n\u001b[1;32m     63\u001b[0m         comp\u001b[38;5;241m.\u001b[39mprg,\n\u001b[0;32m---> 64\u001b[0m         \u001b[43mcomp\u001b[49m\u001b[38;5;241;43m.\u001b[39;49m\u001b[43mvar_calc\u001b[49m\u001b[43m(\u001b[49m\u001b[43mvar\u001b[49m\u001b[38;5;241;43m=\u001b[39;49m\u001b[43mvar_calc\u001b[49m\u001b[43m,\u001b[49m\u001b[43m \u001b[49m\u001b[43mcomp_dep\u001b[49m\u001b[38;5;241;43m=\u001b[39;49m\u001b[43mcomp_dep\u001b[49m\u001b[43m,\u001b[49m\u001b[43m \u001b[49m\u001b[43mloc\u001b[49m\u001b[38;5;241;43m=\u001b[39;49m\u001b[43mloc\u001b[49m\u001b[43m,\u001b[49m\u001b[43m \u001b[49m\u001b[43mtime\u001b[49m\u001b[38;5;241;43m=\u001b[39;49m\u001b[43mtime\u001b[49m\u001b[43m)\u001b[49m,\n\u001b[1;32m     65\u001b[0m     )\n\u001b[1;32m     67\u001b[0m     \u001b[38;5;28mself\u001b[39m\u001b[38;5;241m.\u001b[39mvar_dep \u001b[38;5;241m=\u001b[39m comp\u001b[38;5;241m.\u001b[39mvar(var_dep, loc, time)\n\u001b[1;32m     68\u001b[0m     \u001b[38;5;28mself\u001b[39m\u001b[38;5;241m.\u001b[39mcomp \u001b[38;5;241m=\u001b[39m comp\n",
      "File \u001b[0;32m~/Desktop/repos/kuru/energiapy/src/energiapy/_core/_component.py:103\u001b[0m, in \u001b[0;36m_Defined.var_calc\u001b[0;34m(self, var, comp_dep, loc, time)\u001b[0m\n\u001b[1;32m     99\u001b[0m \u001b[38;5;28;01mdef\u001b[39;00m \u001b[38;5;21mvar_calc\u001b[39m(\n\u001b[1;32m    100\u001b[0m     \u001b[38;5;28mself\u001b[39m, var: \u001b[38;5;28mstr\u001b[39m, comp_dep: _Defined, loc: Loc \u001b[38;5;241m=\u001b[39m \u001b[38;5;28;01mNone\u001b[39;00m, time: Period \u001b[38;5;241m=\u001b[39m \u001b[38;5;28;01mNone\u001b[39;00m\n\u001b[1;32m    101\u001b[0m ) \u001b[38;5;241m-\u001b[39m\u001b[38;5;241m>\u001b[39m V:\n\u001b[1;32m    102\u001b[0m \u001b[38;5;250m    \u001b[39m\u001b[38;5;124;03m\"\"\"(set and) return a calculated (dependent) variable\"\"\"\u001b[39;00m\n\u001b[0;32m--> 103\u001b[0m     loc, time \u001b[38;5;241m=\u001b[39m \u001b[38;5;28;43mself\u001b[39;49m\u001b[38;5;241;43m.\u001b[39;49m\u001b[43mdispostion\u001b[49m\u001b[43m(\u001b[49m\u001b[43mloc\u001b[49m\u001b[43m,\u001b[49m\u001b[43m \u001b[49m\u001b[43mtime\u001b[49m\u001b[43m)\u001b[49m\n\u001b[1;32m    104\u001b[0m     \u001b[38;5;28msetattr\u001b[39m(\n\u001b[1;32m    105\u001b[0m         \u001b[38;5;28mself\u001b[39m\u001b[38;5;241m.\u001b[39mprg,\n\u001b[1;32m    106\u001b[0m         var,\n\u001b[0;32m   (...)\u001b[0m\n\u001b[1;32m    113\u001b[0m         ),\n\u001b[1;32m    114\u001b[0m     )\n\u001b[1;32m    115\u001b[0m     \u001b[38;5;28;01mreturn\u001b[39;00m \u001b[38;5;28mgetattr\u001b[39m(\u001b[38;5;28mself\u001b[39m\u001b[38;5;241m.\u001b[39mprg, var)(\u001b[38;5;28mself\u001b[39m\u001b[38;5;241m.\u001b[39mx, comp_dep\u001b[38;5;241m.\u001b[39mx, loc, time)\n",
      "File \u001b[0;32m~/Desktop/repos/kuru/energiapy/src/energiapy/_core/_component.py:73\u001b[0m, in \u001b[0;36m_Defined.dispostion\u001b[0;34m(self, loc, time)\u001b[0m\n\u001b[1;32m     69\u001b[0m     time \u001b[38;5;241m=\u001b[39m time\u001b[38;5;241m.\u001b[39mxset\n\u001b[1;32m     70\u001b[0m \u001b[38;5;28;01melse\u001b[39;00m:\n\u001b[1;32m     71\u001b[0m     \u001b[38;5;66;03m# if no temporal index\u001b[39;00m\n\u001b[1;32m     72\u001b[0m     \u001b[38;5;66;03m# get the densest time index\u001b[39;00m\n\u001b[0;32m---> 73\u001b[0m     time \u001b[38;5;241m=\u001b[39m \u001b[38;5;28;43mself\u001b[39;49m\u001b[38;5;241;43m.\u001b[39;49m\u001b[43mmdl\u001b[49m\u001b[38;5;241;43m.\u001b[39;49m\u001b[43mtime\u001b[49m\u001b[38;5;241;43m.\u001b[39;49m\u001b[43mdensest\u001b[49m\u001b[38;5;241;43m.\u001b[39;49m\u001b[43mx\u001b[49m\n\u001b[1;32m     75\u001b[0m \u001b[38;5;28;01mreturn\u001b[39;00m loc, time\n",
      "File \u001b[0;32m~/Desktop/repos/kuru/energiapy/src/energiapy/_core/_component.py:145\u001b[0m, in \u001b[0;36m_Defined.x\u001b[0;34m(self)\u001b[0m\n\u001b[1;32m    142\u001b[0m \u001b[38;5;129m@property\u001b[39m\n\u001b[1;32m    143\u001b[0m \u001b[38;5;28;01mdef\u001b[39;00m \u001b[38;5;21mx\u001b[39m(\u001b[38;5;28mself\u001b[39m):\n\u001b[1;32m    144\u001b[0m \u001b[38;5;250m    \u001b[39m\u001b[38;5;124;03m\"\"\"gana index element (X)\"\"\"\u001b[39;00m\n\u001b[0;32m--> 145\u001b[0m     \u001b[38;5;28;01mreturn\u001b[39;00m \u001b[38;5;28;43mgetattr\u001b[39;49m\u001b[43m(\u001b[49m\u001b[38;5;28;43mself\u001b[39;49m\u001b[38;5;241;43m.\u001b[39;49m\u001b[43mmdl\u001b[49m\u001b[38;5;241;43m.\u001b[39;49m\u001b[43mprg\u001b[49m\u001b[43m,\u001b[49m\u001b[43m \u001b[49m\u001b[38;5;28;43mself\u001b[39;49m\u001b[38;5;241;43m.\u001b[39;49m\u001b[43mname\u001b[49m\u001b[43m)\u001b[49m\n",
      "\u001b[0;31mAttributeError\u001b[0m: 'Prg' object has no attribute 'h'"
     ]
    }
   ],
   "source": [
    "m.h2 = Resource(basis=m.ton, label = 'Hydrogen')\n",
    "# parameter\n",
    "m.h2.buy_emit(m.gwp) == 20\n",
    "# m.h2.sell_emit(m.eut) = 10"
   ]
  },
  {
   "cell_type": "code",
   "execution_count": null,
   "metadata": {},
   "outputs": [],
   "source": [
    "\n",
    "m.h2.sell(m.ind) >= 1e6\n",
    "# sum(p.sell(m.h2, m.ind, t) for t in p.time)\n",
    "m.h2.sell() >= 3 * 1e6\n",
    "m.h2.sell_price(m.ind) == 2\n",
    "m.h2.sell_price(m.usa) == 2.5\n",
    "# This shows the price being entered is in USD\n",
    "# converted to EUR as the location is given as the EU\n",
    "m.h2.sell_price(m.dollar, m.eu) == 1.5\n",
    "\n",
    "m.gwp.emit(m.h2) <= 1e6\n",
    "\n",
    "m.pow = Resource(basis = m.mw, label = 'Power')\n",
    "\n",
    "m.pow.emit(m.eu) == [5, 5, 6] \n",
    "m.pow.emit(m.ind) == list(range(24))\n",
    "m.pow.emit(m.usa) == 3\n",
    "\n",
    "m.sun = Resource(basis = m.mw, label = 'Solar')\n",
    "m.wind = Resource(basis = m.mw, label = 'Wind')\n",
    "m.ng = Resource(basis = m.ton, label = 'Natural Gas')\n",
    "\n",
    "\n",
    "m.ng.buy(m.usa) <= 1e6\n",
    "m.ng.buy(m.tx) == 1e5 # tx needs to buy exactly 100,000 tons\n",
    "m.ng.buy(m.eu) <= 1e6\n",
    "m.ng.buy(m.ind) <= 1e6\n",
    "\n",
    "\n",
    "m.o2 = Resource(basis = m.ton, label = 'Oxygen')\n",
    "m.h2o = Resource(m.ton, label = 'Water')\n",
    "# this applies everywhere\n",
    "m.h2o.buy_price() = 0.5\n",
    "# these are only at location\n",
    "# the rest retain the global value provided  \n",
    "m.h2o.buy_price(m.usa) = 1 \n",
    "m.h2o.buy_price(m.ath) = 0.4\n",
    "\n",
    "m.co2 = Resource(m.ton, label = 'Carbon Dioxide')\n",
    "m.co2.emit(m.gwp) == 100\n",
    "m.co2.emit(m.eut) == 100"
   ]
  },
  {
   "cell_type": "markdown",
   "metadata": {},
   "source": [
    "## Materials"
   ]
  },
  {
   "cell_type": "code",
   "execution_count": null,
   "metadata": {},
   "outputs": [],
   "source": [
    "m.steel = Resource(m.ton, label = 'Steel')\n",
    "m.steel.emit(m.gwp) = 10 \n",
    "m.cement = Resource(m.ton, label = 'Cement')"
   ]
  },
  {
   "cell_type": "markdown",
   "metadata": {},
   "source": [
    "## Land"
   ]
  },
  {
   "cell_type": "code",
   "execution_count": null,
   "metadata": {},
   "outputs": [],
   "source": [
    "m.sand = Land(m.acre, label='Sand')"
   ]
  },
  {
   "cell_type": "code",
   "execution_count": null,
   "metadata": {},
   "outputs": [],
   "source": [
    "m.sand.use(m.usa, m.y) <= 1e6"
   ]
  },
  {
   "cell_type": "code",
   "execution_count": null,
   "metadata": {},
   "outputs": [],
   "source": [
    "m.sand.pprint(True)"
   ]
  },
  {
   "cell_type": "code",
   "execution_count": null,
   "metadata": {},
   "outputs": [],
   "source": [
    "m.prg.NN()"
   ]
  },
  {
   "cell_type": "markdown",
   "metadata": {},
   "source": [
    "## Process "
   ]
  },
  {
   "cell_type": "code",
   "execution_count": null,
   "metadata": {},
   "outputs": [],
   "source": [
    "\n",
    "m.pem = Process(label = 'PEM Electrolyzer')\n",
    "m.pem.life(m.y) = 20   \n",
    "m.pem.conv(m.h2) = - 0.4*m.pow  + 0.8*m.o2\n",
    "m.pem.conv(m.h2) = - 0.2*m.h2o\n",
    "m.pem.capex(m.usa) = 1e6\n",
    "m.pem.capex(m.eu) = [1e6, 0.95*1e6, 0.9*1e6]\n",
    "m.pem.capex(m.ind) = 1e6\n",
    "m.pem.opex = 1e3\n",
    "m.pem.cap(m.usa) >= 1000\n",
    "m.pem.cap(m.usa) <= 10 \n",
    "m.pem.time(m.h) = 2\n",
    "m.pem.use(m.farmland, m.acre) = (200, 300) \n",
    "\n",
    "\n",
    "m.wf = Process(label = 'Wind Farm')\n",
    "m.wf.life(m.y) = 50 \n",
    "m.wf(m.pow) = 1.3*m.wind \n",
    "m.wf.capex(m.usa) = 1e6 \n",
    "m.wf.capex(m.eu) = [1e6, 0.95*1e6, 0.9*1e6]\n",
    "m.wf.capex(m.ind) = 1e6\n",
    "# bounds are summed for wfs across at all locations \n",
    "m.wf.cap() >= 1000 \n",
    "m.wf.cap() <= 10\n",
    "m.wf.dispose(m.y) <= [100, 200, 300]\n",
    "m.wf.op(m.tx) = # variable intermittency data a\n",
    "m.wf.op(m.cali) = # variable intermittency data b\n",
    "m.wf.op(m.ath) = # variable intermittency data c\n",
    "m.wf.use() = 1.6*m.steel + 0.3*m.cement \n",
    "\n",
    "m.pv = Process(label = 'Solar PV')\n",
    "m.pv(m.pow) = 1.3*m.sun\n",
    "# exacts are applied to pv at all locations\n",
    "# capacity modes\n",
    "m.pv.capex(cap = (0, 20)) = 100 \n",
    "m.pv.capex(cap = (20, 40)) = 70 \n",
    "m.pv.capex(cap = (40, 80)) = 55  # check whether max cap bin here matches the max capacity \n",
    "m.pv.op(m.tx) = # variable intermittency data a\n",
    "m.pv.op(m.cali) = # variable intermittency data b\n",
    "m.pv.op(m.ath) = # variable intermittency data c\n",
    "m.pv.cap() <= 80 \n",
    "\n",
    "m.tx.has(m.wf, m.pv, m.pem)"
   ]
  },
  {
   "cell_type": "markdown",
   "metadata": {},
   "source": [
    "## Storage "
   ]
  },
  {
   "cell_type": "code",
   "execution_count": null,
   "metadata": {},
   "outputs": [],
   "source": [
    "m.lii = Storage(m.usa, m.eu, label='Lithium Ion Battery')\n",
    "m.lii.store(m.pow)\n",
    "m.lii.cap >= 40\n",
    "m.lii.cap <= 1000\n",
    "\n",
    "# assumed to be available at all locations\n",
    "m.silo = Storage(label='Hydrogen Silo')\n",
    "m.silo.store(m.h2) == 0.8 * m.pow\n",
    "m.silo.cap == 50\n",
    "m.silo.capex(m.usa) == 1e6\n",
    "m.silo.capex(m.eu) == [1e6, 0.95 * 1e6, 0.9 * 1e6]"
   ]
  },
  {
   "cell_type": "markdown",
   "metadata": {},
   "source": [
    "## Transit "
   ]
  },
  {
   "cell_type": "code",
   "execution_count": null,
   "metadata": {},
   "outputs": [],
   "source": [
    "m.wire = Transit(m.grid, label = 'Car')\n",
    "m.wire.carry(m.pow) \n",
    "m.wire.capex(m.usa) = 1e6 # all links within USA \n",
    "# if speed not provided then instantenous\n",
    "\n",
    "m.ship = Transit(m.sea, label = 'Ship')\n",
    "# can make this return an attribute that gets set\n",
    "# setattr can be used to then set the value \n",
    "m.ship.carry(m.h2) == - 0.8*m.pow   \n",
    "m.ship.capex(m.sea) == 1e6\n",
    "m.ship.speed(m.mile, m.h) == 10 \n"
   ]
  },
  {
   "cell_type": "markdown",
   "metadata": {},
   "source": [
    "## Formulate Model"
   ]
  },
  {
   "cell_type": "code",
   "execution_count": null,
   "metadata": {},
   "outputs": [],
   "source": [
    "# add binaries only where needed, such as operation with minimum capacities\n",
    "m.pprint()"
   ]
  },
  {
   "cell_type": "code",
   "execution_count": null,
   "metadata": {},
   "outputs": [],
   "source": []
  }
 ],
 "metadata": {
  "kernelspec": {
   "display_name": ".venv",
   "language": "python",
   "name": "python3"
  },
  "language_info": {
   "codemirror_mode": {
    "name": "ipython",
    "version": 3
   },
   "file_extension": ".py",
   "mimetype": "text/x-python",
   "name": "python",
   "nbconvert_exporter": "python",
   "pygments_lexer": "ipython3",
   "version": "3.12.5"
  }
 },
 "nbformat": 4,
 "nbformat_minor": 2
}
