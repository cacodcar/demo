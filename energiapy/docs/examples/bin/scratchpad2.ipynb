{
 "cells": [
  {
   "cell_type": "code",
   "execution_count": 1,
   "metadata": {},
   "outputs": [],
   "source": [
    "# def load_data(loc:str, index:list):\n",
    "#     df = pandas.read_csv(f'data/{loc}_solar19.csv')\n",
    "#     df['idx'] = index\n",
    "#     df = df.set_index('idx')\n",
    "#     return df\n",
    "# idx = [(i,j,k) for i,j,k in product(range(1), range(365), range(24))]\n",
    "# weather_ny = load_data('ny', idx)[['DNI', 'Wind Speed']]\n",
    "# weather_ny = weather_ny.rename(columns= {'DNI': 'dni', 'Wind Speed': 'wind_speed'})\n",
    "# weather_sd = load_data('sd', idx)[['dni', 'wind_speed']]\n",
    "# weather_ho = load_data('ho', idx)[['dni', 'wind_speed']]\"\"\n",
    "# demand_sd = pandas.read_excel('data/HistoricalEMSHourlyLoad-2019.xlsx', index_col= 0)[['SDGE']]\n",
    "# demand_ho = pandas.read_excel('data/Native_Load_2019.xlsx')[['COAST']]\n",
    "# demand_ny = DataFrame(pandas.read_csv('data/NYC_load.csv')['Load']) #from Will and Doga\n",
    "# ng_price = make_henry_price_df(\n",
    "#     file_name='data/Henry_Hub_Natural_Gas_Spot_Price_Daily.csv', year=2020)\n",
    "# ng_price = ng_price.drop(columns= 'scales')\n",
    "# ng_price = remove_outliers(ng_price, sd_cuttoff = 3)\n",
    "# ng_price = pandas.concat([ng_price])"
   ]
  },
  {
   "cell_type": "code",
   "execution_count": 2,
   "metadata": {},
   "outputs": [],
   "source": [
    "import sys\n",
    "\n",
    "sys.path.append('src')"
   ]
  },
  {
   "cell_type": "code",
   "execution_count": 3,
   "metadata": {},
   "outputs": [],
   "source": [
    "from energiapy.components import *\n",
    "from energiapy.environ import *\n",
    "from pandas import DataFrame\n",
    "from dataclasses import fields, field, dataclass"
   ]
  },
  {
   "cell_type": "code",
   "execution_count": 4,
   "metadata": {},
   "outputs": [],
   "source": [
    "from energiapy.elements.parameter import Prm\n",
    "from energiapy.elements.variable import Vrb\n",
    "from energiapy.elements.expression import Exn\n",
    "from energiapy.elements.constraint import Cns"
   ]
  },
  {
   "cell_type": "code",
   "execution_count": 5,
   "metadata": {},
   "outputs": [],
   "source": [
    "a = Prm(2) + Prm(3)\n",
    "b = Prm(5) * Prm(3)\n",
    "c = Prm(5) / Prm(3)"
   ]
  },
  {
   "cell_type": "code",
   "execution_count": 6,
   "metadata": {},
   "outputs": [],
   "source": [
    "d = list(range(17))\n",
    "e = list(range(13))"
   ]
  },
  {
   "cell_type": "code",
   "execution_count": 7,
   "metadata": {},
   "outputs": [],
   "source": [
    "d = [i / 5 for i in range(6)]\n",
    "e = [i / 4 for i in range(5)]\n",
    "f = [i / 3 for i in range(4)]"
   ]
  },
  {
   "cell_type": "code",
   "execution_count": 8,
   "metadata": {},
   "outputs": [],
   "source": [
    "d = 365\n",
    "m = [31, 28, 31, 30, 31, 30, 31, 31, 30, 31, 30, 31]\n",
    "h = 8760"
   ]
  },
  {
   "cell_type": "code",
   "execution_count": 9,
   "metadata": {},
   "outputs": [],
   "source": [
    "def ranger(d: list | range):\n",
    "    if isinstance(d, int):\n",
    "        d = list(range(d + 1))\n",
    "        return [i / max(d) for i in d]\n",
    "    if isinstance(d, list):\n",
    "        return [i / sum(d) for i in d]"
   ]
  },
  {
   "cell_type": "code",
   "execution_count": 10,
   "metadata": {},
   "outputs": [],
   "source": [
    "s = sorted(set().union(*[ranger(i) for i in [d, m, h]]))"
   ]
  },
  {
   "cell_type": "code",
   "execution_count": 11,
   "metadata": {},
   "outputs": [],
   "source": [
    "a = ranger(4)\n",
    "b = ranger(5)"
   ]
  },
  {
   "cell_type": "code",
   "execution_count": 12,
   "metadata": {},
   "outputs": [],
   "source": [
    "s = sorted(set().union(a, b))"
   ]
  },
  {
   "cell_type": "code",
   "execution_count": 13,
   "metadata": {},
   "outputs": [
    {
     "data": {
      "text/plain": [
       "[0.0, 0.25, 0.5, 0.75, 1.0]"
      ]
     },
     "execution_count": 13,
     "metadata": {},
     "output_type": "execute_result"
    }
   ],
   "source": [
    "a"
   ]
  },
  {
   "cell_type": "code",
   "execution_count": 14,
   "metadata": {},
   "outputs": [
    {
     "data": {
      "text/plain": [
       "[0.0, 0.2, 0.25, 0.4, 0.5, 0.6, 0.75, 0.8, 1.0]"
      ]
     },
     "execution_count": 14,
     "metadata": {},
     "output_type": "execute_result"
    }
   ],
   "source": [
    "s"
   ]
  },
  {
   "cell_type": "code",
   "execution_count": 2,
   "metadata": {},
   "outputs": [],
   "source": [
    "from pyomo.environ import *"
   ]
  },
  {
   "cell_type": "code",
   "execution_count": 16,
   "metadata": {},
   "outputs": [],
   "source": [
    "# from sympy import symbols\n",
    "\n",
    "# 4 - s00*27 + p0*20 = 0\n",
    "# 5 - s01*27 + p1*20 = 0\n",
    "# 6 - s10*11 + p2*20 = 0\n",
    "# 3 - s11*11 + p3*20 = 0\n",
    "\n",
    "# s00 + s01 = 1\n",
    "# s10 + s11 = 1\n",
    "\n",
    "# p0 + p1 + p2 + p3 = 1"
   ]
  },
  {
   "cell_type": "code",
   "execution_count": 17,
   "metadata": {},
   "outputs": [
    {
     "name": "stdout",
     "output_type": "stream",
     "text": [
      "{p0: 9/10 - p1, p2: 1/10 - p3, s00: 22/27 - 20*p1/27, s01: 20*p1/27 + 5/27, s10: 8/11 - 20*p3/11, s11: 20*p3/11 + 3/11}\n"
     ]
    }
   ],
   "source": [
    "from sympy import symbols, Eq, solve, Rel, nonlinsolve\n",
    "\n",
    "# Define variables\n",
    "s00, s01, s10, s11, p0, p1, p2, p3 = symbols(\n",
    "    's00 s01 s10 s11 p0 p1 p2 p3', positive=True\n",
    ")\n",
    "\n",
    "# Define the equations\n",
    "equations = [\n",
    "    Eq(4 - s00 * 27 + p0 * 20, 0),\n",
    "    Eq(5 - s01 * 27 + p1 * 20, 0),\n",
    "    Eq(6 - s10 * 11 + p2 * 20, 0),\n",
    "    Eq(3 - s11 * 11 + p3 * 20, 0),\n",
    "    Eq(s00 + s01, 1),\n",
    "    Eq(s10 + s11, 1),\n",
    "    Eq(p0 + p1 + p2 + p3, 1),\n",
    "    # Rel(9/10 - p1, 0, '>'),\n",
    "    # Rel(1/10 - p3, 0, '>'),\n",
    "    # Rel(22/27 - 20*p1/27, 0, '>'),\n",
    "    # Rel(8/11 - 20*p3/11, 0, '>'),\n",
    "]\n",
    "solution = solve(equations, [s00, s01, s10, s11, p0, p1, p2, p3])\n",
    "\n",
    "# Solve the system\n",
    "# solution = nonlinsolve(equations, [s00, s01, s10, s11, p0, p1, p2, p3])\n",
    "print(solution)"
   ]
  },
  {
   "cell_type": "code",
   "execution_count": 18,
   "metadata": {},
   "outputs": [],
   "source": [
    "# m.b = Var(list(range(4)), domain=NonNegativeReals)\n",
    "# m.s = Var(list(range(2)), domain=NonNegativeReals)\n",
    "# m.p = Var(list(range(1)), domain=NonNegativeReals)"
   ]
  },
  {
   "cell_type": "code",
   "execution_count": 8,
   "metadata": {},
   "outputs": [
    {
     "name": "stdout",
     "output_type": "stream",
     "text": [
      "WARNING: Loading a SolverResults object with a warning status into\n",
      "model.name=\"unknown\";\n",
      "    - termination condition: infeasibleOrUnbounded\n",
      "    - message from solver: Problem proven to be infeasible or unbounded.\n",
      "3 Var Declarations\n",
      "    b : Size=4, Index={0, 1, 2, 3}\n",
      "        Key : Lower : Value : Upper : Fixed : Stale : Domain\n",
      "          0 :     0 :  None :  None : False :  True : NonNegativeReals\n",
      "          1 :     0 :  None :  None : False :  True : NonNegativeReals\n",
      "          2 :     0 :  None :  None : False :  True : NonNegativeReals\n",
      "          3 :     0 :  None :  None : False :  True : NonNegativeReals\n",
      "    p : Size=4, Index={0, 1, 2, 3}\n",
      "        Key : Lower : Value : Upper : Fixed : Stale : Domain\n",
      "          0 :     0 :  None :  None : False :  True : NonNegativeReals\n",
      "          1 :     0 :  None :  None : False :  True : NonNegativeReals\n",
      "          2 :     0 :  None :  None : False :  True : NonNegativeReals\n",
      "          3 :     0 :  None :  None : False :  True : NonNegativeReals\n",
      "    s : Size=4, Index={0, 1, 2, 3}\n",
      "        Key : Lower : Value : Upper : Fixed : Stale : Domain\n",
      "          0 :     0 :  None :  None : False :  True : NonNegativeReals\n",
      "          1 :     0 :  None :  None : False :  True : NonNegativeReals\n",
      "          2 :     0 :  None :  None : False :  True : NonNegativeReals\n",
      "          3 :     0 :  None :  None : False :  True : NonNegativeReals\n",
      "\n",
      "1 Objective Declarations\n",
      "    o : Size=1, Index=None, Active=True\n",
      "        Key  : Active : Sense    : Expression\n",
      "        None :   True : minimize : -3*(s[0] + s[1] + s[2] + s[3]) + 2*(b[0] + b[1] + b[2] + b[3]) + 0.5*(p[0] + p[1] + p[2] + p[3])\n",
      "\n",
      "22 Constraint Declarations\n",
      "    c0 : Size=1, Index=None, Active=True\n",
      "        Key  : Lower : Body : Upper : Active\n",
      "        None :  -Inf : b[0] :  12.0 :   True\n",
      "    c0_ : Size=1, Index=None, Active=True\n",
      "        Key  : Lower : Body : Upper : Active\n",
      "        None :   3.0 : b[0] :  +Inf :   True\n",
      "    c1 : Size=1, Index=None, Active=True\n",
      "        Key  : Lower : Body : Upper : Active\n",
      "        None :  -Inf : b[1] :  15.0 :   True\n",
      "    c10 : Size=1, Index=None, Active=True\n",
      "        Key  : Lower : Body               : Upper : Active\n",
      "        None :   0.0 : b[3] - s[3] + p[3] :   0.0 :   True\n",
      "    c1_ : Size=1, Index=None, Active=True\n",
      "        Key  : Lower : Body : Upper : Active\n",
      "        None :   3.0 : b[1] :  +Inf :   True\n",
      "    c2 : Size=1, Index=None, Active=True\n",
      "        Key  : Lower : Body : Upper : Active\n",
      "        None :  -Inf : b[2] :  18.0 :   True\n",
      "    c2_ : Size=1, Index=None, Active=True\n",
      "        Key  : Lower : Body : Upper : Active\n",
      "        None :   3.0 : b[2] :  +Inf :   True\n",
      "    c3 : Size=1, Index=None, Active=True\n",
      "        Key  : Lower : Body : Upper : Active\n",
      "        None :  -Inf : b[3] :   9.0 :   True\n",
      "    c3_ : Size=1, Index=None, Active=True\n",
      "        Key  : Lower : Body : Upper : Active\n",
      "        None :   3.0 : b[3] :  +Inf :   True\n",
      "    c4 : Size=1, Index=None, Active=True\n",
      "        Key  : Lower : Body        : Upper : Active\n",
      "        None :  10.0 : s[0] + s[1] :  +Inf :   True\n",
      "    c4_ : Size=1, Index=None, Active=True\n",
      "        Key  : Lower : Body        : Upper : Active\n",
      "        None :  -Inf : s[0] + s[1] :  15.0 :   True\n",
      "    c5 : Size=1, Index=None, Active=True\n",
      "        Key  : Lower : Body        : Upper : Active\n",
      "        None :  11.0 : s[2] + s[3] :  +Inf :   True\n",
      "    c5_ : Size=1, Index=None, Active=True\n",
      "        Key  : Lower : Body        : Upper : Active\n",
      "        None :  -Inf : s[2] + s[3] :  17.0 :   True\n",
      "    c6 : Size=1, Index=None, Active=True\n",
      "        Key  : Lower : Body                      : Upper : Active\n",
      "        None :  -Inf : p[0] + p[1] + p[2] + p[3] :  20.0 :   True\n",
      "    c6_ : Size=1, Index=None, Active=True\n",
      "        Key  : Lower : Body                      : Upper : Active\n",
      "        None :  15.0 : p[0] + p[1] + p[2] + p[3] :  +Inf :   True\n",
      "    c7 : Size=1, Index=None, Active=True\n",
      "        Key  : Lower : Body               : Upper : Active\n",
      "        None :   0.0 : b[0] - s[0] + p[0] :   0.0 :   True\n",
      "    c8 : Size=1, Index=None, Active=True\n",
      "        Key  : Lower : Body               : Upper : Active\n",
      "        None :   0.0 : b[1] - s[1] + p[1] :   0.0 :   True\n",
      "    c9 : Size=1, Index=None, Active=True\n",
      "        Key  : Lower : Body               : Upper : Active\n",
      "        None :   0.0 : b[2] - s[2] + p[2] :   0.0 :   True\n",
      "    conv1 : Size=1, Index=None, Active=True\n",
      "        Key  : Lower : Body                           : Upper : Active\n",
      "        None :   0.0 : p[0] - 0.3333333333333333*b[0] :   0.0 :   True\n",
      "    conv2 : Size=1, Index=None, Active=True\n",
      "        Key  : Lower : Body                           : Upper : Active\n",
      "        None :   0.0 : p[1] - 0.3333333333333333*b[1] :   0.0 :   True\n",
      "    conv3 : Size=1, Index=None, Active=True\n",
      "        Key  : Lower : Body                           : Upper : Active\n",
      "        None :   0.0 : p[2] - 0.3333333333333333*b[2] :   0.0 :   True\n",
      "    conv4 : Size=1, Index=None, Active=True\n",
      "        Key  : Lower : Body                           : Upper : Active\n",
      "        None :   0.0 : p[3] - 0.3333333333333333*b[3] :   0.0 :   True\n",
      "\n",
      "26 Declarations: b s p c0 c1 c2 c3 c0_ c1_ c2_ c3_ c4 c5 c4_ c5_ c6 c6_ c7 c8 c9 c10 conv1 conv2 conv3 conv4 o\n"
     ]
    }
   ],
   "source": [
    "m = ConcreteModel()\n",
    "\n",
    "\n",
    "m.b = Var(list(range(4)), domain=NonNegativeReals)\n",
    "m.s = Var(list(range(4)), domain=NonNegativeReals)\n",
    "m.p = Var(list(range(4)), domain=NonNegativeReals)\n",
    "\n",
    "\n",
    "m.c0 = Constraint(expr=m.b[0] <= 12)\n",
    "m.c1 = Constraint(expr=m.b[1] <= 15)\n",
    "m.c2 = Constraint(expr=m.b[2] <= 18)\n",
    "m.c3 = Constraint(expr=m.b[3] <= 9)\n",
    "m.c0_ = Constraint(expr=m.b[0] >= 3)\n",
    "m.c1_ = Constraint(expr=m.b[1] >= 3)\n",
    "m.c2_ = Constraint(expr=m.b[2] >= 3)\n",
    "m.c3_ = Constraint(expr=m.b[3] >= 3)\n",
    "\n",
    "m.c4 = Constraint(expr=m.s[0] + m.s[1] >= 10)\n",
    "m.c5 = Constraint(expr=m.s[2] + m.s[3] >= 11)\n",
    "\n",
    "m.c4_ = Constraint(expr=m.s[0] + m.s[1] <= 15)\n",
    "m.c5_ = Constraint(expr=m.s[2] + m.s[3] <= 17)\n",
    "\n",
    "m.c6 = Constraint(expr=m.p[0] + m.p[1] + m.p[2] + m.p[3] <= 20)\n",
    "m.c6_ = Constraint(expr=m.p[0] + m.p[1] + m.p[2] + m.p[3] >= 15)\n",
    "\n",
    "\n",
    "m.c7 = Constraint(expr=m.b[0] - m.s[0] + m.p[0] == 0)\n",
    "m.c8 = Constraint(expr=m.b[1] - m.s[1] + m.p[1] == 0)\n",
    "m.c9 = Constraint(expr=m.b[2] - m.s[2] + m.p[2] == 0)\n",
    "m.c10 = Constraint(expr=m.b[3] - m.s[3] + m.p[3] == 0)\n",
    "\n",
    "m.conv1 = Constraint(expr=m.p[0] == (1 / 3) * m.b[0])\n",
    "m.conv2 = Constraint(expr=m.p[1] == (1 / 3) * m.b[1])\n",
    "m.conv3 = Constraint(expr=m.p[2] == (1 / 3) * m.b[2])\n",
    "m.conv4 = Constraint(expr=m.p[3] == (1 / 3) * m.b[3])\n",
    "\n",
    "\n",
    "m.o = Objective(\n",
    "    expr=-3 * (m.s[0] + m.s[1] + m.s[2] + m.s[3])\n",
    "    + 2 * (m.b[0] + m.b[1] + m.b[2] + m.b[3])\n",
    "    + 0.5 * (m.p[0] + m.p[1] + m.p[2] + m.p[3])\n",
    ")\n",
    "res = SolverFactory('gurobi').solve(m)\n",
    "\n",
    "m.pprint()"
   ]
  },
  {
   "cell_type": "code",
   "execution_count": 10,
   "metadata": {},
   "outputs": [
    {
     "data": {
      "text/plain": [
       "{3}"
      ]
     },
     "execution_count": 10,
     "metadata": {},
     "output_type": "execute_result"
    }
   ],
   "source": [
    "{1,2}^{1,2, 3}"
   ]
  },
  {
   "cell_type": "code",
   "execution_count": 44,
   "metadata": {},
   "outputs": [],
   "source": [
    "s = list(m.s.extract_values().values())\n",
    "ms = [-3 * i for i in s]\n",
    "b = list(m.b.extract_values().values())\n",
    "mb = [2 * i for i in b]\n",
    "p = list(m.p.extract_values().values())\n",
    "mp = [0.5 * i for i in p]\n",
    "o = m.o()"
   ]
  },
  {
   "cell_type": "code",
   "execution_count": 45,
   "metadata": {},
   "outputs": [
    {
     "data": {
      "text/plain": [
       "([10.0, 5.0, 16.0, 1.0], [4.0, 5.0, 2.0, 1.0], [6.0, 0.0, 14.0, 0.0], -62.0)"
      ]
     },
     "execution_count": 45,
     "metadata": {},
     "output_type": "execute_result"
    }
   ],
   "source": [
    "s, b, p, o"
   ]
  },
  {
   "cell_type": "code",
   "execution_count": 63,
   "metadata": {},
   "outputs": [
    {
     "data": {
      "text/plain": [
       "(-96.0, 24.0, 10.0)"
      ]
     },
     "execution_count": 63,
     "metadata": {},
     "output_type": "execute_result"
    }
   ],
   "source": [
    "sum(ms), sum(mb), sum(mp)"
   ]
  },
  {
   "cell_type": "code",
   "execution_count": 48,
   "metadata": {},
   "outputs": [
    {
     "data": {
      "text/plain": [
       "-62.0"
      ]
     },
     "execution_count": 48,
     "metadata": {},
     "output_type": "execute_result"
    }
   ],
   "source": [
    "sum(ms) + sum(mb) + sum(mp)"
   ]
  },
  {
   "cell_type": "code",
   "execution_count": 24,
   "metadata": {},
   "outputs": [],
   "source": [
    "import matplotlib.pyplot as plt\n",
    "from matplotlib import rc"
   ]
  },
  {
   "cell_type": "code",
   "execution_count": 46,
   "metadata": {},
   "outputs": [
    {
     "data": {
      "image/png": "[encoded data removed]",
      "text/plain": [
       "<Figure size 1000x600 with 1 Axes>"
      ]
     },
     "metadata": {},
     "output_type": "display_data"
    }
   ],
   "source": [
    "x_values = range(4)\n",
    "rc('font', size=16)\n",
    "fig, ax = plt.subplots(figsize=(10, 6))\n",
    "# Plotting the data\n",
    "ax.plot(x_values, s, label='sell', marker='o')\n",
    "ax.plot(x_values, b, label='buy', marker='s')\n",
    "ax.plot(x_values, p, label='produce', marker='^')\n",
    "\n",
    "# Adding title and labels\n",
    "plt.title(\"Resource Flow\")\n",
    "plt.xlabel(\"Time Period\")\n",
    "plt.ylabel(\"Value\")\n",
    "plt.xticks(x_values)\n",
    "plt.grid(alpha=0.3)\n",
    "# Showing a legend\n",
    "plt.legend()\n",
    "\n",
    "# Display the graph\n",
    "plt.show()\n",
    "\n",
    "x_values = range(4)\n",
    "rc('font', size=16)\n",
    "fig, ax = plt.subplots(figsize=(10, 6))\n",
    "# Plotting the data\n",
    "ax.plot(x_values, ms, label='$ sell', marker='o')\n",
    "ax.plot(x_values, mb, label='$ buy', marker='s')\n",
    "ax.plot(x_values, mp, label='$ produce', marker='^')\n",
    "\n",
    "# Adding title and labels\n",
    "plt.title(\"Cash Flow\")\n",
    "plt.xlabel(\"Time Period\")\n",
    "plt.ylabel(\"Value\")\n",
    "plt.xticks(x_values)\n",
    "plt.grid(alpha=0.3)\n",
    "# Showing a legend\n",
    "plt.legend()\n",
    "\n",
    "# Display the graph\n",
    "plt.show()"
   ]
  },
  {
   "cell_type": "code",
   "execution_count": 49,
   "metadata": {},
   "outputs": [
    {
     "name": "stdout",
     "output_type": "stream",
     "text": [
      "3 Var Declarations\n",
      "    b : Size=4, Index={0, 1, 2, 3}\n",
      "        Key : Lower : Value : Upper : Fixed : Stale : Domain\n",
      "          0 :     0 :   4.0 :  None : False : False : NonNegativeReals\n",
      "          1 :     0 :   1.0 :  None : False : False : NonNegativeReals\n",
      "          2 :     0 :   6.0 :  None : False : False : NonNegativeReals\n",
      "          3 :     0 :   1.0 :  None : False : False : NonNegativeReals\n",
      "    p : Size=1, Index={0}\n",
      "        Key : Lower : Value : Upper : Fixed : Stale : Domain\n",
      "          0 :     0 :  20.0 :  None : False : False : NonNegativeReals\n",
      "    s : Size=2, Index={0, 1}\n",
      "        Key : Lower : Value : Upper : Fixed : Stale : Domain\n",
      "          0 :     0 :  15.0 :  None : False : False : NonNegativeReals\n",
      "          1 :     0 :  17.0 :  None : False : False : NonNegativeReals\n",
      "\n",
      "1 Objective Declarations\n",
      "    o : Size=1, Index=None, Active=True\n",
      "        Key  : Active : Sense    : Expression\n",
      "        None :   True : minimize : -3*(s[0] + s[1]) + 2*(b[0] + b[1] + b[2] + b[3]) + 0.5*p[0]\n",
      "\n",
      "15 Constraint Declarations\n",
      "    c0 : Size=1, Index=None, Active=True\n",
      "        Key  : Lower : Body : Upper : Active\n",
      "        None :  -Inf : b[0] :   4.0 :   True\n",
      "    c0_ : Size=1, Index=None, Active=True\n",
      "        Key  : Lower : Body : Upper : Active\n",
      "        None :   1.0 : b[0] :  +Inf :   True\n",
      "    c1 : Size=1, Index=None, Active=True\n",
      "        Key  : Lower : Body : Upper : Active\n",
      "        None :  -Inf : b[1] :   5.0 :   True\n",
      "    c1_ : Size=1, Index=None, Active=True\n",
      "        Key  : Lower : Body : Upper : Active\n",
      "        None :   1.0 : b[1] :  +Inf :   True\n",
      "    c2 : Size=1, Index=None, Active=True\n",
      "        Key  : Lower : Body : Upper : Active\n",
      "        None :  -Inf : b[2] :   6.0 :   True\n",
      "    c2_ : Size=1, Index=None, Active=True\n",
      "        Key  : Lower : Body : Upper : Active\n",
      "        None :   1.0 : b[2] :  +Inf :   True\n",
      "    c3 : Size=1, Index=None, Active=True\n",
      "        Key  : Lower : Body : Upper : Active\n",
      "        None :  -Inf : b[3] :   3.0 :   True\n",
      "    c3_ : Size=1, Index=None, Active=True\n",
      "        Key  : Lower : Body : Upper : Active\n",
      "        None :   1.0 : b[3] :  +Inf :   True\n",
      "    c4 : Size=1, Index=None, Active=True\n",
      "        Key  : Lower : Body : Upper : Active\n",
      "        None :  10.0 : s[0] :  +Inf :   True\n",
      "    c4_ : Size=1, Index=None, Active=True\n",
      "        Key  : Lower : Body : Upper : Active\n",
      "        None :  -Inf : s[0] :  15.0 :   True\n",
      "    c5 : Size=1, Index=None, Active=True\n",
      "        Key  : Lower : Body : Upper : Active\n",
      "        None :  11.0 : s[1] :  +Inf :   True\n",
      "    c5_ : Size=1, Index=None, Active=True\n",
      "        Key  : Lower : Body : Upper : Active\n",
      "        None :  -Inf : s[1] :  17.0 :   True\n",
      "    c6 : Size=1, Index=None, Active=True\n",
      "        Key  : Lower : Body : Upper : Active\n",
      "        None :  -Inf : p[0] :  20.0 :   True\n",
      "    c6_ : Size=1, Index=None, Active=True\n",
      "        Key  : Lower : Body : Upper : Active\n",
      "        None :  15.0 : p[0] :  +Inf :   True\n",
      "    c7 : Size=1, Index=None, Active=True\n",
      "        Key  : Lower : Body                                           : Upper : Active\n",
      "        None :   0.0 : b[0] + b[1] + b[2] + b[3] - s[0] - s[1] + p[0] :   0.0 :   True\n",
      "\n",
      "19 Declarations: b s p c0 c1 c2 c3 c0_ c1_ c2_ c3_ c4 c5 c4_ c5_ c6 c6_ c7 o\n"
     ]
    }
   ],
   "source": [
    "m = ConcreteModel()\n",
    "\n",
    "m.b = Var(list(range(4)), domain=NonNegativeReals)\n",
    "m.s = Var(list(range(2)), domain=NonNegativeReals)\n",
    "m.p = Var(list(range(1)), domain=NonNegativeReals)\n",
    "\n",
    "m.c0 = Constraint(expr=m.b[0] <= 4)\n",
    "m.c1 = Constraint(expr=m.b[1] <= 5)\n",
    "m.c2 = Constraint(expr=m.b[2] <= 6)\n",
    "m.c3 = Constraint(expr=m.b[3] <= 3)\n",
    "\n",
    "m.c0_ = Constraint(expr=m.b[0] >= 1)\n",
    "m.c1_ = Constraint(expr=m.b[1] >= 1)\n",
    "m.c2_ = Constraint(expr=m.b[2] >= 1)\n",
    "m.c3_ = Constraint(expr=m.b[3] >= 1)\n",
    "\n",
    "\n",
    "m.c4 = Constraint(expr=m.s[0] >= 10)\n",
    "m.c5 = Constraint(expr=m.s[1] >= 11)\n",
    "\n",
    "\n",
    "m.c4_ = Constraint(expr=m.s[0] <= 15)\n",
    "m.c5_ = Constraint(expr=m.s[1] <= 17)\n",
    "\n",
    "m.c6 = Constraint(expr=m.p[0] <= 20)\n",
    "m.c6_ = Constraint(expr=m.p[0] >= 15)\n",
    "\n",
    "\n",
    "m.c7 = Constraint(\n",
    "    expr=m.b[0] + m.b[1] + m.b[2] + m.b[3] - m.s[0] - m.s[1] + m.p[0] == 0\n",
    ")\n",
    "\n",
    "m.o = Objective(\n",
    "    expr=-3 * (m.s[0] + m.s[1])\n",
    "    + 2 * (m.b[0] + m.b[1] + m.b[2] + m.b[3])\n",
    "    + 0.5 * (m.p[0])\n",
    ")\n",
    "res = SolverFactory('gurobi').solve(m)\n",
    "\n",
    "\n",
    "m.pprint()"
   ]
  },
  {
   "cell_type": "code",
   "execution_count": 59,
   "metadata": {},
   "outputs": [],
   "source": [
    "s = list(m.s.extract_values().values())\n",
    "# s = [15.0, 15.0, 17.0, 17.0]\n",
    "ms = [-3 * i for i in s]\n",
    "b = list(m.b.extract_values().values())\n",
    "mb = [2 * i for i in b]\n",
    "p = list(m.p.extract_values().values())\n",
    "# p = p*4\n",
    "mp = [0.5 * i for i in p]\n",
    "o = m.o()"
   ]
  },
  {
   "cell_type": "markdown",
   "metadata": {},
   "source": [
    "Reduce step 1"
   ]
  },
  {
   "cell_type": "code",
   "execution_count": 198,
   "metadata": {},
   "outputs": [
    {
     "name": "stdout",
     "output_type": "stream",
     "text": [
      "3 Var Declarations\n",
      "    in1 : Size=4, Index={0, 1, 2, 3}\n",
      "        Key : Lower : Value : Upper : Fixed : Stale : Domain\n",
      "          0 :     0 :   4.0 :  None : False : False : NonNegativeReals\n",
      "          1 :     0 :   1.0 :  None : False : False : NonNegativeReals\n",
      "          2 :     0 :   6.0 :  None : False : False : NonNegativeReals\n",
      "          3 :     0 :   1.0 :  None : False : False : NonNegativeReals\n",
      "    in2 : Size=1, Index={0}\n",
      "        Key : Lower : Value : Upper : Fixed : Stale : Domain\n",
      "          0 :     0 :  20.0 :  None : False : False : NonNegativeReals\n",
      "    out : Size=2, Index={0, 1}\n",
      "        Key : Lower : Value : Upper : Fixed : Stale : Domain\n",
      "          0 :     0 :  15.0 :  None : False : False : NonNegativeReals\n",
      "          1 :     0 :  17.0 :  None : False : False : NonNegativeReals\n",
      "\n",
      "1 Objective Declarations\n",
      "    o : Size=1, Index=None, Active=True\n",
      "        Key  : Active : Sense    : Expression\n",
      "        None :   True : minimize : -3*(out[0] + out[1]) + 2*(in1[0] + in1[1] + in1[2] + in1[3]) + 0.5*in2[0]\n",
      "\n",
      "15 Constraint Declarations\n",
      "    c0 : Size=1, Index=None, Active=True\n",
      "        Key  : Lower : Body   : Upper : Active\n",
      "        None :  -Inf : in1[0] :   4.0 :   True\n",
      "    c0_ : Size=1, Index=None, Active=True\n",
      "        Key  : Lower : Body   : Upper : Active\n",
      "        None :   1.0 : in1[0] :  +Inf :   True\n",
      "    c1 : Size=1, Index=None, Active=True\n",
      "        Key  : Lower : Body   : Upper : Active\n",
      "        None :  -Inf : in1[1] :   5.0 :   True\n",
      "    c1_ : Size=1, Index=None, Active=True\n",
      "        Key  : Lower : Body   : Upper : Active\n",
      "        None :   1.0 : in1[1] :  +Inf :   True\n",
      "    c2 : Size=1, Index=None, Active=True\n",
      "        Key  : Lower : Body   : Upper : Active\n",
      "        None :  -Inf : in1[2] :   6.0 :   True\n",
      "    c2_ : Size=1, Index=None, Active=True\n",
      "        Key  : Lower : Body   : Upper : Active\n",
      "        None :   1.0 : in1[2] :  +Inf :   True\n",
      "    c3 : Size=1, Index=None, Active=True\n",
      "        Key  : Lower : Body   : Upper : Active\n",
      "        None :  -Inf : in1[3] :   3.0 :   True\n",
      "    c3_ : Size=1, Index=None, Active=True\n",
      "        Key  : Lower : Body   : Upper : Active\n",
      "        None :   1.0 : in1[3] :  +Inf :   True\n",
      "    c4 : Size=1, Index=None, Active=True\n",
      "        Key  : Lower : Body   : Upper : Active\n",
      "        None :  10.0 : out[0] :  +Inf :   True\n",
      "    c4_ : Size=1, Index=None, Active=True\n",
      "        Key  : Lower : Body   : Upper : Active\n",
      "        None :  -Inf : out[0] :  15.0 :   True\n",
      "    c5 : Size=1, Index=None, Active=True\n",
      "        Key  : Lower : Body   : Upper : Active\n",
      "        None :  11.0 : out[1] :  +Inf :   True\n",
      "    c5_ : Size=1, Index=None, Active=True\n",
      "        Key  : Lower : Body   : Upper : Active\n",
      "        None :  -Inf : out[1] :  17.0 :   True\n",
      "    c6 : Size=1, Index=None, Active=True\n",
      "        Key  : Lower : Body   : Upper : Active\n",
      "        None :  -Inf : in2[0] :  20.0 :   True\n",
      "    c6_ : Size=1, Index=None, Active=True\n",
      "        Key  : Lower : Body   : Upper : Active\n",
      "        None :  15.0 : in2[0] :  +Inf :   True\n",
      "    c7 : Size=1, Index=None, Active=True\n",
      "        Key  : Lower : Body                                                         : Upper : Active\n",
      "        None :   0.0 : in1[0] + in1[1] + in1[2] + in1[3] - out[0] - out[1] + in2[0] :   0.0 :   True\n",
      "\n",
      "19 Declarations: in1 out in2 c0 c1 c2 c3 c0_ c1_ c2_ c3_ c4 c5 c4_ c5_ c6 c6_ c7 o\n"
     ]
    }
   ],
   "source": [
    "m = ConcreteModel()\n",
    "\n",
    "m.in1 = Var(list(range(4)), domain=NonNegativeReals)\n",
    "m.out = Var(list(range(2)), domain=NonNegativeReals)\n",
    "m.in2 = Var(list(range(1)), domain=NonNegativeReals)\n",
    "\n",
    "m.c0 = Constraint(expr=m.in1[0] <= 4)\n",
    "m.c1 = Constraint(expr=m.in1[1] <= 5)\n",
    "m.c2 = Constraint(expr=m.in1[2] <= 6)\n",
    "m.c3 = Constraint(expr=m.in1[3] <= 3)\n",
    "\n",
    "m.c0_ = Constraint(expr=m.in1[0] >= 1)\n",
    "m.c1_ = Constraint(expr=m.in1[1] >= 1)\n",
    "m.c2_ = Constraint(expr=m.in1[2] >= 1)\n",
    "m.c3_ = Constraint(expr=m.in1[3] >= 1)\n",
    "\n",
    "\n",
    "m.c4 = Constraint(expr=m.out[0] >= 10)\n",
    "m.c5 = Constraint(expr=m.out[1] >= 11)\n",
    "\n",
    "\n",
    "m.c4_ = Constraint(expr=m.out[0] <= 15)\n",
    "m.c5_ = Constraint(expr=m.out[1] <= 17)\n",
    "\n",
    "m.c6 = Constraint(expr=m.in2[0] <= 20)\n",
    "m.c6_ = Constraint(expr=m.in2[0] >= 15)\n",
    "\n",
    "\n",
    "m.c7 = Constraint(\n",
    "    expr=m.in1[0] + m.in1[1] + m.in1[2] + m.in1[3] - m.out[0] - m.out[1] + m.in2[0] == 0\n",
    ")\n",
    "\n",
    "m.o = Objective(\n",
    "    expr=-3 * (m.out[0] + m.out[1])\n",
    "    + 2 * (m.in1[0] + m.in1[1] + m.in1[2] + m.in1[3])\n",
    "    + 0.5 * (m.in2[0])\n",
    ")\n",
    "res = SolverFactory('gurobi').solve(m)\n",
    "\n",
    "\n",
    "m.pprint()"
   ]
  },
  {
   "cell_type": "code",
   "execution_count": 199,
   "metadata": {},
   "outputs": [],
   "source": [
    "out = list(m.out.extract_values().values())\n",
    "mout = [-3 * i for i in out]\n",
    "in1 = list(m.in1.extract_values().values())\n",
    "min1 = [2 * i for i in in1]\n",
    "in2 = list(m.in2.extract_values().values())\n",
    "min2 = [0.5 * i for i in in2]\n",
    "o = m.o()"
   ]
  },
  {
   "cell_type": "code",
   "execution_count": 200,
   "metadata": {},
   "outputs": [
    {
     "data": {
      "text/plain": [
       "([15.0, 17.0], [4.0, 1.0, 6.0, 1.0], [20.0], -62.0)"
      ]
     },
     "execution_count": 200,
     "metadata": {},
     "output_type": "execute_result"
    }
   ],
   "source": [
    "out, in1, in2, o"
   ]
  },
  {
   "cell_type": "code",
   "execution_count": 201,
   "metadata": {},
   "outputs": [
    {
     "data": {
      "text/plain": [
       "([-45.0, -51.0], [8.0, 2.0, 12.0, 2.0], [10.0])"
      ]
     },
     "execution_count": 201,
     "metadata": {},
     "output_type": "execute_result"
    }
   ],
   "source": [
    "mout, min1, min2"
   ]
  },
  {
   "cell_type": "code",
   "execution_count": 232,
   "metadata": {},
   "outputs": [
    {
     "name": "stdout",
     "output_type": "stream",
     "text": [
      "4 Var Declarations\n",
      "    in1 : Size=4, Index={0, 1, 2, 3}\n",
      "        Key : Lower : Value : Upper : Fixed : Stale : Domain\n",
      "          0 :     0 :   4.0 :  None : False : False : NonNegativeReals\n",
      "          1 :     0 :   4.0 :  None : False : False : NonNegativeReals\n",
      "          2 :     0 :   1.0 :  None : False : False : NonNegativeReals\n",
      "          3 :     0 :   3.0 :  None : False : False : NonNegativeReals\n",
      "    in2 : Size=1, Index={0}\n",
      "        Key : Lower : Value : Upper : Fixed : Stale : Domain\n",
      "          0 :     0 :  20.0 :  None : False : False : NonNegativeReals\n",
      "    in3 : water\n",
      "        Size=3, Index={0, 1, 2}\n",
      "        Key : Lower : Value : Upper : Fixed : Stale : Domain\n",
      "          0 :     0 :  24.0 :  None : False : False : NonNegativeReals\n",
      "          1 :     0 :  20.0 :  None : False : False : NonNegativeReals\n",
      "          2 :     0 :  36.0 :  None : False : False : NonNegativeReals\n",
      "    out : Size=2, Index={0, 1}\n",
      "        Key : Lower : Value : Upper : Fixed : Stale : Domain\n",
      "          0 :     0 :  15.0 :  None : False : False : NonNegativeReals\n",
      "          1 :     0 :  17.0 :  None : False : False : NonNegativeReals\n",
      "\n",
      "1 Objective Declarations\n",
      "    o : Size=1, Index=None, Active=True\n",
      "        Key  : Active : Sense    : Expression\n",
      "        None :   True : minimize : -3*(out[0] + out[1]) + 2*(in1[0] + in1[1] + in1[2] + in1[3]) + 0.5*in2[0] + 0.1*(in3[0] + in3[1] + in3[2])\n",
      "\n",
      "19 Constraint Declarations\n",
      "    c0 : Size=1, Index=None, Active=True\n",
      "        Key  : Lower : Body   : Upper : Active\n",
      "        None :  -Inf : in1[0] :   4.0 :   True\n",
      "    c0_ : Size=1, Index=None, Active=True\n",
      "        Key  : Lower : Body   : Upper : Active\n",
      "        None :   1.0 : in1[0] :  +Inf :   True\n",
      "    c1 : Size=1, Index=None, Active=True\n",
      "        Key  : Lower : Body   : Upper : Active\n",
      "        None :  -Inf : in1[1] :   5.0 :   True\n",
      "    c1_ : Size=1, Index=None, Active=True\n",
      "        Key  : Lower : Body   : Upper : Active\n",
      "        None :   1.0 : in1[1] :  +Inf :   True\n",
      "    c2 : Size=1, Index=None, Active=True\n",
      "        Key  : Lower : Body   : Upper : Active\n",
      "        None :  -Inf : in1[2] :   6.0 :   True\n",
      "    c2_ : Size=1, Index=None, Active=True\n",
      "        Key  : Lower : Body   : Upper : Active\n",
      "        None :   1.0 : in1[2] :  +Inf :   True\n",
      "    c3 : Size=1, Index=None, Active=True\n",
      "        Key  : Lower : Body   : Upper : Active\n",
      "        None :  -Inf : in1[3] :   3.0 :   True\n",
      "    c3_ : Size=1, Index=None, Active=True\n",
      "        Key  : Lower : Body   : Upper : Active\n",
      "        None :   1.0 : in1[3] :  +Inf :   True\n",
      "    c4 : Size=1, Index=None, Active=True\n",
      "        Key  : Lower : Body   : Upper : Active\n",
      "        None :  10.0 : out[0] :  +Inf :   True\n",
      "    c4_ : Size=1, Index=None, Active=True\n",
      "        Key  : Lower : Body   : Upper : Active\n",
      "        None :  -Inf : out[0] :  15.0 :   True\n",
      "    c5 : Size=1, Index=None, Active=True\n",
      "        Key  : Lower : Body   : Upper : Active\n",
      "        None :  11.0 : out[1] :  +Inf :   True\n",
      "    c5_ : Size=1, Index=None, Active=True\n",
      "        Key  : Lower : Body   : Upper : Active\n",
      "        None :  -Inf : out[1] :  17.0 :   True\n",
      "    c6 : Size=1, Index=None, Active=True\n",
      "        Key  : Lower : Body   : Upper : Active\n",
      "        None :  -Inf : in2[0] :  20.0 :   True\n",
      "    c6_ : Size=1, Index=None, Active=True\n",
      "        Key  : Lower : Body   : Upper : Active\n",
      "        None :  15.0 : in2[0] :  +Inf :   True\n",
      "    c7 : Size=1, Index=None, Active=True\n",
      "        Key  : Lower : Body                                                         : Upper : Active\n",
      "        None :   0.0 : in1[0] + in1[1] + in1[2] + in1[3] - out[0] - out[1] + in2[0] :   0.0 :   True\n",
      "    c8 : Size=1, Index=None, Active=True\n",
      "        Key  : Lower : Body                                : Upper : Active\n",
      "        None :   0.0 : in3[0] + in3[1] + in3[2] - 4*in2[0] :   0.0 :   True\n",
      "    c91 : Size=1, Index=None, Active=True\n",
      "        Key  : Lower : Body   : Upper : Active\n",
      "        None :  -Inf : in3[0] :  24.0 :   True\n",
      "    c92 : Size=1, Index=None, Active=True\n",
      "        Key  : Lower : Body   : Upper : Active\n",
      "        None :  -Inf : in3[1] :  28.0 :   True\n",
      "    c93 : Size=1, Index=None, Active=True\n",
      "        Key  : Lower : Body   : Upper : Active\n",
      "        None :  -Inf : in3[2] :  36.0 :   True\n",
      "\n",
      "24 Declarations: in1 out in2 in3 c0 c1 c2 c3 c0_ c1_ c2_ c3_ c4 c5 c4_ c5_ c6 c6_ c7 c8 c91 c92 c93 o\n"
     ]
    }
   ],
   "source": [
    "m = ConcreteModel()\n",
    "\n",
    "m.in1 = Var(list(range(4)), domain=NonNegativeReals)\n",
    "m.out = Var(list(range(2)), domain=NonNegativeReals)\n",
    "m.in2 = Var(list(range(1)), domain=NonNegativeReals)\n",
    "\n",
    "m.in3 = Var(list(range(3)), domain=NonNegativeReals, doc='water')\n",
    "\n",
    "m.c0 = Constraint(expr=m.in1[0] <= 4)\n",
    "m.c1 = Constraint(expr=m.in1[1] <= 5)\n",
    "m.c2 = Constraint(expr=m.in1[2] <= 6)\n",
    "m.c3 = Constraint(expr=m.in1[3] <= 3)\n",
    "\n",
    "m.c0_ = Constraint(expr=m.in1[0] >= 1)\n",
    "m.c1_ = Constraint(expr=m.in1[1] >= 1)\n",
    "m.c2_ = Constraint(expr=m.in1[2] >= 1)\n",
    "m.c3_ = Constraint(expr=m.in1[3] >= 1)\n",
    "\n",
    "\n",
    "m.c4 = Constraint(expr=m.out[0] >= 10)\n",
    "m.c5 = Constraint(expr=m.out[1] >= 11)\n",
    "\n",
    "\n",
    "m.c4_ = Constraint(expr=m.out[0] <= 15)\n",
    "m.c5_ = Constraint(expr=m.out[1] <= 17)\n",
    "\n",
    "m.c6 = Constraint(expr=m.in2[0] <= 20)\n",
    "m.c6_ = Constraint(expr=m.in2[0] >= 15)\n",
    "\n",
    "\n",
    "m.c7 = Constraint(\n",
    "    expr=m.in1[0] + m.in1[1] + m.in1[2] + m.in1[3] - m.out[0] - m.out[1] + m.in2[0] == 0\n",
    ")\n",
    "\n",
    "m.c8 = Constraint(expr=m.in3[0] + m.in3[1] + m.in3[2] == 4 * m.in2[0])\n",
    "\n",
    "m.c91 = Constraint(expr=m.in3[0] <= 24)\n",
    "m.c92 = Constraint(expr=m.in3[1] <= 28)\n",
    "m.c93 = Constraint(expr=m.in3[2] <= 36)\n",
    "\n",
    "\n",
    "m.o = Objective(\n",
    "    expr=-3 * (m.out[0] + m.out[1])\n",
    "    + 2 * (m.in1[0] + m.in1[1] + m.in1[2] + m.in1[3])\n",
    "    + 0.6 * (m.in2[0])\n",
    "    + 0.1 * (m.in3[0] + m.in3[1] + m.in3[2])\n",
    ")\n",
    "res = SolverFactory('gurobi').solve(m)\n",
    "\n",
    "\n",
    "m.pprint()\n",
    "\n",
    "out = list(m.out.extract_values().values())\n",
    "mout = [-3 * i for i in out]\n",
    "in1 = list(m.in1.extract_values().values())\n",
    "min1 = [2 * i for i in in1]\n",
    "in2 = list(m.in2.extract_values().values())\n",
    "min2 = [0.5 * i for i in in2]\n",
    "\n",
    "in3 = list(m.in3.extract_values().values())\n",
    "min3 = [0.1 * i for i in in3]\n",
    "o = m.o()"
   ]
  },
  {
   "cell_type": "code",
   "execution_count": 233,
   "metadata": {},
   "outputs": [
    {
     "data": {
      "text/plain": [
       "([15.0, 17.0], [4.0, 4.0, 1.0, 3.0], [20.0], [24.0, 20.0, 36.0], -54.0)"
      ]
     },
     "execution_count": 233,
     "metadata": {},
     "output_type": "execute_result"
    }
   ],
   "source": [
    "out, in1, in2, in3, o"
   ]
  },
  {
   "cell_type": "code",
   "execution_count": 220,
   "metadata": {},
   "outputs": [
    {
     "name": "stdout",
     "output_type": "stream",
     "text": [
      "4 Var Declarations\n",
      "    g : in\n",
      "        Size=4, Index={0, 1, 2, 3}\n",
      "        Key : Lower : Value : Upper : Fixed : Stale : Domain\n",
      "          0 :     0 :  35.5 :  None : False : False : NonNegativeReals\n",
      "          1 :     0 :   0.0 :  None : False : False : NonNegativeReals\n",
      "          2 :     0 :  49.0 :  None : False : False : NonNegativeReals\n",
      "          3 :     0 :   0.0 :  None : False : False : NonNegativeReals\n",
      "    g_ : out\n",
      "        Size=4, Index={0, 1, 2, 3}\n",
      "        Key : Lower : Value : Upper : Fixed : Stale : Domain\n",
      "          0 :     0 :   0.0 :  None : False : False : NonNegativeReals\n",
      "          1 :     0 :   2.0 :  None : False : False : NonNegativeReals\n",
      "          2 :     0 :   0.0 :  None : False : False : NonNegativeReals\n",
      "          3 :     0 :   2.0 :  None : False : False : NonNegativeReals\n",
      "    phi : Size=4, Index={0, 1, 2, 3}\n",
      "        Key : Lower : Value : Upper : Fixed : Stale : Domain\n",
      "          0 :     0 :   1.0 :  None : False : False : NonNegativeReals\n",
      "          1 :     0 :   0.0 :  None : False : False : NonNegativeReals\n",
      "          2 :     0 :   0.0 :  None : False : False : NonNegativeReals\n",
      "          3 :     0 :   0.0 :  None : False : False : NonNegativeReals\n",
      "    psi : Size=4, Index={0, 1, 2, 3}\n",
      "        Key : Lower : Value : Upper : Fixed : Stale : Domain\n",
      "          0 :     0 :   1.0 :  None : False : False : NonNegativeReals\n",
      "          1 :     0 :   0.0 :  None : False : False : NonNegativeReals\n",
      "          2 :     0 :   1.0 :  None : False : False : NonNegativeReals\n",
      "          3 :     0 :   0.0 :  None : False : False : NonNegativeReals\n",
      "\n",
      "1 Objective Declarations\n",
      "    o : Size=1, Index=None, Active=True\n",
      "        Key  : Active : Sense    : Expression\n",
      "        None :   True : minimize : g_[0] + g_[1] + g_[2] + g_[3] - (g[0] + g[1] + g[2] + g[3])\n",
      "\n",
      "11 Constraint Declarations\n",
      "    c00 : Size=1, Index=None, Active=True\n",
      "        Key  : Lower : Body                                       : Upper : Active\n",
      "        None :  -Inf : g_[0] - g[0] - (8 + 10*phi[0] - 30*psi[0]) :   0.0 :   True\n",
      "    c00_ : Size=1, Index=None, Active=True\n",
      "        Key  : Lower : Body                                        : Upper : Active\n",
      "        None :  -Inf : 2 + 7.5*phi[0] - 45*psi[0] - (g_[0] - g[0]) :   0.0 :   True\n",
      "    c01 : Size=1, Index=None, Active=True\n",
      "        Key  : Lower : Body                                        : Upper : Active\n",
      "        None :  -Inf : g_[1] - g[1] - (10 + 10*phi[1] - 30*psi[1]) :   0.0 :   True\n",
      "    c01_ : Size=1, Index=None, Active=True\n",
      "        Key  : Lower : Body                                        : Upper : Active\n",
      "        None :  -Inf : 2 + 7.5*phi[1] - 45*psi[1] - (g_[1] - g[1]) :   0.0 :   True\n",
      "    c02 : Size=1, Index=None, Active=True\n",
      "        Key  : Lower : Body                                        : Upper : Active\n",
      "        None :  -Inf : g_[2] - g[2] - (12 + 10*phi[2] - 33*psi[2]) :   0.0 :   True\n",
      "    c02_ : Size=1, Index=None, Active=True\n",
      "        Key  : Lower : Body                                        : Upper : Active\n",
      "        None :  -Inf : 2 + 7.5*phi[2] - 51*psi[2] - (g_[2] - g[2]) :   0.0 :   True\n",
      "    c03 : Size=1, Index=None, Active=True\n",
      "        Key  : Lower : Body                                       : Upper : Active\n",
      "        None :  -Inf : g_[3] - g[3] - (6 + 10*phi[3] - 33*psi[3]) :   0.0 :   True\n",
      "    c03_ : Size=1, Index=None, Active=True\n",
      "        Key  : Lower : Body                                        : Upper : Active\n",
      "        None :  -Inf : 2 + 7.5*phi[3] - 51*psi[3] - (g_[3] - g[3]) :   0.0 :   True\n",
      "    c7 : Size=1, Index=None, Active=True\n",
      "        Key  : Lower : Body                              : Upper : Active\n",
      "        None :   1.0 : phi[0] + phi[1] + phi[2] + phi[3] :   1.0 :   True\n",
      "    c81 : Size=1, Index=None, Active=True\n",
      "        Key  : Lower : Body            : Upper : Active\n",
      "        None :   1.0 : psi[0] + psi[1] :   1.0 :   True\n",
      "    c82 : Size=1, Index=None, Active=True\n",
      "        Key  : Lower : Body            : Upper : Active\n",
      "        None :   1.0 : psi[2] + psi[3] :   1.0 :   True\n",
      "\n",
      "16 Declarations: g g_ phi psi c00 c01 c02 c03 c00_ c01_ c02_ c03_ c7 c81 c82 o\n"
     ]
    },
    {
     "data": {
      "text/plain": [
       "([35.5, 0.0, 49.0, 0.0], [0.0, 2.0, 0.0, 2.0], -80.5)"
      ]
     },
     "execution_count": 220,
     "metadata": {},
     "output_type": "execute_result"
    }
   ],
   "source": [
    "m = ConcreteModel()\n",
    "\n",
    "m.g = Var(list(range(4)), domain=NonNegativeReals, doc='in')\n",
    "m.g_ = Var(list(range(4)), domain=NonNegativeReals, doc='out')\n",
    "# m.inn = Var(list(range(4)), domain=NonNegativeReals)\n",
    "# m.out = Var(list(range(2)), domain=NonNegativeReals)\n",
    "m.phi = Var(list(range(4)), domain=NonNegativeReals)\n",
    "m.psi = Var(list(range(4)), domain=NonNegativeReals)\n",
    "\n",
    "\n",
    "# m.c0 = Constraint(expr=m.g[0] <= 15 * 3 * m.psi[0] - 4 * 2 - m.phi[0] * 20 * 0.5)\n",
    "# m.c1 = Constraint(expr=m.g[1] <= 15 * 3 * m.psi[1] - 5 * 2 - m.phi[1] * 20 * 0.5)\n",
    "# m.c2 = Constraint(expr=m.g[2] <= 17 * 3 * m.psi[2] - 6 * 2 - m.phi[2] * 20 * 0.5)\n",
    "# m.c3 = Constraint(expr=m.g[3] <= 17 * 3 * m.psi[3] - 3 * 2 - m.phi[3] * 20 * 0.5)\n",
    "\n",
    "# m.c0_ = Constraint(expr=m.g_[0] >= 1 * 2 - m.phi[0] * 15 * 0.5 - 10 * 3 * m.psi[0])\n",
    "# m.c1_ = Constraint(expr=m.g_[1] >= 1 * 2 - m.phi[1] * 15 * 0.5 - 10 * 3 * m.psi[1])\n",
    "# m.c2_ = Constraint(expr=m.g_[2] >= 1 * 2 - m.phi[2] * 15 * 0.5 - 11 * 3 * m.psi[2])\n",
    "# m.c3_ = Constraint(expr=m.g_[3] >= 1 * 2 - m.phi[3] * 15 * 0.5 - 11 * 3 * m.psi[3])\n",
    "\n",
    "# m.c0 = Constraint(expr=m.g[0] <= 15 * 3 * m.psi[0])\n",
    "# m.c1 = Constraint(expr=m.g[1] <= 15 * 3 * m.psi[1])\n",
    "# m.c2 = Constraint(expr=m.g[2] <= 17 * 3 * m.psi[2])\n",
    "# m.c3 = Constraint(expr=m.g[3] <= 17 * 3 * m.psi[3])\n",
    "\n",
    "# m.c0_ = Constraint(expr= m.g[0] >= 10 * 3 * m.psi[0])\n",
    "# m.c1_ = Constraint(expr= m.g[1] >= 10 * 3 * m.psi[1])\n",
    "# m.c2_ = Constraint(expr= m.g[2] >= 11 * 3 * m.psi[2])\n",
    "# m.c3_ = Constraint(expr= m.g[3] >= 11 * 3 * m.psi[3])\n",
    "\n",
    "\n",
    "m.c00 = Constraint(expr=m.g_[0] - m.g[0] <= 8 + m.phi[0] * 10 - m.psi[0] * 30)\n",
    "m.c01 = Constraint(expr=m.g_[1] - m.g[1] <= 10 + m.phi[1] * 10 - m.psi[1] * 30)\n",
    "m.c02 = Constraint(expr=m.g_[2] - m.g[2] <= 12 + m.phi[2] * 10 - m.psi[2] * 33)\n",
    "m.c03 = Constraint(expr=m.g_[3] - m.g[3] <= 6 + m.phi[3] * 10 - m.psi[3] * 33)\n",
    "\n",
    "m.c00_ = Constraint(expr=m.g_[0] - m.g[0] >= 2 + m.phi[0] * 7.5 - m.psi[0] * 45)\n",
    "m.c01_ = Constraint(expr=m.g_[1] - m.g[1] >= 2 + m.phi[1] * 7.5 - m.psi[1] * 45)\n",
    "m.c02_ = Constraint(expr=m.g_[2] - m.g[2] >= 2 + m.phi[2] * 7.5 - m.psi[2] * 51)\n",
    "m.c03_ = Constraint(expr=m.g_[3] - m.g[3] >= 2 + m.phi[3] * 7.5 - m.psi[3] * 51)\n",
    "\n",
    "\n",
    "m.c7 = Constraint(expr=m.phi[0] + m.phi[1] + m.phi[2] + m.phi[3] == 1)\n",
    "# m.c8 = Constraint(expr=m.psi[0] + m.psi[1] + m.psi[2] + m.psi[3] == 1)\n",
    "m.c81 = Constraint(expr=m.psi[0] + m.psi[1] == 1)\n",
    "m.c82 = Constraint(expr=m.psi[2] + m.psi[3] == 1)\n",
    "\n",
    "\n",
    "m.ccc = Constraint(expr =  )\n",
    "\n",
    "\n",
    "m.o = Objective(\n",
    "    expr=(m.g_[0] + m.g_[1] + m.g_[2] + m.g_[3]) - (m.g[0] + m.g[1] + m.g[2] + m.g[3])\n",
    ")\n",
    "res = SolverFactory('gurobi').solve(m)\n",
    "\n",
    "\n",
    "m.pprint()\n",
    "\n",
    "g = list(m.g.extract_values().values())\n",
    "g_ = list(m.g_.extract_values().values())\n",
    "phi = list(m.phi.extract_values().values())\n",
    "psi = list(m.psi.extract_values().values())\n",
    "o = m.o()\n",
    "g, g_, o"
   ]
  },
  {
   "cell_type": "code",
   "execution_count": 204,
   "metadata": {},
   "outputs": [
    {
     "data": {
      "text/plain": [
       "{'Problem': [{'Name': 'x1', 'Lower bound': -80.5, 'Upper bound': -80.5, 'Number of objectives': 1, 'Number of constraints': 11, 'Number of variables': 16, 'Number of binary variables': 0, 'Number of integer variables': 0, 'Number of continuous variables': 16, 'Number of nonzeros': 40, 'Sense': 'minimize'}], 'Solver': [{'Status': 'ok', 'Return code': '0', 'Message': 'Model was solved to optimality (subject to tolerances), and an optimal solution is available.', 'Termination condition': 'optimal', 'Termination message': 'Model was solved to optimality (subject to tolerances), and an optimal solution is available.', 'Wall time': '0.0', 'Error rc': 0, 'Time': 0.32619380950927734}], 'Solution': [OrderedDict({'number of solutions': 0, 'number of solutions displayed': 0})]}"
      ]
     },
     "execution_count": 204,
     "metadata": {},
     "output_type": "execute_result"
    }
   ],
   "source": [
    "res"
   ]
  },
  {
   "cell_type": "code",
   "execution_count": 218,
   "metadata": {},
   "outputs": [],
   "source": [
    "m = ConcreteModel()\n",
    "m.g_ = Var(domain=NonNegativeReals)\n",
    "m.g = Var(domain=NonNegativeReals)\n",
    "m.c1 = Constraint(expr=7.5 + 2 + 2 + 2 + 2 - 45 - 51 <= m.g_ - m.g)\n",
    "m.c2 = Constraint(expr=m.g_ - m.g <= 10 + 7.5 + 7.5 + 7.5 + 7.5 - 30 - 33)"
   ]
  },
  {
   "cell_type": "code",
   "execution_count": 219,
   "metadata": {},
   "outputs": [
    {
     "name": "stdout",
     "output_type": "stream",
     "text": [
      "2 Var Declarations\n",
      "    g : Size=1, Index=None\n",
      "        Key  : Lower : Value : Upper : Fixed : Stale : Domain\n",
      "        None :     0 :  None :  None : False :  True : NonNegativeReals\n",
      "    g_ : Size=1, Index=None\n",
      "        Key  : Lower : Value : Upper : Fixed : Stale : Domain\n",
      "        None :     0 :  None :  None : False :  True : NonNegativeReals\n",
      "\n",
      "2 Constraint Declarations\n",
      "    c1 : Size=1, Index=None, Active=True\n",
      "        Key  : Lower : Body   : Upper : Active\n",
      "        None : -80.5 : g_ - g :  +Inf :   True\n",
      "    c2 : Size=1, Index=None, Active=True\n",
      "        Key  : Lower : Body   : Upper : Active\n",
      "        None :  -Inf : g_ - g : -23.0 :   True\n",
      "\n",
      "4 Declarations: g_ g c1 c2\n"
     ]
    }
   ],
   "source": [
    "m.pprint()"
   ]
  },
  {
   "cell_type": "code",
   "execution_count": 178,
   "metadata": {},
   "outputs": [
    {
     "data": {
      "text/plain": [
       "([13.0, 14.0, 20.58333333333333, 2.4166666666666683],\n",
       " [0.0, 0.0, 0.0, 1.0],\n",
       " [0.4666666666666667,\n",
       "  0.5333333333333333,\n",
       "  0.6388888888888888,\n",
       "  0.36111111111111116])"
      ]
     },
     "execution_count": 178,
     "metadata": {},
     "output_type": "execute_result"
    }
   ],
   "source": [
    "g, phi, psi"
   ]
  },
  {
   "cell_type": "code",
   "execution_count": 184,
   "metadata": {},
   "outputs": [],
   "source": [
    "s = [i * j for i, j in zip(g, psi)]\n",
    "p = [i * j for i, j in zip(g, phi)]"
   ]
  },
  {
   "cell_type": "code",
   "execution_count": 185,
   "metadata": {},
   "outputs": [
    {
     "data": {
      "text/plain": [
       "[6.066666666666666, 7.466666666666667, 13.150462962962958, 0.8726851851851859]"
      ]
     },
     "execution_count": 185,
     "metadata": {},
     "output_type": "execute_result"
    }
   ],
   "source": [
    "s"
   ]
  },
  {
   "cell_type": "code",
   "execution_count": 186,
   "metadata": {},
   "outputs": [
    {
     "data": {
      "text/plain": [
       "[0.0, 0.0, 0.0, 2.4166666666666683]"
      ]
     },
     "execution_count": 186,
     "metadata": {},
     "output_type": "execute_result"
    }
   ],
   "source": [
    "p"
   ]
  },
  {
   "cell_type": "code",
   "execution_count": 57,
   "metadata": {},
   "outputs": [
    {
     "data": {
      "image/png": "[encoded data removed]",
      "text/plain": [
       "<Figure size 1000x600 with 1 Axes>"
      ]
     },
     "metadata": {},
     "output_type": "display_data"
    },
    {
     "data": {
      "image/png": "[encoded data removed]",
      "text/plain": [
       "<Figure size 1000x600 with 1 Axes>"
      ]
     },
     "metadata": {},
     "output_type": "display_data"
    }
   ],
   "source": [
    "x_values = range(4)\n",
    "\n",
    "rc('font', size=16)\n",
    "fig, ax = plt.subplots(figsize=(10, 6))\n",
    "# Plotting the data\n",
    "ax.plot(x_values, s, label='sell', marker='o')\n",
    "ax.plot(x_values, b, label='buy', marker='s')\n",
    "ax.plot(x_values, p, label='produce', marker='^')\n",
    "\n",
    "# Adding title and labels\n",
    "plt.title(\"Resource Flow\")\n",
    "plt.xlabel(\"Time Period\")\n",
    "plt.ylabel(\"Value\")\n",
    "plt.xticks(x_values)\n",
    "plt.grid(alpha=0.3)\n",
    "# Showing a legend\n",
    "plt.legend()\n",
    "\n",
    "# Display the graph\n",
    "plt.show()\n",
    "\n",
    "rc('font', size=16)\n",
    "fig, ax = plt.subplots(figsize=(10, 6))\n",
    "# Plotting the data\n",
    "ax.plot(x_values, ms, label='$ sell', marker='o')\n",
    "ax.plot(x_values, mb, label='$ buy', marker='s')\n",
    "ax.plot(x_values, mp, label='$ produce', marker='^')\n",
    "\n",
    "# Adding title and labels\n",
    "plt.title(\"Cash Flow\")\n",
    "plt.xlabel(\"Time Period\")\n",
    "plt.ylabel(\"Value\")\n",
    "plt.xticks(x_values)\n",
    "plt.grid(alpha=0.3)\n",
    "# Showing a legend\n",
    "plt.legend()\n",
    "\n",
    "# Display the graph\n",
    "plt.show()"
   ]
  },
  {
   "cell_type": "code",
   "execution_count": null,
   "metadata": {},
   "outputs": [],
   "source": [
    "m = ConcreteModel()\n",
    "\n",
    "m.b = Var(list(range(4)), domain=NonNegativeReals)  # plus\n",
    "m.s = Var(list(range(2)), domain=NonNegativeReals)  # minus\n",
    "m.p = Var(list(range(1)), domain=NonNegativeReals)  # plus\n",
    "\n",
    "m.plus = Var(list(range(4)), domain=NonNegativeReals)\n",
    "m.minus = Var(list(range(2)), domain=NonNegativeReals)\n",
    "\n",
    "m.c0 = Constraint(expr=m.plus[0] <= 4)\n",
    "m.c1 = Constraint(expr=m.plus[1] <= 5)\n",
    "m.c2 = Constraint(expr=m.plus[2] <= 6)\n",
    "m.c3 = Constraint(expr=m.plus[3] <= 3)\n",
    "\n",
    "m.c4 = Constraint(expr=m.minus[0] >= 10)\n",
    "m.c5 = Constraint(expr=m.minus[1] >= 11)\n",
    "\n",
    "m.c6 = Constraint(expr=m.plus[0] + m.plus[1] + m.plus[2] + m.plus[3] <= 20)\n",
    "\n",
    "\n",
    "m.c7 = Constraint(\n",
    "    expr=m.b[0] + m.b[1] + m.b[2] + m.b[3] - m.s[0] - m.s[1] + m.p[0] == 0\n",
    ")\n",
    "\n",
    "m.o = Objective(expr=-3 * (m.s[0] + m.s[1]))\n",
    "res = SolverFactory('gurobi').solve(m)\n",
    "\n",
    "\n",
    "m.pprint()"
   ]
  },
  {
   "cell_type": "code",
   "execution_count": 20,
   "metadata": {},
   "outputs": [
    {
     "data": {
      "text/plain": [
       "-114.0"
      ]
     },
     "execution_count": 20,
     "metadata": {},
     "output_type": "execute_result"
    }
   ],
   "source": [
    "m.o()"
   ]
  },
  {
   "cell_type": "code",
   "execution_count": 107,
   "metadata": {},
   "outputs": [],
   "source": [
    "import bisect"
   ]
  },
  {
   "cell_type": "code",
   "execution_count": null,
   "metadata": {},
   "outputs": [],
   "source": [
    "[bisect.bisect(d, s)"
   ]
  },
  {
   "cell_type": "code",
   "execution_count": null,
   "metadata": {},
   "outputs": [],
   "source": [
    "ranger(m)"
   ]
  },
  {
   "cell_type": "code",
   "execution_count": 109,
   "metadata": {},
   "outputs": [],
   "source": [
    "s = sorted(set().union(*[ranger(i) for i in [d, m, h]]))"
   ]
  },
  {
   "cell_type": "code",
   "execution_count": null,
   "metadata": {},
   "outputs": [],
   "source": []
  },
  {
   "cell_type": "code",
   "execution_count": null,
   "metadata": {},
   "outputs": [],
   "source": [
    "b"
   ]
  },
  {
   "cell_type": "code",
   "execution_count": null,
   "metadata": {},
   "outputs": [],
   "source": []
  },
  {
   "cell_type": "code",
   "execution_count": 3,
   "metadata": {},
   "outputs": [],
   "source": [
    "s = Scenario(default=True)"
   ]
  },
  {
   "cell_type": "code",
   "execution_count": 12,
   "metadata": {},
   "outputs": [
    {
     "data": {
      "text/plain": [
       "{'component': csh_def,\n",
       " 'm': None,\n",
       " 'name': 'Program|None|',\n",
       " 'parameters': [],\n",
       " 'variables': [],\n",
       " 'constraints': []}"
      ]
     },
     "execution_count": 12,
     "metadata": {},
     "output_type": "execute_result"
    }
   ],
   "source": [
    "s.csh_def.programblock.__dict__"
   ]
  },
  {
   "cell_type": "code",
   "execution_count": 17,
   "metadata": {},
   "outputs": [
    {
     "ename": "TypeError",
     "evalue": "_Birth.birth_locations() missing 1 required positional argument: 'names'",
     "output_type": "error",
     "traceback": [
      "\u001b[1;31m---------------------------------------------------------------------------\u001b[0m",
      "\u001b[1;31mTypeError\u001b[0m                                 Traceback (most recent call last)",
      "Cell \u001b[1;32mIn[17], line 2\u001b[0m\n\u001b[0;32m      1\u001b[0m s\u001b[38;5;241m.\u001b[39mbirth_scales(scales \u001b[38;5;241m=\u001b[39m [\u001b[38;5;241m2\u001b[39m, \u001b[38;5;241m12\u001b[39m])\n\u001b[1;32m----> 2\u001b[0m \u001b[43ms\u001b[49m\u001b[38;5;241;43m.\u001b[39;49m\u001b[43mbirth_locations\u001b[49m\u001b[43m(\u001b[49m\u001b[43mlocations\u001b[49m\u001b[43m \u001b[49m\u001b[38;5;241;43m=\u001b[39;49m\u001b[43m \u001b[49m\u001b[43m[\u001b[49m\u001b[38;5;241;43m3\u001b[39;49m\u001b[43m,\u001b[49m\u001b[43m \u001b[49m\u001b[38;5;241;43m4\u001b[39;49m\u001b[43m]\u001b[49m\u001b[43m)\u001b[49m\n",
      "\u001b[1;31mTypeError\u001b[0m: _Birth.birth_locations() missing 1 required positional argument: 'names'"
     ]
    }
   ],
   "source": [
    "s.birth_scales(scales=[2, 12])\n",
    "s.birth_locations(locations=[3, 4])"
   ]
  },
  {
   "cell_type": "code",
   "execution_count": 16,
   "metadata": {},
   "outputs": [
    {
     "data": {
      "text/plain": [
       "{'periods': 2,\n",
       " 'name': 't0',\n",
       " '_named': True,\n",
       " '_model': Model|:s:|,\n",
       " 'programblock': Program|None|}"
      ]
     },
     "execution_count": 16,
     "metadata": {},
     "output_type": "execute_result"
    }
   ],
   "source": [
    "s.t0.__dict__"
   ]
  },
  {
   "cell_type": "code",
   "execution_count": null,
   "metadata": {},
   "outputs": [],
   "source": [
    "# s.h2 = Horizon({'days': 2, 'hours': 12})\n",
    "\n",
    "\n",
    "s.hor = Horizon(birth=[2, 12], nested=True)\n",
    "\n",
    "s.scales\n",
    "\n",
    "s.net = Network(birth={'madgaon': 1, 'ponje': 1, 'cacoda': 1})  # , link_all=True)\n",
    "\n",
    "s.nodes"
   ]
  },
  {
   "cell_type": "code",
   "execution_count": 6,
   "metadata": {},
   "outputs": [],
   "source": [
    "s.alink = Linkage(source=s.madgaon, sink=s.ponje, bi=True, distance=50)\n",
    "s.blink = Linkage(source=s.ponje, sink=s.cacoda, bi=False, distance=80)\n",
    "s.clink = Linkage(source=s.cacoda, sink=s.madgaon, bi=True, distance=100)\n",
    "s.dlink = Linkage(source=s.madgaon, sink=s.ponje, bi=False, distance=200)"
   ]
  },
  {
   "cell_type": "code",
   "execution_count": 7,
   "metadata": {},
   "outputs": [],
   "source": [
    "a = DataFrame({'a': list(range(2))})\n",
    "b = DataFrame({'b': list(range(24))})"
   ]
  },
  {
   "cell_type": "code",
   "execution_count": null,
   "metadata": {},
   "outputs": [],
   "source": [
    "s.program"
   ]
  },
  {
   "cell_type": "code",
   "execution_count": null,
   "metadata": {},
   "outputs": [],
   "source": [
    "s.taskmaster"
   ]
  },
  {
   "cell_type": "code",
   "execution_count": null,
   "metadata": {},
   "outputs": [],
   "source": []
  },
  {
   "cell_type": "code",
   "execution_count": null,
   "metadata": {},
   "outputs": [],
   "source": [
    "s.csh = Cash(\n",
    "    spend={\n",
    "        s.madgaon: True,\n",
    "        s.ponje: {s.t1: (2, a)},\n",
    "        s.cacoda: a,\n",
    "        s.network: {s.t1: [5, 7]},\n",
    "    },\n",
    "    # label='cash',\n",
    "    basis='USD',\n",
    ")"
   ]
  },
  {
   "cell_type": "code",
   "execution_count": null,
   "metadata": {},
   "outputs": [],
   "source": [
    "from operator import is_\n",
    "\n",
    "is_(s.registrar.spend[0], s.registrar.spend[1])"
   ]
  },
  {
   "cell_type": "code",
   "execution_count": null,
   "metadata": {},
   "outputs": [],
   "source": [
    "s.H2 = Resource(\n",
    "    # sell={s.t0: [0, 4], s.t1: [a, 34], s.t2: (a, b)},\n",
    "    sell_price={\n",
    "        s.madgaon: {s.t1: (2, a)},\n",
    "        s.ponje: {s.t1: (2, b)},\n",
    "        s.cacoda: 300,\n",
    "    },\n",
    ")"
   ]
  },
  {
   "cell_type": "code",
   "execution_count": null,
   "metadata": {},
   "outputs": [],
   "source": [
    "s.Solar = Resource(buy=True, basis='MW', label='Solar Power')\n",
    "\n",
    "\n",
    "s.Wind = Resource(buy=a, basis='MW', label='Wind Power')\n",
    "\n",
    "\n",
    "s.Power = Resource(basis='MW', label='Power generated')\n",
    "\n",
    "\n",
    "s.Uranium = Resource(\n",
    "    buy=DataFrame({'a': [i for i in range(24)]}),\n",
    "    buy_price=42.70 / (250 / 2),\n",
    "    basis='kg',\n",
    "    label='Uranium',\n",
    ")\n",
    "\n",
    "\n",
    "# s.H2_L = Resource(sell=(0, 23), basis='tons', label='Hydrogen')\n",
    "\n",
    "\n",
    "# s.CO2_AQoff = Resource(basis='tons', label='Carbon dioxide - sequestered')\n",
    "\n",
    "\n",
    "s.H2O = Resource(buy=(20, 50), buy_price=b, basis='tons', label='Water')\n",
    "\n",
    "\n",
    "s.CH4 = Resource(buy=[20, 40], buy_price=20, basis='tons', label='Natural gas')\n",
    "\n",
    "\n",
    "s.CO2 = Resource(basis='tons', label='Carbon dioxide', block='Resource')\n",
    "\n",
    "\n",
    "s.CO2_Vent = Resource(\n",
    "    basis='tons',\n",
    "    label='Carbon dioxide - Vented',\n",
    "    sell_price=(2, 20),\n",
    "    sell_emit={s.gwp: b},\n",
    ")\n",
    "\n",
    "\n",
    "s.O2 = Resource(sell=[20, True], basis='tons', label='Oxygen')\n",
    "\n",
    "\n",
    "s.CO2_DAC = Resource(basis='tons', label='Carbon dioxide - captured')\n",
    "s.Power = Resource(buy=[0, a], basis='MW', label='Power generated')"
   ]
  },
  {
   "cell_type": "code",
   "execution_count": null,
   "metadata": {},
   "outputs": [],
   "source": [
    "s.LiR = Resource(\n",
    "    use_emit={s.gwp: {s.t1: 1.484}},\n",
    "    use={s.ponje: 1.5},\n",
    "    basis='kg',\n",
    "    label='Lithium Reserves',\n",
    "    citation='Nelson Bunyui Manjong (2021)',\n",
    ")"
   ]
  },
  {
   "cell_type": "code",
   "execution_count": null,
   "metadata": {},
   "outputs": [],
   "source": [
    "s.WF = Process(\n",
    "    conversion={s.Power: {X(0): {s.Wind: -1}, X(1): {s.Wind: -1}}},\n",
    "    produce=[(0, 3), (3, 5)],\n",
    "    capex={s.madgaon: {s.t1: {1462000, I(202233)}}},\n",
    "    opex={4953, I(70)},\n",
    "    setup=1000,\n",
    "    setup_emit={s.gwp: 50, s.odp: 2900},\n",
    "    setup_use={s.LiR: 1.5, s.land: 30},\n",
    "    locations=[s.madgaon, s.ponje],\n",
    "    label='Wind mill array',\n",
    "    basis='MW',\n",
    ")\n",
    "\n",
    "\n",
    "s.PV = Process(\n",
    "    conversion={s.Power: {X(1): {s.Solar: -1.2}, X(2): {s.Solar: -1.5}}},\n",
    "    capex={X(0): 1333, X(1): 1444, X(2): 1555},\n",
    "    opex=22623,\n",
    "    setup={X(0): 3000, X(1): 4000, X(2): 5000},\n",
    "    locations=s.cacoda,\n",
    "    label='Solar PV',\n",
    "    basis='MW',\n",
    ")\n",
    "\n",
    "\n",
    "s.SMRH = Process(\n",
    "    setup_use={s.land: 50},\n",
    "    conversion={\n",
    "        s.H2: {\n",
    "            s.Power: -1.11,\n",
    "            s.CH4: -3.76,\n",
    "            s.H2O: -23.7,\n",
    "            s.CO2_Vent: 1.03,\n",
    "            s.CO2: 9.332,\n",
    "        }\n",
    "    },\n",
    "    capex={\n",
    "        2520000,\n",
    "    },\n",
    "    opex={51.5, I(945000)},\n",
    "    setup=[1000],\n",
    "    label='Steam methane reforming + CCUS',\n",
    ")\n",
    "\n",
    "s.NGCC = Process(\n",
    "    conversion={\n",
    "        s.Power: {\n",
    "            s.CH4: -0.108,\n",
    "            s.H2O: -10,\n",
    "            s.CO2_Vent: 0.297 * 0.05,\n",
    "            s.CO2: 0.297 * 0.95,\n",
    "        }\n",
    "    },\n",
    "    capex=2158928,\n",
    "    opex={4090, I(53320)},\n",
    "    setup=[1, 100],\n",
    "    label='NGCC + 95% CC',\n",
    ")\n",
    "s.SMR = Process(\n",
    "    capex=2400,\n",
    "    opex={0.03, I(800)},\n",
    "    conversion={s.H2: {s.Power: -1.11, s.CH4: -3.76, s.H2O: -23.7, s.CO2_Vent: 9.4979}},\n",
    "    setup=1000,\n",
    "    label='Steam methane reforming',\n",
    ")\n",
    "s.H2FC = Process(\n",
    "    conversion={s.Power: {s.H2: -0.050}},\n",
    "    capex=1.6 * 10**6,\n",
    "    opex=3.5,\n",
    "    setup=[1000, 2000],\n",
    "    label='hydrogen fuel cell',\n",
    ")\n",
    "s.DAC = Process(\n",
    "    capex=0.02536,\n",
    "    opex=0.634,\n",
    "    conversion={s.CO2_DAC: {s.Power: -0.193, s.H2O: -4.048}},\n",
    "    setup=1000,\n",
    "    label='Direct air capture',\n",
    ")\n",
    "# s.PSH = Process(conversion = {s.Power: 0.6}, capex = 3924781, fopex= 17820, vopex = 512.5, store = 10000, capacity=1000, label='Pumped storage hydropower', basis = 'MW')\n",
    "s.ASMR = Process(\n",
    "    conversion={s.Power: {s.Uranium: -4.17 * 10 ** (-5), s.H2O: -3.364}},\n",
    "    capex=7988951,\n",
    "    opex=I(0.04 * 0.730),\n",
    "    setup=1000,\n",
    "    label='Small modular reactors (SMRs)',\n",
    "    locations=s.madgaon,\n",
    ")\n",
    "s.AWE = Process(\n",
    "    setup_use={s.land: (0, 20)},\n",
    "    conversion={s.H2: {s.Power: -1, s.O2: 0.7632, s.H2O: -0.1753}},\n",
    "    capex={1.1 * 10**6, I(20)},\n",
    "    opex=I(16918),\n",
    "    setup=True,\n",
    "    label='Alkaline water electrolysis (AWE)',\n",
    "    citation='Demirhan et al. 2018 AIChE paper',\n",
    ")"
   ]
  },
  {
   "cell_type": "code",
   "execution_count": null,
   "metadata": {},
   "outputs": [],
   "source": [
    "s.LiI = Storage(setup=[2000], inventory=s.Power, setup_in=[40], setup_out=[20])\n",
    "s.LiI2 = Storage(setup=[2000], inventory={s.Power: 0.6})\n",
    "s.H2Stg = Storage(\n",
    "    setup=[2000], inventory={s.H2: {X(0): {s.Power: 0.8}, X(1): {s.Power: 0.9}}}\n",
    ")"
   ]
  },
  {
   "cell_type": "code",
   "execution_count": null,
   "metadata": {},
   "outputs": [],
   "source": [
    "s.parameters[4].__dict__"
   ]
  },
  {
   "cell_type": "code",
   "execution_count": null,
   "metadata": {},
   "outputs": [],
   "source": [
    "s.program.variables"
   ]
  },
  {
   "cell_type": "code",
   "execution_count": null,
   "metadata": {},
   "outputs": [],
   "source": [
    "s.attr.buy.cns()"
   ]
  },
  {
   "cell_type": "code",
   "execution_count": null,
   "metadata": {},
   "outputs": [],
   "source": [
    "s.data.__dict__\n",
    "s.data.H2.__dict__"
   ]
  },
  {
   "cell_type": "code",
   "execution_count": null,
   "metadata": {},
   "outputs": [],
   "source": [
    "s.registrar.__dict__"
   ]
  },
  {
   "cell_type": "code",
   "execution_count": null,
   "metadata": {},
   "outputs": [],
   "source": [
    "s.H2FC.pprint()"
   ]
  },
  {
   "cell_type": "code",
   "execution_count": null,
   "metadata": {},
   "outputs": [],
   "source": []
  },
  {
   "cell_type": "code",
   "execution_count": null,
   "metadata": {},
   "outputs": [],
   "source": [
    "s.H2FC.constraints[-1].__dict__"
   ]
  },
  {
   "cell_type": "code",
   "execution_count": null,
   "metadata": {},
   "outputs": [],
   "source": [
    "s.WF.constraints[-1].__dict__"
   ]
  },
  {
   "cell_type": "code",
   "execution_count": null,
   "metadata": {},
   "outputs": [],
   "source": [
    "s.NGCC.pprint()"
   ]
  },
  {
   "cell_type": "code",
   "execution_count": null,
   "metadata": {},
   "outputs": [],
   "source": [
    "s.pprint()"
   ]
  },
  {
   "cell_type": "code",
   "execution_count": null,
   "metadata": {},
   "outputs": [],
   "source": []
  },
  {
   "cell_type": "code",
   "execution_count": null,
   "metadata": {},
   "outputs": [],
   "source": [
    "[100 * (i + 1) / 14 for i in range(14)]"
   ]
  },
  {
   "cell_type": "code",
   "execution_count": null,
   "metadata": {},
   "outputs": [],
   "source": [
    "[100 * (i + 1) / 13 for i in range(13)]"
   ]
  },
  {
   "cell_type": "code",
   "execution_count": null,
   "metadata": {},
   "outputs": [],
   "source": [
    "print(len(s.variables))\n",
    "print(len(set(s.variables)))\n",
    "print(len(set([v.name for v in s.variables])))\n",
    "print()\n",
    "print(len(s.parameters))\n",
    "print(len(set(s.parameters)))\n",
    "print(len(set([v.name for v in s.parameters])))\n",
    "print()\n",
    "print(len(s.constraints))\n",
    "print(len(set(s.constraints)))\n",
    "print(len(set([v.name for v in s.constraints])))\n",
    "print()\n",
    "print(len(s.indices))\n",
    "print(len(set(s.indices)))\n",
    "print(len(set([v.name for v in s.indices])))"
   ]
  },
  {
   "cell_type": "code",
   "execution_count": null,
   "metadata": {},
   "outputs": [],
   "source": [
    "s.registrar.__dict__"
   ]
  },
  {
   "cell_type": "code",
   "execution_count": null,
   "metadata": {},
   "outputs": [],
   "source": [
    "s.registrar.mbounds"
   ]
  },
  {
   "cell_type": "code",
   "execution_count": null,
   "metadata": {},
   "outputs": [],
   "source": []
  },
  {
   "cell_type": "code",
   "execution_count": null,
   "metadata": {},
   "outputs": [],
   "source": [
    "s.indices"
   ]
  },
  {
   "cell_type": "code",
   "execution_count": null,
   "metadata": {},
   "outputs": [],
   "source": [
    "s.parameters"
   ]
  },
  {
   "cell_type": "code",
   "execution_count": null,
   "metadata": {},
   "outputs": [],
   "source": [
    "sorted(s.indices)"
   ]
  },
  {
   "cell_type": "code",
   "execution_count": null,
   "metadata": {},
   "outputs": [],
   "source": [
    "s.indices[43].__dict__"
   ]
  },
  {
   "cell_type": "code",
   "execution_count": null,
   "metadata": {},
   "outputs": [],
   "source": [
    "s.indices[40].disposition == s.indices[43].disposition"
   ]
  },
  {
   "cell_type": "code",
   "execution_count": null,
   "metadata": {},
   "outputs": [],
   "source": [
    "s.SMRH.program.indices"
   ]
  },
  {
   "cell_type": "code",
   "execution_count": null,
   "metadata": {},
   "outputs": [],
   "source": [
    "s.indices[40].__dict__"
   ]
  },
  {
   "cell_type": "code",
   "execution_count": null,
   "metadata": {},
   "outputs": [],
   "source": [
    "s.train = Transit(\n",
    "    freight=s.H2,\n",
    "    setup=[5, 400],\n",
    "    setup_use={s.land: 20},\n",
    "    setup_emit={s.odp: 0.1},\n",
    "    capex={s.alink: 200, s.blink: 300, s.clink: 400},\n",
    "    opex=100,\n",
    "    label='Train',\n",
    "    basis='passengers',\n",
    "    linkages=[s.alink],\n",
    ")"
   ]
  },
  {
   "cell_type": "code",
   "execution_count": null,
   "metadata": {},
   "outputs": [],
   "source": [
    "s.train.pprint()"
   ]
  },
  {
   "cell_type": "code",
   "execution_count": null,
   "metadata": {},
   "outputs": [],
   "source": [
    "s.pprint()"
   ]
  },
  {
   "cell_type": "code",
   "execution_count": null,
   "metadata": {},
   "outputs": [],
   "source": []
  }
 ],
 "metadata": {
  "kernelspec": {
   "display_name": ".venv",
   "language": "python",
   "name": "python3"
  },
  "language_info": {
   "codemirror_mode": {
    "name": "ipython",
    "version": 3
   },
   "file_extension": ".py",
   "mimetype": "text/x-python",
   "name": "python",
   "nbconvert_exporter": "python",
   "pygments_lexer": "ipython3",
   "version": "3.12.5"
  },
  "orig_nbformat": 4
 },
 "nbformat": 4,
 "nbformat_minor": 2
}
