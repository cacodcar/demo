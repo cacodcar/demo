{
 "cells": [
  {
   "cell_type": "code",
   "execution_count": 1,
   "metadata": {},
   "outputs": [],
   "source": [
    "# def load_data(loc:str, index:list):\n",
    "#     df = pandas.read_csv(f'data/{loc}_solar19.csv')\n",
    "#     df['idx'] = index\n",
    "#     df = df.set_index('idx')\n",
    "#     return df\n",
    "# idx = [(i,j,k) for i,j,k in product(range(1), range(365), range(24))]\n",
    "# weather_ny = load_data('ny', idx)[['DNI', 'Wind Speed']]\n",
    "# weather_ny = weather_ny.rename(columns= {'DNI': 'dni', 'Wind Speed': 'wind_speed'})\n",
    "# weather_sd = load_data('sd', idx)[['dni', 'wind_speed']]\n",
    "# weather_ho = load_data('ho', idx)[['dni', 'wind_speed']]\"\"\n",
    "# demand_sd = pandas.read_excel('data/HistoricalEMSHourlyLoad-2019.xlsx', index_col= 0)[['SDGE']]\n",
    "# demand_ho = pandas.read_excel('data/Native_Load_2019.xlsx')[['COAST']]\n",
    "# demand_ny = DataFrame(pandas.read_csv('data/NYC_load.csv')['Load']) #from Will and Doga\n",
    "# ng_price = make_henry_price_df(\n",
    "#     file_name='data/Henry_Hub_Natural_Gas_Spot_Price_Daily.csv', year=2020)\n",
    "# ng_price = ng_price.drop(columns= 'scales')\n",
    "# ng_price = remove_outliers(ng_price, sd_cuttoff = 3)\n",
    "# ng_price = pandas.concat([ng_price])"
   ]
  },
  {
   "cell_type": "code",
   "execution_count": 2,
   "metadata": {},
   "outputs": [],
   "source": [
    "import sys\n",
    "sys.path.append('src')"
   ]
  },
  {
   "cell_type": "code",
   "execution_count": 3,
   "metadata": {},
   "outputs": [],
   "source": [
    "from energiapy.components.analytical.player import Player\n",
    "from energiapy.components.commodity.cash import Cash\n",
    "from energiapy.components.commodity.emission import Emission\n",
    "from energiapy.components.commodity.land import Land\n",
    "from energiapy.components.commodity.resource import Resource\n",
    "from energiapy.components.operation.process import Process\n",
    "from energiapy.components.operation.storage import Storage\n",
    "from energiapy.components.operation.transit import Transit\n",
    "from energiapy.components.spatial.linkage import Linkage\n",
    "from energiapy.environ.network import Network\n",
    "from energiapy.environ.horizon import Horizon\n",
    "from energiapy.components.abstract.mode import X\n"
   ]
  },
  {
   "cell_type": "code",
   "execution_count": 1,
   "metadata": {},
   "outputs": [],
   "source": [
    "a = [12, 3]"
   ]
  },
  {
   "cell_type": "code",
   "execution_count": 2,
   "metadata": {},
   "outputs": [],
   "source": [
    "a.extend([1, 2, 3])"
   ]
  },
  {
   "cell_type": "code",
   "execution_count": 3,
   "metadata": {},
   "outputs": [
    {
     "data": {
      "text/plain": [
       "[12, 3, 1, 2, 3]"
      ]
     },
     "execution_count": 3,
     "metadata": {},
     "output_type": "execute_result"
    }
   ],
   "source": [
    "a "
   ]
  },
  {
   "cell_type": "code",
   "execution_count": 2,
   "metadata": {},
   "outputs": [],
   "source": [
    "from energiapy.elements.prm import Prm\n",
    "from energiapy.elements.vrb import Vrb\n",
    "from energiapy.elements.exn import Exn\n",
    "from energiapy.elements.cns import Cns"
   ]
  },
  {
   "cell_type": "code",
   "execution_count": 3,
   "metadata": {},
   "outputs": [],
   "source": [
    "a = Prm(2) + Prm(3)\n",
    "b = Prm(5) * Prm(3)\n",
    "c = Prm(5) / Prm(3)"
   ]
  },
  {
   "cell_type": "code",
   "execution_count": 4,
   "metadata": {},
   "outputs": [
    {
     "data": {
      "text/plain": [
       "Prm"
      ]
     },
     "execution_count": 4,
     "metadata": {},
     "output_type": "execute_result"
    }
   ],
   "source": [
    "a*b "
   ]
  },
  {
   "cell_type": "code",
   "execution_count": 10,
   "metadata": {},
   "outputs": [],
   "source": [
    "v = Vrb()\n",
    "w = Vrb()"
   ]
  },
  {
   "cell_type": "code",
   "execution_count": 5,
   "metadata": {},
   "outputs": [],
   "source": [
    "l = Prm([1,3, 4, 6])\n",
    "j = Prm([2, 3, 4, 5])"
   ]
  },
  {
   "cell_type": "code",
   "execution_count": 7,
   "metadata": {},
   "outputs": [],
   "source": [
    "k = l*j "
   ]
  },
  {
   "cell_type": "code",
   "execution_count": 8,
   "metadata": {},
   "outputs": [
    {
     "data": {
      "text/plain": [
       "[2, 9, 16, 30]"
      ]
     },
     "execution_count": 8,
     "metadata": {},
     "output_type": "execute_result"
    }
   ],
   "source": [
    "k.value"
   ]
  },
  {
   "cell_type": "code",
   "execution_count": 11,
   "metadata": {},
   "outputs": [],
   "source": [
    "cons = a*v + b*w <= c "
   ]
  },
  {
   "cell_type": "code",
   "execution_count": null,
   "metadata": {},
   "outputs": [],
   "source": []
  },
  {
   "cell_type": "code",
   "execution_count": 5,
   "metadata": {},
   "outputs": [
    {
     "ename": "ModuleNotFoundError",
     "evalue": "No module named 'energiapy.components.temporal.incidental'",
     "output_type": "error",
     "traceback": [
      "\u001b[1;31m---------------------------------------------------------------------------\u001b[0m",
      "\u001b[1;31mModuleNotFoundError\u001b[0m                       Traceback (most recent call last)",
      "Cell \u001b[1;32mIn[5], line 1\u001b[0m\n\u001b[1;32m----> 1\u001b[0m \u001b[38;5;28;01mfrom\u001b[39;00m \u001b[38;5;21;01menergiapy\u001b[39;00m\u001b[38;5;21;01m.\u001b[39;00m\u001b[38;5;21;01mcomponents\u001b[39;00m \u001b[38;5;28;01mimport\u001b[39;00m \u001b[38;5;241m*\u001b[39m\n\u001b[0;32m      2\u001b[0m \u001b[38;5;28;01mfrom\u001b[39;00m \u001b[38;5;21;01menergiapy\u001b[39;00m\u001b[38;5;21;01m.\u001b[39;00m\u001b[38;5;21;01menviron\u001b[39;00m \u001b[38;5;28;01mimport\u001b[39;00m \u001b[38;5;241m*\u001b[39m\n\u001b[0;32m      3\u001b[0m \u001b[38;5;28;01mfrom\u001b[39;00m \u001b[38;5;21;01mpandas\u001b[39;00m \u001b[38;5;28;01mimport\u001b[39;00m DataFrame\n",
      "File \u001b[1;32mc:\\Users\\cacodcar\\energiapy\\src\\energiapy\\components\\__init__.py:24\u001b[0m\n\u001b[0;32m      1\u001b[0m \u001b[38;5;124;03m\"\"\"energiapy.components init file\u001b[39;00m\n\u001b[0;32m      2\u001b[0m \u001b[38;5;124;03m\"\"\"\u001b[39;00m\n\u001b[0;32m      4\u001b[0m __all__ \u001b[38;5;241m=\u001b[39m [\n\u001b[0;32m      5\u001b[0m     \u001b[38;5;124m'\u001b[39m\u001b[38;5;124mHorizon\u001b[39m\u001b[38;5;124m'\u001b[39m,\n\u001b[0;32m      6\u001b[0m     \u001b[38;5;124m'\u001b[39m\u001b[38;5;124mX\u001b[39m\u001b[38;5;124m'\u001b[39m,\n\u001b[1;32m   (...)\u001b[0m\n\u001b[0;32m     20\u001b[0m     \u001b[38;5;124m'\u001b[39m\u001b[38;5;124mIsInc\u001b[39m\u001b[38;5;124m'\u001b[39m,\n\u001b[0;32m     21\u001b[0m ]\n\u001b[1;32m---> 24\u001b[0m \u001b[38;5;28;01mfrom\u001b[39;00m \u001b[38;5;21;01m.\u001b[39;00m\u001b[38;5;21;01m.\u001b[39;00m\u001b[38;5;21;01mcore\u001b[39;00m\u001b[38;5;21;01m.\u001b[39;00m\u001b[38;5;21;01misalias\u001b[39;00m\u001b[38;5;21;01m.\u001b[39;00m\u001b[38;5;21;01minps\u001b[39;00m\u001b[38;5;21;01m.\u001b[39;00m\u001b[38;5;21;01misinp\u001b[39;00m \u001b[38;5;28;01mimport\u001b[39;00m IsBnd, IsExt, IsInc\n\u001b[0;32m     25\u001b[0m \u001b[38;5;28;01mfrom\u001b[39;00m \u001b[38;5;21;01m.\u001b[39;00m\u001b[38;5;21;01manalytical\u001b[39;00m\u001b[38;5;21;01m.\u001b[39;00m\u001b[38;5;21;01mplayer\u001b[39;00m \u001b[38;5;28;01mimport\u001b[39;00m Player\n\u001b[0;32m     26\u001b[0m \u001b[38;5;28;01mfrom\u001b[39;00m \u001b[38;5;21;01m.\u001b[39;00m\u001b[38;5;21;01mcommodity\u001b[39;00m\u001b[38;5;21;01m.\u001b[39;00m\u001b[38;5;21;01mcash\u001b[39;00m \u001b[38;5;28;01mimport\u001b[39;00m Cash\n",
      "File \u001b[1;32mc:\\Users\\cacodcar\\energiapy\\src\\energiapy\\core\\isalias\\inps\\isinp.py:11\u001b[0m\n\u001b[0;32m      9\u001b[0m \u001b[38;5;28;01mfrom\u001b[39;00m \u001b[38;5;21;01m.\u001b[39;00m\u001b[38;5;21;01m.\u001b[39;00m\u001b[38;5;21;01m.\u001b[39;00m\u001b[38;5;21;01m.\u001b[39;00m\u001b[38;5;21;01mcomponents\u001b[39;00m\u001b[38;5;21;01m.\u001b[39;00m\u001b[38;5;21;01mspatial\u001b[39;00m\u001b[38;5;21;01m.\u001b[39;00m\u001b[38;5;21;01mlocation\u001b[39;00m \u001b[38;5;28;01mimport\u001b[39;00m Location\n\u001b[0;32m     10\u001b[0m \u001b[38;5;28;01mfrom\u001b[39;00m \u001b[38;5;21;01m.\u001b[39;00m\u001b[38;5;21;01m.\u001b[39;00m\u001b[38;5;21;01m.\u001b[39;00m\u001b[38;5;21;01m.\u001b[39;00m\u001b[38;5;21;01mcomponents\u001b[39;00m\u001b[38;5;21;01m.\u001b[39;00m\u001b[38;5;21;01mspatial\u001b[39;00m\u001b[38;5;21;01m.\u001b[39;00m\u001b[38;5;21;01mnetwork\u001b[39;00m \u001b[38;5;28;01mimport\u001b[39;00m Network\n\u001b[1;32m---> 11\u001b[0m \u001b[38;5;28;01mfrom\u001b[39;00m \u001b[38;5;21;01m.\u001b[39;00m\u001b[38;5;21;01m.\u001b[39;00m\u001b[38;5;21;01m.\u001b[39;00m\u001b[38;5;21;01m.\u001b[39;00m\u001b[38;5;21;01mcomponents\u001b[39;00m\u001b[38;5;21;01m.\u001b[39;00m\u001b[38;5;21;01mtemporal\u001b[39;00m\u001b[38;5;21;01m.\u001b[39;00m\u001b[38;5;21;01mincidental\u001b[39;00m \u001b[38;5;28;01mimport\u001b[39;00m I\n\u001b[0;32m     12\u001b[0m \u001b[38;5;28;01mfrom\u001b[39;00m \u001b[38;5;21;01m.\u001b[39;00m\u001b[38;5;21;01m.\u001b[39;00m\u001b[38;5;21;01m.\u001b[39;00m\u001b[38;5;21;01m.\u001b[39;00m\u001b[38;5;21;01mcomponents\u001b[39;00m\u001b[38;5;21;01m.\u001b[39;00m\u001b[38;5;21;01mtemporal\u001b[39;00m\u001b[38;5;21;01m.\u001b[39;00m\u001b[38;5;21;01mmode\u001b[39;00m \u001b[38;5;28;01mimport\u001b[39;00m X\n\u001b[0;32m     13\u001b[0m \u001b[38;5;28;01mfrom\u001b[39;00m \u001b[38;5;21;01m.\u001b[39;00m\u001b[38;5;21;01m.\u001b[39;00m\u001b[38;5;21;01m.\u001b[39;00m\u001b[38;5;21;01m.\u001b[39;00m\u001b[38;5;21;01mcomponents\u001b[39;00m\u001b[38;5;21;01m.\u001b[39;00m\u001b[38;5;21;01mtemporal\u001b[39;00m\u001b[38;5;21;01m.\u001b[39;00m\u001b[38;5;21;01mscale\u001b[39;00m \u001b[38;5;28;01mimport\u001b[39;00m Scale\n",
      "\u001b[1;31mModuleNotFoundError\u001b[0m: No module named 'energiapy.components.temporal.incidental'"
     ]
    }
   ],
   "source": [
    "from energiapy.components import *\n",
    "from energiapy.environ import *\n",
    "from pandas import DataFrame\n",
    "from dataclasses import fields, field, dataclass"
   ]
  },
  {
   "cell_type": "code",
   "execution_count": 7,
   "metadata": {},
   "outputs": [
    {
     "data": {
      "text/plain": [
       "Parameter(value=[M], index=None, lb=False, ub=False)"
      ]
     },
     "execution_count": 7,
     "metadata": {},
     "output_type": "execute_result"
    }
   ],
   "source": [
    "b"
   ]
  },
  {
   "cell_type": "code",
   "execution_count": 27,
   "metadata": {},
   "outputs": [
    {
     "data": {
      "text/plain": [
       "Parameter(value=[True], index=None, lb=False, ub=False)"
      ]
     },
     "execution_count": 27,
     "metadata": {},
     "output_type": "execute_result"
    }
   ],
   "source": []
  },
  {
   "cell_type": "code",
   "execution_count": 4,
   "metadata": {},
   "outputs": [],
   "source": [
    "s = Scenario(default=True)"
   ]
  },
  {
   "cell_type": "code",
   "execution_count": 5,
   "metadata": {},
   "outputs": [
    {
     "data": {
      "text/plain": [
       "[madgaon, ponje, cacoda]"
      ]
     },
     "execution_count": 5,
     "metadata": {},
     "output_type": "execute_result"
    }
   ],
   "source": [
    "# s.h2 = Horizon({'days': 2, 'hours': 12})\n",
    "s.hor = Horizon(birth=[2, 12], nested=True)\n",
    "s.scales\n",
    "s.net = Network(birth={'madgaon': 1, 'ponje': 1, 'cacoda': 1})  # , link_all=True)\n",
    "s.nodes"
   ]
  },
  {
   "cell_type": "code",
   "execution_count": 6,
   "metadata": {},
   "outputs": [],
   "source": [
    "s.alink = Linkage(source=s.madgaon, sink=s.ponje, bi=True, distance=50)\n",
    "s.blink = Linkage(source=s.ponje, sink=s.cacoda, bi=False, distance=80)\n",
    "s.clink = Linkage(source=s.cacoda, sink=s.madgaon, bi=True, distance=100)\n",
    "s.dlink = Linkage(source=s.madgaon, sink=s.ponje, bi=False, distance=200)"
   ]
  },
  {
   "cell_type": "code",
   "execution_count": 7,
   "metadata": {},
   "outputs": [],
   "source": [
    "a = DataFrame({'a': list(range(2))})\n",
    "b = DataFrame({'b': list(range(24))})"
   ]
  },
  {
   "cell_type": "code",
   "execution_count": 8,
   "metadata": {},
   "outputs": [
    {
     "data": {
      "text/plain": [
       "Program|:s:|"
      ]
     },
     "execution_count": 8,
     "metadata": {},
     "output_type": "execute_result"
    }
   ],
   "source": [
    "s.program"
   ]
  },
  {
   "cell_type": "code",
   "execution_count": 9,
   "metadata": {},
   "outputs": [
    {
     "data": {
      "text/plain": [
       "TaskMaster|:s:|"
      ]
     },
     "execution_count": 9,
     "metadata": {},
     "output_type": "execute_result"
    }
   ],
   "source": [
    "s.taskmaster"
   ]
  },
  {
   "cell_type": "code",
   "execution_count": 1,
   "metadata": {},
   "outputs": [
    {
     "ename": "TypeError",
     "evalue": "unhashable type: 'list'",
     "output_type": "error",
     "traceback": [
      "\u001b[1;31m---------------------------------------------------------------------------\u001b[0m",
      "\u001b[1;31mTypeError\u001b[0m                                 Traceback (most recent call last)",
      "Cell \u001b[1;32mIn[1], line 1\u001b[0m\n\u001b[1;32m----> 1\u001b[0m {[\u001b[38;5;241m12\u001b[39m, \u001b[38;5;241m3\u001b[39m], [\u001b[38;5;241m2\u001b[39m]}\n",
      "\u001b[1;31mTypeError\u001b[0m: unhashable type: 'list'"
     ]
    }
   ],
   "source": []
  },
  {
   "cell_type": "code",
   "execution_count": 10,
   "metadata": {},
   "outputs": [
    {
     "name": "stderr",
     "output_type": "stream",
     "text": [
      "c:\\Users\\cacodcar\\energiapy\\src\\energiapy\\components\\_base\\_consistent.py:240: InconsistencyWarning: \n",
      "csh.spend:Inconsistent temporal scale for ponje at t1.\n",
      "Updating to t0\n",
      "Set Scneario.ok_inconsistent=False, to enforce strictly\n",
      "  warn(\n"
     ]
    },
    {
     "ename": "TypeError",
     "evalue": "ChitraGupta.fish() takes 2 positional arguments but 3 were given",
     "output_type": "error",
     "traceback": [
      "\u001b[1;31m---------------------------------------------------------------------------\u001b[0m",
      "\u001b[1;31mTypeError\u001b[0m                                 Traceback (most recent call last)",
      "Cell \u001b[1;32mIn[10], line 1\u001b[0m\n\u001b[1;32m----> 1\u001b[0m \u001b[43ms\u001b[49m\u001b[38;5;241;43m.\u001b[39;49m\u001b[43mcsh\u001b[49m \u001b[38;5;241m=\u001b[39m Cash(\n\u001b[0;32m      2\u001b[0m     spend\u001b[38;5;241m=\u001b[39m{\n\u001b[0;32m      3\u001b[0m         s\u001b[38;5;241m.\u001b[39mmadgaon: \u001b[38;5;28;01mTrue\u001b[39;00m,\n\u001b[0;32m      4\u001b[0m         s\u001b[38;5;241m.\u001b[39mponje: {s\u001b[38;5;241m.\u001b[39mt1: (\u001b[38;5;241m2\u001b[39m, a)},\n\u001b[0;32m      5\u001b[0m         s\u001b[38;5;241m.\u001b[39mcacoda: a,\n\u001b[0;32m      6\u001b[0m         s\u001b[38;5;241m.\u001b[39mnetwork: {s\u001b[38;5;241m.\u001b[39mt1: [\u001b[38;5;241m5\u001b[39m, \u001b[38;5;241m7\u001b[39m]},\n\u001b[0;32m      7\u001b[0m     },\n\u001b[0;32m      8\u001b[0m     \u001b[38;5;66;03m# label='cash',\u001b[39;00m\n\u001b[0;32m      9\u001b[0m     basis\u001b[38;5;241m=\u001b[39m\u001b[38;5;124m'\u001b[39m\u001b[38;5;124mUSD\u001b[39m\u001b[38;5;124m'\u001b[39m,\n\u001b[0;32m     10\u001b[0m )\n",
      "File \u001b[1;32mc:\\Users\\cacodcar\\energiapy\\src\\energiapy\\environ\\scenario.py:152\u001b[0m, in \u001b[0;36mScenario.__setattr__\u001b[1;34m(self, name, value)\u001b[0m\n\u001b[0;32m    148\u001b[0m     \u001b[38;5;28mself\u001b[39m\u001b[38;5;241m.\u001b[39misok_nolabel(component\u001b[38;5;241m=\u001b[39mvalue)\n\u001b[0;32m    149\u001b[0m     \u001b[38;5;66;03m# All defined components have constraints\u001b[39;00m\n\u001b[0;32m    150\u001b[0m     \u001b[38;5;66;03m# The data is handled first and made into internal formats and added to the Data Model\u001b[39;00m\n\u001b[0;32m    151\u001b[0m     \u001b[38;5;66;03m# The Program Model is then generated using information from the Data Model\u001b[39;00m\n\u001b[1;32m--> 152\u001b[0m     \u001b[38;5;28;43mself\u001b[39;49m\u001b[38;5;241;43m.\u001b[39;49m\u001b[43mupdate_model\u001b[49m\u001b[43m(\u001b[49m\u001b[43mname\u001b[49m\u001b[38;5;241;43m=\u001b[39;49m\u001b[43mname\u001b[49m\u001b[43m,\u001b[49m\u001b[43m \u001b[49m\u001b[43mcomponent\u001b[49m\u001b[38;5;241;43m=\u001b[39;49m\u001b[43mvalue\u001b[49m\u001b[43m)\u001b[49m\n\u001b[0;32m    154\u001b[0m \u001b[38;5;66;03m# Horizon, Network, Linkages and Storage give birth to new components\u001b[39;00m\n\u001b[0;32m    155\u001b[0m \u001b[38;5;28;01mif\u001b[39;00m \u001b[38;5;28misinstance\u001b[39m(value, Horizon):\n",
      "File \u001b[1;32mc:\\Users\\cacodcar\\energiapy\\src\\energiapy\\environ\\_scenario\\_update.py:130\u001b[0m, in \u001b[0;36m_Update.update_model\u001b[1;34m(self, name, component)\u001b[0m\n\u001b[0;32m    126\u001b[0m \u001b[38;5;28;01mfor\u001b[39;00m attr \u001b[38;5;129;01min\u001b[39;00m component\u001b[38;5;241m.\u001b[39minputs():\n\u001b[0;32m    127\u001b[0m     \u001b[38;5;28;01mif\u001b[39;00m \u001b[38;5;28mgetattr\u001b[39m(component, attr, \u001b[38;5;28;01mFalse\u001b[39;00m):\n\u001b[0;32m    128\u001b[0m         \u001b[38;5;66;03m# set the input as attribute in the DataBlock\u001b[39;00m\n\u001b[0;32m    129\u001b[0m         \u001b[38;5;66;03m# This will make them into energiapy internal formats - Constant, DataSet, Theta, M\u001b[39;00m\n\u001b[1;32m--> 130\u001b[0m         \u001b[38;5;28;43msetattr\u001b[39;49m\u001b[43m(\u001b[49m\u001b[43mdatablock\u001b[49m\u001b[43m,\u001b[49m\u001b[43m \u001b[49m\u001b[43mattr\u001b[49m\u001b[43m,\u001b[49m\u001b[43m \u001b[49m\u001b[43m{\u001b[49m\u001b[43mcomponent\u001b[49m\u001b[43m:\u001b[49m\u001b[43m \u001b[49m\u001b[38;5;28;43mgetattr\u001b[39;49m\u001b[43m(\u001b[49m\u001b[43mcomponent\u001b[49m\u001b[43m,\u001b[49m\u001b[43m \u001b[49m\u001b[43mattr\u001b[49m\u001b[43m)\u001b[49m\u001b[43m}\u001b[49m\u001b[43m)\u001b[49m\n\u001b[0;32m    132\u001b[0m         \u001b[38;5;66;03m# The updated Values are then set back into the component\u001b[39;00m\n\u001b[0;32m    133\u001b[0m         \u001b[38;5;28msetattr\u001b[39m(component, attr, datablock\u001b[38;5;241m.\u001b[39mdata[attr])\n",
      "File \u001b[1;32mc:\\Users\\cacodcar\\energiapy\\src\\energiapy\\environ\\renditions\\blocks\\datablock.py:58\u001b[0m, in \u001b[0;36mDataBlock.__setattr__\u001b[1;34m(self, name, value)\u001b[0m\n\u001b[0;32m     52\u001b[0m varbnds \u001b[38;5;241m=\u001b[39m [VarBnd\u001b[38;5;241m.\u001b[39mLB, VarBnd\u001b[38;5;241m.\u001b[39mUB]\n\u001b[0;32m     54\u001b[0m \u001b[38;5;28;01mif\u001b[39;00m \u001b[38;5;28misinstance\u001b[39m(value, \u001b[38;5;28mdict\u001b[39m) \u001b[38;5;129;01mand\u001b[39;00m \u001b[38;5;129;01mnot\u001b[39;00m name \u001b[38;5;241m==\u001b[39m \u001b[38;5;124m'\u001b[39m\u001b[38;5;124mdata\u001b[39m\u001b[38;5;124m'\u001b[39m:\n\u001b[0;32m     55\u001b[0m     \u001b[38;5;66;03m# _Spt holds the data in a particular format\u001b[39;00m\n\u001b[0;32m     56\u001b[0m     \u001b[38;5;66;03m# {Index: value}. The disposition is made there\u001b[39;00m\n\u001b[0;32m     57\u001b[0m     \u001b[38;5;66;03m# This is only temporary and the user eventually sees a list of parameters\u001b[39;00m\n\u001b[1;32m---> 58\u001b[0m     datum \u001b[38;5;241m=\u001b[39m \u001b[43mDatum\u001b[49m\u001b[43m(\u001b[49m\u001b[43mattr\u001b[49m\u001b[38;5;241;43m=\u001b[39;49m\u001b[43mname\u001b[49m\u001b[43m,\u001b[49m\u001b[43m \u001b[49m\u001b[43mdata\u001b[49m\u001b[38;5;241;43m=\u001b[39;49m\u001b[43mvalue\u001b[49m\u001b[43m,\u001b[49m\u001b[43m \u001b[49m\u001b[43mcomponent\u001b[49m\u001b[38;5;241;43m=\u001b[39;49m\u001b[38;5;28;43mself\u001b[39;49m\u001b[38;5;241;43m.\u001b[39;49m\u001b[43mcomponent\u001b[49m\u001b[43m)\u001b[49m\n\u001b[0;32m     59\u001b[0m     \u001b[38;5;28;01mfor\u001b[39;00m index, datapoint \u001b[38;5;129;01min\u001b[39;00m datum\u001b[38;5;241m.\u001b[39mdata\u001b[38;5;241m.\u001b[39mitems():\n\u001b[0;32m     61\u001b[0m         \u001b[38;5;28;01mif\u001b[39;00m datapoint \u001b[38;5;129;01mis\u001b[39;00m \u001b[38;5;28;01mTrue\u001b[39;00m:\n\u001b[0;32m     62\u001b[0m             \u001b[38;5;66;03m# if datapoint is True, put it in a list\u001b[39;00m\n\u001b[0;32m     63\u001b[0m             \u001b[38;5;66;03m# it will become an upper bound in the next step\u001b[39;00m\n",
      "File \u001b[1;32m<string>:6\u001b[0m, in \u001b[0;36m__init__\u001b[1;34m(self, attr, data, component)\u001b[0m\n",
      "File \u001b[1;32mc:\\Users\\cacodcar\\energiapy\\src\\energiapy\\environ\\datum.py:63\u001b[0m, in \u001b[0;36mDatum.__post_init__\u001b[1;34m(self)\u001b[0m\n\u001b[0;32m     58\u001b[0m \u001b[38;5;28;01mdef\u001b[39;00m \u001b[38;5;21m__post_init__\u001b[39m(\u001b[38;5;28mself\u001b[39m):\n\u001b[0;32m     59\u001b[0m     \u001b[38;5;66;03m# The original dictionary input\u001b[39;00m\n\u001b[0;32m     60\u001b[0m     \u001b[38;5;66;03m# keep it because some operations birth processes\u001b[39;00m\n\u001b[0;32m     61\u001b[0m     \u001b[38;5;66;03m# processes need the og input\u001b[39;00m\n\u001b[0;32m     62\u001b[0m     \u001b[38;5;28mself\u001b[39m\u001b[38;5;241m.\u001b[39mog_input \u001b[38;5;241m=\u001b[39m \u001b[38;5;28mself\u001b[39m\u001b[38;5;241m.\u001b[39mdata\n\u001b[1;32m---> 63\u001b[0m     \u001b[38;5;28;43mself\u001b[39;49m\u001b[38;5;241;43m.\u001b[39;49m\u001b[43mupdate_data\u001b[49m\u001b[43m(\u001b[49m\u001b[43m)\u001b[49m\n",
      "File \u001b[1;32mc:\\Users\\cacodcar\\energiapy\\src\\energiapy\\environ\\datum.py:149\u001b[0m, in \u001b[0;36mDatum.update_data\u001b[1;34m(self)\u001b[0m\n\u001b[0;32m    146\u001b[0m         disposition[\u001b[38;5;124m'\u001b[39m\u001b[38;5;124mmde\u001b[39m\u001b[38;5;124m'\u001b[39m] \u001b[38;5;241m=\u001b[39m cmp\n\u001b[0;32m    148\u001b[0m \u001b[38;5;66;03m# fish will either return an existing index or create a new one\u001b[39;00m\n\u001b[1;32m--> 149\u001b[0m index \u001b[38;5;241m=\u001b[39m \u001b[38;5;28;43mself\u001b[39;49m\u001b[38;5;241;43m.\u001b[39;49m\u001b[43mregistrar\u001b[49m\u001b[38;5;241;43m.\u001b[39;49m\u001b[43mfish\u001b[49m\u001b[43m(\u001b[49m\u001b[38;5;28;43mself\u001b[39;49m\u001b[38;5;241;43m.\u001b[39;49m\u001b[43mattr\u001b[49m\u001b[43m,\u001b[49m\u001b[43m \u001b[49m\u001b[43mdisposition\u001b[49m\u001b[43m)\u001b[49m\n\u001b[0;32m    151\u001b[0m \u001b[38;5;66;03m# Check whether the input value type is appropriate\u001b[39;00m\n\u001b[0;32m    152\u001b[0m \u001b[38;5;66;03m# if not raises an InputTypeError\u001b[39;00m\n\u001b[0;32m    153\u001b[0m \u001b[38;5;28mself\u001b[39m\u001b[38;5;241m.\u001b[39mcheck_type(val)\n",
      "\u001b[1;31mTypeError\u001b[0m: ChitraGupta.fish() takes 2 positional arguments but 3 were given"
     ]
    }
   ],
   "source": [
    "s.csh = Cash(\n",
    "    spend={\n",
    "        s.madgaon: True,\n",
    "        s.ponje: {s.t1: (2, a)},\n",
    "        s.cacoda: a,\n",
    "        s.network: {s.t1: [5, 7]},\n",
    "    },\n",
    "    # label='cash',\n",
    "    basis='USD',\n",
    ")"
   ]
  },
  {
   "cell_type": "code",
   "execution_count": null,
   "metadata": {},
   "outputs": [],
   "source": [
    "from operator import is_\n",
    "\n",
    "is_(s.registrar.spend[0], s.registrar.spend[1])"
   ]
  },
  {
   "cell_type": "code",
   "execution_count": null,
   "metadata": {},
   "outputs": [],
   "source": [
    "s.H2 = Resource(\n",
    "    # sell={s.t0: [0, 4], s.t1: [a, 34], s.t2: (a, b)},\n",
    "    sell_price={\n",
    "        s.madgaon: {s.t1: (2, a)},\n",
    "        s.ponje: {s.t1: (2, b)},\n",
    "        s.cacoda: 300,\n",
    "    },\n",
    ")"
   ]
  },
  {
   "cell_type": "code",
   "execution_count": null,
   "metadata": {},
   "outputs": [],
   "source": [
    "s.Solar = Resource(buy=True, basis='MW', label='Solar Power')\n",
    "\n",
    "\n",
    "s.Wind = Resource(buy=a, basis='MW', label='Wind Power')\n",
    "\n",
    "\n",
    "s.Power = Resource(basis='MW', label='Power generated')\n",
    "\n",
    "\n",
    "s.Uranium = Resource(\n",
    "    buy=DataFrame({'a': [i for i in range(24)]}),\n",
    "    buy_price=42.70 / (250 / 2),\n",
    "    basis='kg',\n",
    "    label='Uranium',\n",
    ")\n",
    "\n",
    "\n",
    "# s.H2_L = Resource(sell=(0, 23), basis='tons', label='Hydrogen')\n",
    "\n",
    "\n",
    "# s.CO2_AQoff = Resource(basis='tons', label='Carbon dioxide - sequestered')\n",
    "\n",
    "\n",
    "s.H2O = Resource(buy=(20, 50), buy_price=b, basis='tons', label='Water')\n",
    "\n",
    "\n",
    "s.CH4 = Resource(buy=[20, 40], buy_price=20, basis='tons', label='Natural gas')\n",
    "\n",
    "\n",
    "s.CO2 = Resource(basis='tons', label='Carbon dioxide', block='Resource')\n",
    "\n",
    "\n",
    "s.CO2_Vent = Resource(\n",
    "    basis='tons',\n",
    "    label='Carbon dioxide - Vented',\n",
    "    sell_price=(2, 20),\n",
    "    sell_emit={s.gwp: b},\n",
    ")\n",
    "\n",
    "\n",
    "s.O2 = Resource(sell=[20, True], basis='tons', label='Oxygen')\n",
    "\n",
    "\n",
    "s.CO2_DAC = Resource(basis='tons', label='Carbon dioxide - captured')\n",
    "s.Power = Resource(buy=[0, a], basis='MW', label='Power generated')"
   ]
  },
  {
   "cell_type": "code",
   "execution_count": null,
   "metadata": {},
   "outputs": [],
   "source": [
    "s.LiR = Resource(\n",
    "    use_emit={s.gwp: {s.t1: 1.484}},\n",
    "    use={s.ponje: 1.5},\n",
    "    basis='kg',\n",
    "    label='Lithium Reserves',\n",
    "    citation='Nelson Bunyui Manjong (2021)',\n",
    ")"
   ]
  },
  {
   "cell_type": "code",
   "execution_count": null,
   "metadata": {},
   "outputs": [],
   "source": [
    "s.WF = Process(\n",
    "    conversion={s.Power: {X(0): {s.Wind: -1}, X(1): {s.Wind: -1}}},\n",
    "    produce=[(0, 3), (3, 5)],\n",
    "    capex={s.madgaon: {s.t1: {1462000, I(202233)}}},\n",
    "    opex={4953, I(70)},\n",
    "    setup=1000,\n",
    "    setup_emit={s.gwp: 50, s.odp: 2900},\n",
    "    setup_use={s.LiR: 1.5, s.land: 30},\n",
    "    locations=[s.madgaon, s.ponje],\n",
    "    label='Wind mill array',\n",
    "    basis='MW',\n",
    ")\n",
    "\n",
    "\n",
    "s.PV = Process(\n",
    "    conversion={s.Power: {X(1): {s.Solar: -1.2}, X(2): {s.Solar: -1.5}}},\n",
    "    capex={X(0): 1333, X(1): 1444, X(2): 1555},\n",
    "    opex=22623,\n",
    "    setup={X(0): 3000, X(1): 4000, X(2): 5000},\n",
    "    locations=s.cacoda,\n",
    "    label='Solar PV',\n",
    "    basis='MW',\n",
    ")\n",
    "\n",
    "\n",
    "s.SMRH = Process(\n",
    "    setup_use={s.land: 50},\n",
    "    conversion={\n",
    "        s.H2: {\n",
    "            s.Power: -1.11,\n",
    "            s.CH4: -3.76,\n",
    "            s.H2O: -23.7,\n",
    "            s.CO2_Vent: 1.03,\n",
    "            s.CO2: 9.332,\n",
    "        }\n",
    "    },\n",
    "    capex={\n",
    "        2520000,\n",
    "    },\n",
    "    opex={51.5, I(945000)},\n",
    "    setup=[1000],\n",
    "    label='Steam methane reforming + CCUS',\n",
    ")\n",
    "\n",
    "s.NGCC = Process(\n",
    "    conversion={\n",
    "        s.Power: {\n",
    "            s.CH4: -0.108,\n",
    "            s.H2O: -10,\n",
    "            s.CO2_Vent: 0.297 * 0.05,\n",
    "            s.CO2: 0.297 * 0.95,\n",
    "        }\n",
    "    },\n",
    "    capex=2158928,\n",
    "    opex={4090, I(53320)},\n",
    "    setup=[1, 100],\n",
    "    label='NGCC + 95% CC',\n",
    ")\n",
    "s.SMR = Process(\n",
    "    capex=2400,\n",
    "    opex={0.03, I(800)},\n",
    "    conversion={s.H2: {s.Power: -1.11, s.CH4: -3.76, s.H2O: -23.7, s.CO2_Vent: 9.4979}},\n",
    "    setup=1000,\n",
    "    label='Steam methane reforming',\n",
    ")\n",
    "s.H2FC = Process(\n",
    "    conversion={s.Power: {s.H2: -0.050}},\n",
    "    capex=1.6 * 10**6,\n",
    "    opex=3.5,\n",
    "    setup=[1000, 2000],\n",
    "    label='hydrogen fuel cell',\n",
    ")\n",
    "s.DAC = Process(\n",
    "    capex=0.02536,\n",
    "    opex=0.634,\n",
    "    conversion={s.CO2_DAC: {s.Power: -0.193, s.H2O: -4.048}},\n",
    "    setup=1000,\n",
    "    label='Direct air capture',\n",
    ")\n",
    "# s.PSH = Process(conversion = {s.Power: 0.6}, capex = 3924781, fopex= 17820, vopex = 512.5, store = 10000, capacity=1000, label='Pumped storage hydropower', basis = 'MW')\n",
    "s.ASMR = Process(\n",
    "    conversion={s.Power: {s.Uranium: -4.17 * 10 ** (-5), s.H2O: -3.364}},\n",
    "    capex=7988951,\n",
    "    opex=I(0.04 * 0.730),\n",
    "    setup=1000,\n",
    "    label='Small modular reactors (SMRs)',\n",
    "    locations=s.madgaon,\n",
    ")\n",
    "s.AWE = Process(\n",
    "    setup_use={s.land: (0, 20)},\n",
    "    conversion={s.H2: {s.Power: -1, s.O2: 0.7632, s.H2O: -0.1753}},\n",
    "    capex={1.1 * 10**6, I(20)},\n",
    "    opex=I(16918),\n",
    "    setup=True,\n",
    "    label='Alkaline water electrolysis (AWE)',\n",
    "    citation='Demirhan et al. 2018 AIChE paper',\n",
    ")"
   ]
  },
  {
   "cell_type": "code",
   "execution_count": null,
   "metadata": {},
   "outputs": [],
   "source": [
    "s.LiI = Storage(setup=[2000], inventory=s.Power, setup_in=[40], setup_out=[20])\n",
    "s.LiI2 = Storage(setup=[2000], inventory={s.Power: 0.6})\n",
    "s.H2Stg = Storage(\n",
    "    setup=[2000], inventory={s.H2: {X(0): {s.Power: 0.8}, X(1): {s.Power: 0.9}}}\n",
    ")"
   ]
  },
  {
   "cell_type": "code",
   "execution_count": null,
   "metadata": {},
   "outputs": [],
   "source": [
    "s.parameters[4].__dict__"
   ]
  },
  {
   "cell_type": "code",
   "execution_count": null,
   "metadata": {},
   "outputs": [],
   "source": [
    "s.program.variables"
   ]
  },
  {
   "cell_type": "code",
   "execution_count": null,
   "metadata": {},
   "outputs": [],
   "source": [
    "s.attr.buy.cns()"
   ]
  },
  {
   "cell_type": "code",
   "execution_count": null,
   "metadata": {},
   "outputs": [],
   "source": [
    "s.data.__dict__\n",
    "s.data.H2.__dict__"
   ]
  },
  {
   "cell_type": "code",
   "execution_count": null,
   "metadata": {},
   "outputs": [],
   "source": [
    "s.registrar.__dict__"
   ]
  },
  {
   "cell_type": "code",
   "execution_count": null,
   "metadata": {},
   "outputs": [],
   "source": [
    "s.H2FC.pprint()"
   ]
  },
  {
   "cell_type": "code",
   "execution_count": null,
   "metadata": {},
   "outputs": [],
   "source": []
  },
  {
   "cell_type": "code",
   "execution_count": null,
   "metadata": {},
   "outputs": [],
   "source": [
    "s.H2FC.constraints[-1].__dict__"
   ]
  },
  {
   "cell_type": "code",
   "execution_count": null,
   "metadata": {},
   "outputs": [],
   "source": [
    "s.WF.constraints[-1].__dict__"
   ]
  },
  {
   "cell_type": "code",
   "execution_count": null,
   "metadata": {},
   "outputs": [],
   "source": [
    "s.NGCC.pprint()"
   ]
  },
  {
   "cell_type": "code",
   "execution_count": null,
   "metadata": {},
   "outputs": [],
   "source": [
    "s.pprint()"
   ]
  },
  {
   "cell_type": "code",
   "execution_count": null,
   "metadata": {},
   "outputs": [],
   "source": []
  },
  {
   "cell_type": "code",
   "execution_count": null,
   "metadata": {},
   "outputs": [],
   "source": [
    "[100 * (i + 1) / 14 for i in range(14)]"
   ]
  },
  {
   "cell_type": "code",
   "execution_count": null,
   "metadata": {},
   "outputs": [],
   "source": [
    "[100 * (i + 1) / 13 for i in range(13)]"
   ]
  },
  {
   "cell_type": "code",
   "execution_count": null,
   "metadata": {},
   "outputs": [],
   "source": [
    "print(len(s.variables))\n",
    "print(len(set(s.variables)))\n",
    "print(len(set([v.name for v in s.variables])))\n",
    "print()\n",
    "print(len(s.parameters))\n",
    "print(len(set(s.parameters)))\n",
    "print(len(set([v.name for v in s.parameters])))\n",
    "print()\n",
    "print(len(s.constraints))\n",
    "print(len(set(s.constraints)))\n",
    "print(len(set([v.name for v in s.constraints])))\n",
    "print()\n",
    "print(len(s.indices))\n",
    "print(len(set(s.indices)))\n",
    "print(len(set([v.name for v in s.indices])))"
   ]
  },
  {
   "cell_type": "code",
   "execution_count": null,
   "metadata": {},
   "outputs": [],
   "source": [
    "s.registrar.__dict__"
   ]
  },
  {
   "cell_type": "code",
   "execution_count": null,
   "metadata": {},
   "outputs": [],
   "source": [
    "s.registrar.mbounds"
   ]
  },
  {
   "cell_type": "code",
   "execution_count": null,
   "metadata": {},
   "outputs": [],
   "source": []
  },
  {
   "cell_type": "code",
   "execution_count": null,
   "metadata": {},
   "outputs": [],
   "source": [
    "s.indices"
   ]
  },
  {
   "cell_type": "code",
   "execution_count": null,
   "metadata": {},
   "outputs": [],
   "source": [
    "s.parameters"
   ]
  },
  {
   "cell_type": "code",
   "execution_count": null,
   "metadata": {},
   "outputs": [],
   "source": [
    "sorted(s.indices)"
   ]
  },
  {
   "cell_type": "code",
   "execution_count": null,
   "metadata": {},
   "outputs": [],
   "source": [
    "s.indices[43].__dict__"
   ]
  },
  {
   "cell_type": "code",
   "execution_count": null,
   "metadata": {},
   "outputs": [],
   "source": [
    "s.indices[40].disposition == s.indices[43].disposition"
   ]
  },
  {
   "cell_type": "code",
   "execution_count": null,
   "metadata": {},
   "outputs": [],
   "source": [
    "s.SMRH.program.indices"
   ]
  },
  {
   "cell_type": "code",
   "execution_count": null,
   "metadata": {},
   "outputs": [],
   "source": [
    "s.indices[40].__dict__"
   ]
  },
  {
   "cell_type": "code",
   "execution_count": null,
   "metadata": {},
   "outputs": [],
   "source": [
    "s.train = Transit(\n",
    "    freight=s.H2,\n",
    "    setup=[5, 400],\n",
    "    setup_use={s.land: 20},\n",
    "    setup_emit={s.odp: 0.1},\n",
    "    capex={s.alink: 200, s.blink: 300, s.clink: 400},\n",
    "    opex=100,\n",
    "    label='Train',\n",
    "    basis='passengers',\n",
    "    linkages=[s.alink],\n",
    ")"
   ]
  },
  {
   "cell_type": "code",
   "execution_count": null,
   "metadata": {},
   "outputs": [],
   "source": [
    "s.train.pprint()"
   ]
  },
  {
   "cell_type": "code",
   "execution_count": null,
   "metadata": {},
   "outputs": [],
   "source": [
    "s.pprint()"
   ]
  },
  {
   "cell_type": "code",
   "execution_count": null,
   "metadata": {},
   "outputs": [],
   "source": []
  }
 ],
 "metadata": {
  "kernelspec": {
   "display_name": ".venv",
   "language": "python",
   "name": "python3"
  },
  "language_info": {
   "codemirror_mode": {
    "name": "ipython",
    "version": 3
   },
   "file_extension": ".py",
   "mimetype": "text/x-python",
   "name": "python",
   "nbconvert_exporter": "python",
   "pygments_lexer": "ipython3",
   "version": "3.12.6"
  },
  "orig_nbformat": 4
 },
 "nbformat": 4,
 "nbformat_minor": 2
}
