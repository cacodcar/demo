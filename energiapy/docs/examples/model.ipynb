{
 "cells": [
  {
   "cell_type": "code",
   "execution_count": 7,
   "metadata": {},
   "outputs": [],
   "source": [
    "# def load_data(loc:str, index:list):\n",
    "#     df = pandas.read_csv(f'data/{loc}_solar19.csv')\n",
    "#     df['idx'] = index\n",
    "#     df = df.set_index('idx')\n",
    "#     return df\n",
    "# idx = [(i,j,k) for i,j,k in product(range(1), range(365), range(24))]\n",
    "# weather_ny = load_data('ny', idx)[['DNI', 'Wind Speed']]\n",
    "# weather_ny = weather_ny.rename(columns= {'DNI': 'dni', 'Wind Speed': 'wind_speed'})\n",
    "# weather_sd = load_data('sd', idx)[['dni', 'wind_speed']]\n",
    "# weather_ho = load_data('ho', idx)[['dni', 'wind_speed']]\"\"\n",
    "# demand_sd = pandas.read_excel('data/HistoricalEMSHourlyLoad-2019.xlsx', index_col= 0)[['SDGE']]\n",
    "# demand_ho = pandas.read_excel('data/Native_Load_2019.xlsx')[['COAST']]\n",
    "# demand_ny = DataFrame(pandas.read_csv('data/NYC_load.csv')['Load']) #from Will and Doga\n",
    "# ng_price = make_henry_price_df(\n",
    "#     file_name='data/Henry_Hub_Natural_Gas_Spot_Price_Daily.csv', year=2020)\n",
    "# ng_price = ng_price.drop(columns= 'scales')\n",
    "# ng_price = remove_outliers(ng_price, sd_cuttoff = 3)\n",
    "# ng_price = pandas.concat([ng_price])"
   ]
  },
  {
   "cell_type": "code",
   "execution_count": 1,
   "metadata": {},
   "outputs": [],
   "source": [
    "from src.energiapy.analytical.decision import Decision\n",
    "from src.energiapy.analytical.taskmaster import Chanakya"
   ]
  },
  {
   "cell_type": "code",
   "execution_count": 2,
   "metadata": {},
   "outputs": [],
   "source": [
    "c = Chanakya('c')"
   ]
  },
  {
   "cell_type": "code",
   "execution_count": 7,
   "metadata": {},
   "outputs": [],
   "source": []
  },
  {
   "cell_type": "code",
   "execution_count": 4,
   "metadata": {},
   "outputs": [
    {
     "data": {
      "text/plain": [
       "[trade, build, operate]"
      ]
     },
     "execution_count": 4,
     "metadata": {},
     "output_type": "execute_result"
    }
   ],
   "source": [
    "c.transact.causes"
   ]
  },
  {
   "cell_type": "code",
   "execution_count": 6,
   "metadata": {},
   "outputs": [
    {
     "data": {
      "text/plain": [
       "transact[+]"
      ]
     },
     "execution_count": 6,
     "metadata": {},
     "output_type": "execute_result"
    }
   ],
   "source": [
    "c.transact.pos"
   ]
  },
  {
   "cell_type": "code",
   "execution_count": 5,
   "metadata": {},
   "outputs": [
    {
     "ename": "ModuleNotFoundError",
     "evalue": "No module named 'energiapy'",
     "output_type": "error",
     "traceback": [
      "\u001b[1;31m---------------------------------------------------------------------------\u001b[0m",
      "\u001b[1;31mModuleNotFoundError\u001b[0m                       Traceback (most recent call last)",
      "Cell \u001b[1;32mIn[5], line 2\u001b[0m\n\u001b[0;32m      1\u001b[0m \u001b[38;5;66;03m# from energiapy.components import *\u001b[39;00m\n\u001b[1;32m----> 2\u001b[0m \u001b[38;5;28;01mfrom\u001b[39;00m \u001b[38;5;21;01menergiapy\u001b[39;00m\u001b[38;5;21;01m.\u001b[39;00m\u001b[38;5;21;01menviron\u001b[39;00m \u001b[38;5;28;01mimport\u001b[39;00m \u001b[38;5;241m*\u001b[39m\n\u001b[0;32m      3\u001b[0m \u001b[38;5;28;01mfrom\u001b[39;00m \u001b[38;5;21;01mpandas\u001b[39;00m \u001b[38;5;28;01mimport\u001b[39;00m DataFrame\n\u001b[0;32m      4\u001b[0m \u001b[38;5;28;01mfrom\u001b[39;00m \u001b[38;5;21;01mdataclasses\u001b[39;00m \u001b[38;5;28;01mimport\u001b[39;00m fields, field, dataclass\n",
      "\u001b[1;31mModuleNotFoundError\u001b[0m: No module named 'energiapy'"
     ]
    }
   ],
   "source": [
    "# from energiapy.components import *\n",
    "from energiapy.environ import *\n",
    "from pandas import DataFrame\n",
    "from dataclasses import fields, field, dataclass"
   ]
  },
  {
   "cell_type": "code",
   "execution_count": 2,
   "metadata": {},
   "outputs": [
    {
     "ename": "ImportError",
     "evalue": "cannot import name '_Component' from partially initialized module 'energiapy.components._base._component' (most likely due to a circular import) (/Users/cacodcar/Desktop/repos/energiapy/src/energiapy/components/_base/_component.py)",
     "output_type": "error",
     "traceback": [
      "\u001b[0;31m---------------------------------------------------------------------------\u001b[0m",
      "\u001b[0;31mImportError\u001b[0m                               Traceback (most recent call last)",
      "Cell \u001b[0;32mIn[2], line 1\u001b[0m\n\u001b[0;32m----> 1\u001b[0m \u001b[38;5;28;01mfrom\u001b[39;00m \u001b[38;5;21;01menergiapy\u001b[39;00m\u001b[38;5;21;01m.\u001b[39;00m\u001b[38;5;21;01mcomponents\u001b[39;00m\u001b[38;5;21;01m.\u001b[39;00m\u001b[38;5;21;01manalytical\u001b[39;00m\u001b[38;5;21;01m.\u001b[39;00m\u001b[38;5;21;01mplayer\u001b[39;00m \u001b[38;5;28;01mimport\u001b[39;00m Player\n\u001b[1;32m      2\u001b[0m \u001b[38;5;28;01mfrom\u001b[39;00m \u001b[38;5;21;01menergiapy\u001b[39;00m\u001b[38;5;21;01m.\u001b[39;00m\u001b[38;5;21;01mcomponents\u001b[39;00m\u001b[38;5;21;01m.\u001b[39;00m\u001b[38;5;21;01mcommodity\u001b[39;00m\u001b[38;5;21;01m.\u001b[39;00m\u001b[38;5;21;01mcash\u001b[39;00m \u001b[38;5;28;01mimport\u001b[39;00m Cash\n\u001b[1;32m      3\u001b[0m \u001b[38;5;28;01mfrom\u001b[39;00m \u001b[38;5;21;01menergiapy\u001b[39;00m\u001b[38;5;21;01m.\u001b[39;00m\u001b[38;5;21;01mcomponents\u001b[39;00m\u001b[38;5;21;01m.\u001b[39;00m\u001b[38;5;21;01mcommodity\u001b[39;00m\u001b[38;5;21;01m.\u001b[39;00m\u001b[38;5;21;01memission\u001b[39;00m \u001b[38;5;28;01mimport\u001b[39;00m Emission\n",
      "File \u001b[0;32m~/Desktop/repos/energiapy/src/energiapy/components/analytical/player.py:12\u001b[0m\n\u001b[1;32m      9\u001b[0m \u001b[38;5;28;01mfrom\u001b[39;00m \u001b[38;5;21;01mdataclasses\u001b[39;00m \u001b[38;5;28;01mimport\u001b[39;00m dataclass, fields\n\u001b[1;32m     11\u001b[0m \u001b[38;5;28;01mfrom\u001b[39;00m \u001b[38;5;21;01m.\u001b[39;00m\u001b[38;5;21;01m.\u001b[39;00m\u001b[38;5;21;01m_attrs\u001b[39;00m\u001b[38;5;21;01m.\u001b[39;00m\u001b[38;5;21;01m_bounds\u001b[39;00m \u001b[38;5;28;01mimport\u001b[39;00m _Emit, _Setup, _Trade, _Transact, _Use\n\u001b[0;32m---> 12\u001b[0m \u001b[38;5;28;01mfrom\u001b[39;00m \u001b[38;5;21;01m.\u001b[39;00m\u001b[38;5;21;01m.\u001b[39;00m\u001b[38;5;21;01m_base\u001b[39;00m\u001b[38;5;21;01m.\u001b[39;00m\u001b[38;5;21;01m_defined\u001b[39;00m \u001b[38;5;28;01mimport\u001b[39;00m _Defined\n\u001b[1;32m     15\u001b[0m \u001b[38;5;129m@dataclass\u001b[39m\n\u001b[1;32m     16\u001b[0m \u001b[38;5;28;01mclass\u001b[39;00m \u001b[38;5;21;01mPlayer\u001b[39;00m(_Transact, _Emit, _Trade, _Use, _Setup, _Defined):\n\u001b[1;32m     17\u001b[0m \u001b[38;5;250m    \u001b[39m\u001b[38;5;124;03m\"\"\"Player represents a decision maker in the Scenario\u001b[39;00m\n\u001b[1;32m     18\u001b[0m \n\u001b[1;32m     19\u001b[0m \u001b[38;5;124;03m    A Player has ownership of some Commodities which they give\u001b[39;00m\n\u001b[0;32m   (...)\u001b[0m\n\u001b[1;32m     30\u001b[0m \u001b[38;5;124;03m        label (str): label of the component\u001b[39;00m\n\u001b[1;32m     31\u001b[0m \u001b[38;5;124;03m    \"\"\"\u001b[39;00m\n",
      "File \u001b[0;32m~/Desktop/repos/energiapy/src/energiapy/components/_base/_defined.py:7\u001b[0m\n\u001b[1;32m      4\u001b[0m \u001b[38;5;28;01mfrom\u001b[39;00m \u001b[38;5;21;01mdataclasses\u001b[39;00m \u001b[38;5;28;01mimport\u001b[39;00m dataclass, field\n\u001b[1;32m      6\u001b[0m \u001b[38;5;28;01mfrom\u001b[39;00m \u001b[38;5;21;01m.\u001b[39;00m\u001b[38;5;21;01m.\u001b[39;00m\u001b[38;5;21;01m.\u001b[39;00m\u001b[38;5;21;01mcore\u001b[39;00m\u001b[38;5;21;01m.\u001b[39;00m\u001b[38;5;21;01m_handy\u001b[39;00m\u001b[38;5;21;01m.\u001b[39;00m\u001b[38;5;21;01m_printers\u001b[39;00m \u001b[38;5;28;01mimport\u001b[39;00m _EasyPrint\n\u001b[0;32m----> 7\u001b[0m \u001b[38;5;28;01mfrom\u001b[39;00m \u001b[38;5;21;01m.\u001b[39;00m\u001b[38;5;21;01m_component\u001b[39;00m \u001b[38;5;28;01mimport\u001b[39;00m _Component\n\u001b[1;32m      8\u001b[0m \u001b[38;5;28;01mfrom\u001b[39;00m \u001b[38;5;21;01m.\u001b[39;00m\u001b[38;5;21;01m_consistent\u001b[39;00m \u001b[38;5;28;01mimport\u001b[39;00m _Consistent\n\u001b[1;32m     11\u001b[0m \u001b[38;5;129m@dataclass\u001b[39m\n\u001b[1;32m     12\u001b[0m \u001b[38;5;28;01mclass\u001b[39;00m \u001b[38;5;21;01m_Defined\u001b[39;00m(_Component, _Consistent, _EasyPrint):\n",
      "File \u001b[0;32m~/Desktop/repos/energiapy/src/energiapy/components/_base/_component.py:10\u001b[0m\n\u001b[1;32m      7\u001b[0m \u001b[38;5;28;01mfrom\u001b[39;00m \u001b[38;5;21;01mtyping\u001b[39;00m \u001b[38;5;28;01mimport\u001b[39;00m TYPE_CHECKING\n\u001b[1;32m      9\u001b[0m \u001b[38;5;28;01mfrom\u001b[39;00m \u001b[38;5;21;01m.\u001b[39;00m\u001b[38;5;21;01m.\u001b[39;00m\u001b[38;5;21;01m.\u001b[39;00m\u001b[38;5;21;01mcore\u001b[39;00m\u001b[38;5;21;01m.\u001b[39;00m\u001b[38;5;21;01m_handy\u001b[39;00m\u001b[38;5;21;01m.\u001b[39;00m\u001b[38;5;21;01m_dunders\u001b[39;00m \u001b[38;5;28;01mimport\u001b[39;00m _Dunders\n\u001b[0;32m---> 10\u001b[0m \u001b[38;5;28;01mfrom\u001b[39;00m \u001b[38;5;21;01m.\u001b[39;00m\u001b[38;5;21;01m.\u001b[39;00m\u001b[38;5;21;01m.\u001b[39;00m\u001b[38;5;21;01menviron\u001b[39;00m\u001b[38;5;21;01m.\u001b[39;00m\u001b[38;5;21;01mprogram\u001b[39;00m \u001b[38;5;28;01mimport\u001b[39;00m Block\n\u001b[1;32m     13\u001b[0m \u001b[38;5;28;01mif\u001b[39;00m TYPE_CHECKING:\n\u001b[1;32m     14\u001b[0m     \u001b[38;5;28;01mfrom\u001b[39;00m \u001b[38;5;21;01m.\u001b[39;00m\u001b[38;5;21;01m.\u001b[39;00m\u001b[38;5;21;01m.\u001b[39;00m\u001b[38;5;21;01menviron\u001b[39;00m\u001b[38;5;21;01m.\u001b[39;00m\u001b[38;5;21;01mmodel\u001b[39;00m \u001b[38;5;28;01mimport\u001b[39;00m Model\n",
      "File \u001b[0;32m~/Desktop/repos/energiapy/src/energiapy/environ/__init__.py:6\u001b[0m\n\u001b[1;32m      1\u001b[0m \u001b[38;5;124;03m\"\"\"environ init file\u001b[39;00m\n\u001b[1;32m      2\u001b[0m \u001b[38;5;124;03m\"\"\"\u001b[39;00m\n\u001b[1;32m      4\u001b[0m __all__ \u001b[38;5;241m=\u001b[39m [\u001b[38;5;124m'\u001b[39m\u001b[38;5;124mScenario\u001b[39m\u001b[38;5;124m'\u001b[39m]\n\u001b[0;32m----> 6\u001b[0m \u001b[38;5;28;01mfrom\u001b[39;00m \u001b[38;5;21;01m.\u001b[39;00m\u001b[38;5;21;01mscenario\u001b[39;00m \u001b[38;5;28;01mimport\u001b[39;00m Scenario\n",
      "File \u001b[0;32m~/Desktop/repos/energiapy/src/energiapy/environ/scenario.py:37\u001b[0m\n\u001b[1;32m      1\u001b[0m \u001b[38;5;124;03m\"\"\"Scenario, is the core object \u001b[39;00m\n\u001b[1;32m      2\u001b[0m \n\u001b[1;32m      3\u001b[0m \u001b[38;5;124;03m    All Components defined as a scenario attribute.\u001b[39;00m\n\u001b[0;32m   (...)\u001b[0m\n\u001b[1;32m     32\u001b[0m \u001b[38;5;124;03m    The Matrix Model is just a matrix representation of the problem block\u001b[39;00m\n\u001b[1;32m     33\u001b[0m \u001b[38;5;124;03m\"\"\"\u001b[39;00m\n\u001b[1;32m     35\u001b[0m \u001b[38;5;28;01mfrom\u001b[39;00m \u001b[38;5;21;01mdataclasses\u001b[39;00m \u001b[38;5;28;01mimport\u001b[39;00m dataclass, field\n\u001b[0;32m---> 37\u001b[0m \u001b[38;5;28;01mfrom\u001b[39;00m \u001b[38;5;21;01m.\u001b[39;00m\u001b[38;5;21;01m.\u001b[39;00m\u001b[38;5;21;01mcomponents\u001b[39;00m\u001b[38;5;21;01m.\u001b[39;00m\u001b[38;5;21;01m_base\u001b[39;00m\u001b[38;5;21;01m.\u001b[39;00m\u001b[38;5;21;01m_component\u001b[39;00m \u001b[38;5;28;01mimport\u001b[39;00m _Component\n\u001b[1;32m     38\u001b[0m \u001b[38;5;28;01mfrom\u001b[39;00m \u001b[38;5;21;01m.\u001b[39;00m\u001b[38;5;21;01m.\u001b[39;00m\u001b[38;5;21;01mcomponents\u001b[39;00m\u001b[38;5;21;01m.\u001b[39;00m\u001b[38;5;21;01m_base\u001b[39;00m\u001b[38;5;21;01m.\u001b[39;00m\u001b[38;5;21;01m_defined\u001b[39;00m \u001b[38;5;28;01mimport\u001b[39;00m _Defined\n\u001b[1;32m     39\u001b[0m \u001b[38;5;28;01mfrom\u001b[39;00m \u001b[38;5;21;01m.\u001b[39;00m\u001b[38;5;21;01m.\u001b[39;00m\u001b[38;5;21;01mcomponents\u001b[39;00m\u001b[38;5;21;01m.\u001b[39;00m\u001b[38;5;21;01mcommodity\u001b[39;00m\u001b[38;5;21;01m.\u001b[39;00m\u001b[38;5;21;01mresource\u001b[39;00m \u001b[38;5;28;01mimport\u001b[39;00m ResourceStg, ResourceTrn\n",
      "\u001b[0;31mImportError\u001b[0m: cannot import name '_Component' from partially initialized module 'energiapy.components._base._component' (most likely due to a circular import) (/Users/cacodcar/Desktop/repos/energiapy/src/energiapy/components/_base/_component.py)"
     ]
    }
   ],
   "source": [
    "from energiapy.components.analytical.player import Player\n",
    "from energiapy.components.commodity.cash import Cash\n",
    "from energiapy.components.commodity.emission import Emission\n",
    "from energiapy.components.commodity.land import Land\n",
    "from energiapy.components.commodity.resource import Resource\n",
    "from energiapy.components.operation.process import Process\n",
    "from energiapy.components.operation.storage import Storage\n",
    "from energiapy.components.operation.transit import Transit\n",
    "from energiapy.components.spatial.linkage import Linkage"
   ]
  },
  {
   "cell_type": "code",
   "execution_count": 4,
   "metadata": {},
   "outputs": [],
   "source": [
    "s = Scenario(default=True)"
   ]
  },
  {
   "cell_type": "code",
   "execution_count": 6,
   "metadata": {},
   "outputs": [],
   "source": [
    "s.birth_scales(scales=[2, 12])\n",
    "s.birth_locations(locations=[1, 1, 1], names=['madgaon', 'ponje', 'cacoda'])"
   ]
  },
  {
   "cell_type": "code",
   "execution_count": 7,
   "metadata": {},
   "outputs": [
    {
     "data": {
      "text/plain": [
       "[madgaon, ponje, cacoda]"
      ]
     },
     "execution_count": 7,
     "metadata": {},
     "output_type": "execute_result"
    }
   ],
   "source": [
    "s.network.locations"
   ]
  },
  {
   "cell_type": "code",
   "execution_count": 8,
   "metadata": {},
   "outputs": [],
   "source": [
    "s.alink = Linkage(source=s.madgaon, sink=s.ponje, bi=True, distance=50)\n",
    "s.blink = Linkage(source=s.ponje, sink=s.cacoda, bi=False, distance=80)\n",
    "s.clink = Linkage(source=s.cacoda, sink=s.madgaon, bi=True, distance=100)\n",
    "s.dlink = Linkage(source=s.madgaon, sink=s.ponje, bi=False, distance=200)"
   ]
  },
  {
   "cell_type": "code",
   "execution_count": 9,
   "metadata": {},
   "outputs": [],
   "source": [
    "a = DataFrame({'a': list(range(2))})\n",
    "b = DataFrame({'b': list(range(24))})"
   ]
  },
  {
   "cell_type": "code",
   "execution_count": 10,
   "metadata": {},
   "outputs": [
    {
     "data": {
      "text/plain": [
       ":s:"
      ]
     },
     "execution_count": 10,
     "metadata": {},
     "output_type": "execute_result"
    }
   ],
   "source": [
    "s.program"
   ]
  },
  {
   "cell_type": "code",
   "execution_count": 11,
   "metadata": {},
   "outputs": [
    {
     "data": {
      "text/plain": [
       "TaskMaster|:s:|"
      ]
     },
     "execution_count": 11,
     "metadata": {},
     "output_type": "execute_result"
    }
   ],
   "source": [
    "s.taskmaster"
   ]
  },
  {
   "cell_type": "code",
   "execution_count": null,
   "metadata": {},
   "outputs": [],
   "source": []
  },
  {
   "cell_type": "code",
   "execution_count": 12,
   "metadata": {},
   "outputs": [
    {
     "ename": "AttributeError",
     "evalue": "'System' object has no attribute 'horizon'",
     "output_type": "error",
     "traceback": [
      "\u001b[1;31m---------------------------------------------------------------------------\u001b[0m",
      "\u001b[1;31mAttributeError\u001b[0m                            Traceback (most recent call last)",
      "Cell \u001b[1;32mIn[12], line 1\u001b[0m\n\u001b[1;32m----> 1\u001b[0m \u001b[43ms\u001b[49m\u001b[38;5;241;43m.\u001b[39;49m\u001b[43mcsh\u001b[49m \u001b[38;5;241m=\u001b[39m Cash(\n\u001b[0;32m      2\u001b[0m     spend\u001b[38;5;241m=\u001b[39m{\n\u001b[0;32m      3\u001b[0m         s\u001b[38;5;241m.\u001b[39mmadgaon: \u001b[38;5;28;01mTrue\u001b[39;00m,\n\u001b[0;32m      4\u001b[0m         s\u001b[38;5;241m.\u001b[39mponje: {s\u001b[38;5;241m.\u001b[39mt1: (\u001b[38;5;241m2\u001b[39m, a)},\n\u001b[0;32m      5\u001b[0m         s\u001b[38;5;241m.\u001b[39mcacoda: a,\n\u001b[0;32m      6\u001b[0m         s\u001b[38;5;241m.\u001b[39mnetwork: {s\u001b[38;5;241m.\u001b[39mt1: [\u001b[38;5;241m5\u001b[39m, \u001b[38;5;241m7\u001b[39m]},\n\u001b[0;32m      7\u001b[0m     },\n\u001b[0;32m      8\u001b[0m     \u001b[38;5;66;03m# label='cash',\u001b[39;00m\n\u001b[0;32m      9\u001b[0m     basis\u001b[38;5;241m=\u001b[39m\u001b[38;5;124m'\u001b[39m\u001b[38;5;124mUSD\u001b[39m\u001b[38;5;124m'\u001b[39m,\n\u001b[0;32m     10\u001b[0m )\n",
      "File \u001b[1;32mc:\\Users\\cacodcar\\energiapy\\src\\energiapy\\environ\\scenario.py:152\u001b[0m, in \u001b[0;36mScenario.__setattr__\u001b[1;34m(self, name, value)\u001b[0m\n\u001b[0;32m    148\u001b[0m     \u001b[38;5;28mself\u001b[39m\u001b[38;5;241m.\u001b[39misok_nolabel(component\u001b[38;5;241m=\u001b[39mvalue)\n\u001b[0;32m    149\u001b[0m     \u001b[38;5;66;03m# All defined components have constraints\u001b[39;00m\n\u001b[0;32m    150\u001b[0m     \u001b[38;5;66;03m# The data is handled first and made into internal formats and added to the Data Model\u001b[39;00m\n\u001b[0;32m    151\u001b[0m     \u001b[38;5;66;03m# The Program Model is then generated using information from the Data Model\u001b[39;00m\n\u001b[1;32m--> 152\u001b[0m     \u001b[38;5;28;43mself\u001b[39;49m\u001b[38;5;241;43m.\u001b[39;49m\u001b[43mupdate_model\u001b[49m\u001b[43m(\u001b[49m\u001b[43mname\u001b[49m\u001b[38;5;241;43m=\u001b[39;49m\u001b[43mname\u001b[49m\u001b[43m,\u001b[49m\u001b[43m \u001b[49m\u001b[43mcomponent\u001b[49m\u001b[38;5;241;43m=\u001b[39;49m\u001b[43mvalue\u001b[49m\u001b[43m)\u001b[49m\n\u001b[0;32m    154\u001b[0m \u001b[38;5;66;03m# find where all the Operation is located\u001b[39;00m\n\u001b[0;32m    155\u001b[0m \u001b[38;5;66;03m# if nothing is provided, available throughout Network (all locations)\u001b[39;00m\n\u001b[0;32m    156\u001b[0m \u001b[38;5;28;01mif\u001b[39;00m \u001b[38;5;28misinstance\u001b[39m(value, _Operation):\n",
      "File \u001b[1;32mc:\\Users\\cacodcar\\energiapy\\src\\energiapy\\environ\\_scenario\\_update.py:119\u001b[0m, in \u001b[0;36m_Update.update_model\u001b[1;34m(self, name, component)\u001b[0m\n\u001b[0;32m    107\u001b[0m \u001b[38;5;250m\u001b[39m\u001b[38;5;124;03m\"\"\"Updates the Data and System Model with the components\u001b[39;00m\n\u001b[0;32m    108\u001b[0m \n\u001b[0;32m    109\u001b[0m \u001b[38;5;124;03mArgs:\u001b[39;00m\n\u001b[0;32m    110\u001b[0m \u001b[38;5;124;03m    name (str): name of component\u001b[39;00m\n\u001b[0;32m    111\u001b[0m \u001b[38;5;124;03m    component (IsDfn): Component to be added\u001b[39;00m\n\u001b[0;32m    112\u001b[0m \u001b[38;5;124;03m\"\"\"\u001b[39;00m\n\u001b[0;32m    114\u001b[0m \u001b[38;5;66;03m# Make the component inputs consistent\u001b[39;00m\n\u001b[0;32m    115\u001b[0m \u001b[38;5;66;03m# i.e. of the form - {Spatial[Location, Linkage, Network]: Temporal[Scale]: Mode[X]: Value}\u001b[39;00m\n\u001b[0;32m    116\u001b[0m \u001b[38;5;66;03m# Value can be numeric, DataFrame, True\u001b[39;00m\n\u001b[0;32m    117\u001b[0m \u001b[38;5;66;03m# or a tuple of numeric or DataFrame\u001b[39;00m\n\u001b[0;32m    118\u001b[0m \u001b[38;5;66;03m# or a list or numeric, DataFrame, True, or a tuple of numeric or DataFrame\u001b[39;00m\n\u001b[1;32m--> 119\u001b[0m \u001b[43mcomponent\u001b[49m\u001b[38;5;241;43m.\u001b[39;49m\u001b[43mmake_consistent\u001b[49m\u001b[43m(\u001b[49m\u001b[38;5;28;43mgetattr\u001b[39;49m\u001b[43m(\u001b[49m\u001b[38;5;28;43mself\u001b[39;49m\u001b[43m,\u001b[49m\u001b[43m \u001b[49m\u001b[38;5;124;43m'\u001b[39;49m\u001b[38;5;124;43mok_inconsistent\u001b[39;49m\u001b[38;5;124;43m'\u001b[39;49m\u001b[43m)\u001b[49m\u001b[43m)\u001b[49m\n\u001b[0;32m    121\u001b[0m \u001b[38;5;66;03m# make Small Blocks to be added to the larger Model Blocks\u001b[39;00m\n\u001b[0;32m    122\u001b[0m \u001b[38;5;66;03m# where all the model elements go\u001b[39;00m\n\u001b[0;32m    123\u001b[0m programblock: Block \u001b[38;5;241m=\u001b[39m component\u001b[38;5;241m.\u001b[39mprogramblock\n",
      "File \u001b[1;32mc:\\Users\\cacodcar\\energiapy\\src\\energiapy\\components\\_base\\_consistent.py:422\u001b[0m, in \u001b[0;36m_Consistent.make_consistent\u001b[1;34m(self, ok_inconsistent)\u001b[0m\n\u001b[0;32m    419\u001b[0m     \u001b[38;5;28;01mif\u001b[39;00m value \u001b[38;5;129;01mis\u001b[39;00m \u001b[38;5;28;01mNone\u001b[39;00m:\n\u001b[0;32m    420\u001b[0m         \u001b[38;5;28;01mcontinue\u001b[39;00m\n\u001b[1;32m--> 422\u001b[0m     \u001b[38;5;28msetattr\u001b[39m(\u001b[38;5;28mself\u001b[39m, attr, \u001b[43mmake_any_consistent\u001b[49m\u001b[43m(\u001b[49m\u001b[43mvalue\u001b[49m\u001b[43m,\u001b[49m\u001b[43m \u001b[49m\u001b[43mattr\u001b[49m\u001b[43m,\u001b[49m\u001b[43m \u001b[49m\u001b[43mok_inconsistent\u001b[49m\u001b[43m)\u001b[49m)\n\u001b[0;32m    424\u001b[0m \u001b[38;5;28msetattr\u001b[39m(\u001b[38;5;28mself\u001b[39m, \u001b[38;5;124m'\u001b[39m\u001b[38;5;124mconsistent\u001b[39m\u001b[38;5;124m'\u001b[39m, \u001b[38;5;28;01mTrue\u001b[39;00m)\n",
      "File \u001b[1;32mc:\\Users\\cacodcar\\energiapy\\src\\energiapy\\components\\_base\\_consistent.py:410\u001b[0m, in \u001b[0;36m_Consistent.make_consistent.<locals>.make_any_consistent\u001b[1;34m(value, attr, ok_inconsistent)\u001b[0m\n\u001b[0;32m    407\u001b[0m     \u001b[38;5;28;01mreturn\u001b[39;00m make_exact_consistent(value, attr, ok_inconsistent)\n\u001b[0;32m    409\u001b[0m \u001b[38;5;28;01mif\u001b[39;00m attr \u001b[38;5;129;01min\u001b[39;00m \u001b[38;5;28mself\u001b[39m\u001b[38;5;241m.\u001b[39mbounds() \u001b[38;5;241m+\u001b[39m \u001b[38;5;28mself\u001b[39m\u001b[38;5;241m.\u001b[39mboundbounds():\n\u001b[1;32m--> 410\u001b[0m     \u001b[38;5;28;01mreturn\u001b[39;00m \u001b[43mmake_bound_consistent\u001b[49m\u001b[43m(\u001b[49m\u001b[43mvalue\u001b[49m\u001b[43m,\u001b[49m\u001b[43m \u001b[49m\u001b[43mattr\u001b[49m\u001b[43m,\u001b[49m\u001b[43m \u001b[49m\u001b[43mok_inconsistent\u001b[49m\u001b[43m)\u001b[49m\n",
      "File \u001b[1;32mc:\\Users\\cacodcar\\energiapy\\src\\energiapy\\components\\_base\\_consistent.py:400\u001b[0m, in \u001b[0;36m_Consistent.make_consistent.<locals>.make_bound_consistent\u001b[1;34m(value, attr, ok_inconsistent)\u001b[0m\n\u001b[0;32m    396\u001b[0m \u001b[38;5;250m\u001b[39m\u001b[38;5;124;03m\"\"\"Makes Bound inputs consistent\"\"\"\u001b[39;00m\n\u001b[0;32m    397\u001b[0m \u001b[38;5;66;03m# Bounds are defined for the Component itself\u001b[39;00m\n\u001b[0;32m    398\u001b[0m \u001b[38;5;66;03m# or can be declared at other components\u001b[39;00m\n\u001b[1;32m--> 400\u001b[0m \u001b[38;5;28;01mreturn\u001b[39;00m \u001b[38;5;28;43mself\u001b[39;49m\u001b[38;5;241;43m.\u001b[39;49m\u001b[43mmake_spttmpmde\u001b[49m\u001b[43m(\u001b[49m\u001b[43mvalue\u001b[49m\u001b[43m,\u001b[49m\u001b[43m \u001b[49m\u001b[43mattr\u001b[49m\u001b[43m,\u001b[49m\u001b[43m \u001b[49m\u001b[43mok_inconsistent\u001b[49m\u001b[43m)\u001b[49m\n",
      "File \u001b[1;32mc:\\Users\\cacodcar\\energiapy\\src\\energiapy\\components\\_base\\_consistent.py:354\u001b[0m, in \u001b[0;36m_Consistent.make_spttmpmde\u001b[1;34m(self, value, attr, ok_inconsistent)\u001b[0m\n\u001b[0;32m    350\u001b[0m spttmpmdeval \u001b[38;5;241m=\u001b[39m \u001b[38;5;28mself\u001b[39m\u001b[38;5;241m.\u001b[39mmake_modes(\n\u001b[0;32m    351\u001b[0m     value\u001b[38;5;241m=\u001b[39m\u001b[38;5;28mself\u001b[39m\u001b[38;5;241m.\u001b[39mmake_temporal(\u001b[38;5;28mself\u001b[39m\u001b[38;5;241m.\u001b[39mmake_spatial(value)), attr\u001b[38;5;241m=\u001b[39mattr\n\u001b[0;32m    352\u001b[0m )\n\u001b[0;32m    353\u001b[0m \u001b[38;5;66;03m# Then we fix the temporal disposition and warn if inconsistent\u001b[39;00m\n\u001b[1;32m--> 354\u001b[0m spttmpmdeval \u001b[38;5;241m=\u001b[39m \u001b[38;5;28;43mself\u001b[39;49m\u001b[38;5;241;43m.\u001b[39;49m\u001b[43mfix_temporal\u001b[49m\u001b[43m(\u001b[49m\u001b[43mspttmpmdeval\u001b[49m\u001b[43m,\u001b[49m\u001b[43m \u001b[49m\u001b[43mattr\u001b[49m\u001b[43m,\u001b[49m\u001b[43m \u001b[49m\u001b[43mok_inconsistent\u001b[49m\u001b[43m)\u001b[49m\n\u001b[0;32m    356\u001b[0m \u001b[38;5;66;03m# The dummy values are replaced with actual values\u001b[39;00m\n\u001b[0;32m    357\u001b[0m spttmpmdeval \u001b[38;5;241m=\u001b[39m \u001b[38;5;28mself\u001b[39m\u001b[38;5;241m.\u001b[39mmodize(\n\u001b[0;32m    358\u001b[0m     \u001b[38;5;28mself\u001b[39m\u001b[38;5;241m.\u001b[39mtemporalize(\u001b[38;5;28mself\u001b[39m\u001b[38;5;241m.\u001b[39mspatialize(spttmpmdeval, attr))\n\u001b[0;32m    359\u001b[0m )\n",
      "File \u001b[1;32mc:\\Users\\cacodcar\\energiapy\\src\\energiapy\\components\\_base\\_consistent.py:239\u001b[0m, in \u001b[0;36m_Consistent.fix_temporal\u001b[1;34m(self, spttmpmdeval, attr, ok_inconsistent)\u001b[0m\n\u001b[0;32m    237\u001b[0m \u001b[38;5;28;01mfor\u001b[39;00m tmp, mdeval \u001b[38;5;129;01min\u001b[39;00m tmpmdeval\u001b[38;5;241m.\u001b[39mitems():\n\u001b[0;32m    238\u001b[0m     \u001b[38;5;28;01mfor\u001b[39;00m val \u001b[38;5;129;01min\u001b[39;00m mdeval\u001b[38;5;241m.\u001b[39mvalues():\n\u001b[1;32m--> 239\u001b[0m         scl_upd \u001b[38;5;241m=\u001b[39m \u001b[38;5;28;43mself\u001b[39;49m\u001b[38;5;241;43m.\u001b[39;49m\u001b[43mmatch_scale\u001b[49m\u001b[43m(\u001b[49m\u001b[43mval\u001b[49m\u001b[43m,\u001b[49m\u001b[43m \u001b[49m\u001b[43mtmp\u001b[49m\u001b[43m,\u001b[49m\u001b[43m \u001b[49m\u001b[43mattr\u001b[49m\u001b[43m)\u001b[49m\n\u001b[0;32m    240\u001b[0m         \u001b[38;5;28;01mif\u001b[39;00m is_not(scl_upd, tmp):\n\u001b[0;32m    241\u001b[0m             \u001b[38;5;28;01mif\u001b[39;00m ok_inconsistent:\n",
      "File \u001b[1;32mc:\\Users\\cacodcar\\energiapy\\src\\energiapy\\components\\_base\\_consistent.py:216\u001b[0m, in \u001b[0;36m_Consistent.match_scale\u001b[1;34m(self, val, tmp, attr)\u001b[0m\n\u001b[0;32m    212\u001b[0m     \u001b[38;5;28;01mreturn\u001b[39;00m \u001b[38;5;28mself\u001b[39m\u001b[38;5;241m.\u001b[39msystem\u001b[38;5;241m.\u001b[39mhorizon\u001b[38;5;241m.\u001b[39mmatch_scale(val, \u001b[38;5;28mself\u001b[39m, attr)\n\u001b[0;32m    213\u001b[0m \u001b[38;5;28;01melif\u001b[39;00m \u001b[38;5;28misinstance\u001b[39m(val, (\u001b[38;5;28mlist\u001b[39m, \u001b[38;5;28mtuple\u001b[39m)) \u001b[38;5;129;01mand\u001b[39;00m \u001b[38;5;28many\u001b[39m(\n\u001b[0;32m    214\u001b[0m     \u001b[38;5;28misinstance\u001b[39m(v, DataFrame) \u001b[38;5;28;01mfor\u001b[39;00m v \u001b[38;5;129;01min\u001b[39;00m val\n\u001b[0;32m    215\u001b[0m ):\n\u001b[1;32m--> 216\u001b[0m     \u001b[38;5;28;01mreturn\u001b[39;00m \u001b[38;5;28;43msorted\u001b[39;49m\u001b[43m(\u001b[49m\u001b[38;5;28;43mself\u001b[39;49m\u001b[38;5;241;43m.\u001b[39;49m\u001b[43mmatch_scale\u001b[49m\u001b[43m(\u001b[49m\u001b[43mv\u001b[49m\u001b[43m,\u001b[49m\u001b[43m \u001b[49m\u001b[38;5;28;43mself\u001b[39;49m\u001b[43m,\u001b[49m\u001b[43m \u001b[49m\u001b[43mattr\u001b[49m\u001b[43m)\u001b[49m\u001b[43m \u001b[49m\u001b[38;5;28;43;01mfor\u001b[39;49;00m\u001b[43m \u001b[49m\u001b[43mv\u001b[49m\u001b[43m \u001b[49m\u001b[38;5;129;43;01min\u001b[39;49;00m\u001b[43m \u001b[49m\u001b[43mval\u001b[49m\u001b[43m)\u001b[49m[\u001b[38;5;241m-\u001b[39m\u001b[38;5;241m1\u001b[39m]\n\u001b[0;32m    217\u001b[0m \u001b[38;5;28;01melse\u001b[39;00m:\n\u001b[0;32m    218\u001b[0m     \u001b[38;5;28;01mreturn\u001b[39;00m tmp\n",
      "File \u001b[1;32mc:\\Users\\cacodcar\\energiapy\\src\\energiapy\\components\\_base\\_consistent.py:216\u001b[0m, in \u001b[0;36m<genexpr>\u001b[1;34m(.0)\u001b[0m\n\u001b[0;32m    212\u001b[0m     \u001b[38;5;28;01mreturn\u001b[39;00m \u001b[38;5;28mself\u001b[39m\u001b[38;5;241m.\u001b[39msystem\u001b[38;5;241m.\u001b[39mhorizon\u001b[38;5;241m.\u001b[39mmatch_scale(val, \u001b[38;5;28mself\u001b[39m, attr)\n\u001b[0;32m    213\u001b[0m \u001b[38;5;28;01melif\u001b[39;00m \u001b[38;5;28misinstance\u001b[39m(val, (\u001b[38;5;28mlist\u001b[39m, \u001b[38;5;28mtuple\u001b[39m)) \u001b[38;5;129;01mand\u001b[39;00m \u001b[38;5;28many\u001b[39m(\n\u001b[0;32m    214\u001b[0m     \u001b[38;5;28misinstance\u001b[39m(v, DataFrame) \u001b[38;5;28;01mfor\u001b[39;00m v \u001b[38;5;129;01min\u001b[39;00m val\n\u001b[0;32m    215\u001b[0m ):\n\u001b[1;32m--> 216\u001b[0m     \u001b[38;5;28;01mreturn\u001b[39;00m \u001b[38;5;28msorted\u001b[39m(\u001b[38;5;28;43mself\u001b[39;49m\u001b[38;5;241;43m.\u001b[39;49m\u001b[43mmatch_scale\u001b[49m\u001b[43m(\u001b[49m\u001b[43mv\u001b[49m\u001b[43m,\u001b[49m\u001b[43m \u001b[49m\u001b[38;5;28;43mself\u001b[39;49m\u001b[43m,\u001b[49m\u001b[43m \u001b[49m\u001b[43mattr\u001b[49m\u001b[43m)\u001b[49m \u001b[38;5;28;01mfor\u001b[39;00m v \u001b[38;5;129;01min\u001b[39;00m val)[\u001b[38;5;241m-\u001b[39m\u001b[38;5;241m1\u001b[39m]\n\u001b[0;32m    217\u001b[0m \u001b[38;5;28;01melse\u001b[39;00m:\n\u001b[0;32m    218\u001b[0m     \u001b[38;5;28;01mreturn\u001b[39;00m tmp\n",
      "File \u001b[1;32mc:\\Users\\cacodcar\\energiapy\\src\\energiapy\\components\\_base\\_consistent.py:212\u001b[0m, in \u001b[0;36m_Consistent.match_scale\u001b[1;34m(self, val, tmp, attr)\u001b[0m\n\u001b[0;32m    210\u001b[0m \u001b[38;5;66;03m# if value is a DataFrame, check if the scale is consistent\u001b[39;00m\n\u001b[0;32m    211\u001b[0m \u001b[38;5;28;01mif\u001b[39;00m \u001b[38;5;28misinstance\u001b[39m(val, DataFrame):\n\u001b[1;32m--> 212\u001b[0m     \u001b[38;5;28;01mreturn\u001b[39;00m \u001b[38;5;28;43mself\u001b[39;49m\u001b[38;5;241;43m.\u001b[39;49m\u001b[43msystem\u001b[49m\u001b[38;5;241;43m.\u001b[39;49m\u001b[43mhorizon\u001b[49m\u001b[38;5;241m.\u001b[39mmatch_scale(val, \u001b[38;5;28mself\u001b[39m, attr)\n\u001b[0;32m    213\u001b[0m \u001b[38;5;28;01melif\u001b[39;00m \u001b[38;5;28misinstance\u001b[39m(val, (\u001b[38;5;28mlist\u001b[39m, \u001b[38;5;28mtuple\u001b[39m)) \u001b[38;5;129;01mand\u001b[39;00m \u001b[38;5;28many\u001b[39m(\n\u001b[0;32m    214\u001b[0m     \u001b[38;5;28misinstance\u001b[39m(v, DataFrame) \u001b[38;5;28;01mfor\u001b[39;00m v \u001b[38;5;129;01min\u001b[39;00m val\n\u001b[0;32m    215\u001b[0m ):\n\u001b[0;32m    216\u001b[0m     \u001b[38;5;28;01mreturn\u001b[39;00m \u001b[38;5;28msorted\u001b[39m(\u001b[38;5;28mself\u001b[39m\u001b[38;5;241m.\u001b[39mmatch_scale(v, \u001b[38;5;28mself\u001b[39m, attr) \u001b[38;5;28;01mfor\u001b[39;00m v \u001b[38;5;129;01min\u001b[39;00m val)[\u001b[38;5;241m-\u001b[39m\u001b[38;5;241m1\u001b[39m]\n",
      "\u001b[1;31mAttributeError\u001b[0m: 'System' object has no attribute 'horizon'"
     ]
    }
   ],
   "source": [
    "s.csh = Cash(\n",
    "    spend={\n",
    "        s.madgaon: True,\n",
    "        s.ponje: {s.t1: (2, a)},\n",
    "        s.cacoda: a,\n",
    "        s.network: {s.t1: [5, 7]},\n",
    "    },\n",
    "    # label='cash',\n",
    "    basis='USD',\n",
    ")"
   ]
  },
  {
   "cell_type": "code",
   "execution_count": null,
   "metadata": {},
   "outputs": [],
   "source": [
    "from operator import is_\n",
    "\n",
    "is_(s.registrar.spend[0], s.registrar.spend[1])"
   ]
  },
  {
   "cell_type": "code",
   "execution_count": null,
   "metadata": {},
   "outputs": [],
   "source": [
    "s.H2 = Resource(\n",
    "    # sell={s.t0: [0, 4], s.t1: [a, 34], s.t2: (a, b)},\n",
    "    sell_price={\n",
    "        s.madgaon: {s.t1: (2, a)},\n",
    "        s.ponje: {s.t1: (2, b)},\n",
    "        s.cacoda: 300,\n",
    "    },\n",
    ")"
   ]
  },
  {
   "cell_type": "code",
   "execution_count": null,
   "metadata": {},
   "outputs": [],
   "source": [
    "s.Solar = Resource(buy=True, basis='MW', label='Solar Power')\n",
    "\n",
    "\n",
    "s.Wind = Resource(buy=a, basis='MW', label='Wind Power')\n",
    "\n",
    "\n",
    "s.Power = Resource(basis='MW', label='Power generated')\n",
    "\n",
    "\n",
    "s.Uranium = Resource(\n",
    "    buy=DataFrame({'a': [i for i in range(24)]}),\n",
    "    buy_price=42.70 / (250 / 2),\n",
    "    basis='kg',\n",
    "    label='Uranium',\n",
    ")\n",
    "\n",
    "\n",
    "# s.H2_L = Resource(sell=(0, 23), basis='tons', label='Hydrogen')\n",
    "\n",
    "\n",
    "# s.CO2_AQoff = Resource(basis='tons', label='Carbon dioxide - sequestered')\n",
    "\n",
    "\n",
    "s.H2O = Resource(buy=(20, 50), buy_price=b, basis='tons', label='Water')\n",
    "\n",
    "\n",
    "s.CH4 = Resource(buy=[20, 40], buy_price=20, basis='tons', label='Natural gas')\n",
    "\n",
    "\n",
    "s.CO2 = Resource(basis='tons', label='Carbon dioxide', block='Resource')\n",
    "\n",
    "\n",
    "s.CO2_Vent = Resource(\n",
    "    basis='tons',\n",
    "    label='Carbon dioxide - Vented',\n",
    "    sell_price=(2, 20),\n",
    "    sell_emit={s.gwp: b},\n",
    ")\n",
    "\n",
    "\n",
    "s.O2 = Resource(sell=[20, True], basis='tons', label='Oxygen')\n",
    "\n",
    "\n",
    "s.CO2_DAC = Resource(basis='tons', label='Carbon dioxide - captured')\n",
    "s.Power = Resource(buy=[0, a], basis='MW', label='Power generated')"
   ]
  },
  {
   "cell_type": "code",
   "execution_count": null,
   "metadata": {},
   "outputs": [],
   "source": [
    "s.LiR = Resource(\n",
    "    use_emit={s.gwp: {s.t1: 1.484}},\n",
    "    use={s.ponje: 1.5},\n",
    "    basis='kg',\n",
    "    label='Lithium Reserves',\n",
    "    citation='Nelson Bunyui Manjong (2021)',\n",
    ")"
   ]
  },
  {
   "cell_type": "code",
   "execution_count": null,
   "metadata": {},
   "outputs": [],
   "source": [
    "s.WF = Process(\n",
    "    conversion={s.Power: {X(0): {s.Wind: -1}, X(1): {s.Wind: -1}}},\n",
    "    produce=[(0, 3), (3, 5)],\n",
    "    capex={s.madgaon: {s.t1: {1462000, I(202233)}}},\n",
    "    opex={4953, I(70)},\n",
    "    setup=1000,\n",
    "    setup_emit={s.gwp: 50, s.odp: 2900},\n",
    "    setup_use={s.LiR: 1.5, s.land: 30},\n",
    "    locations=[s.madgaon, s.ponje],\n",
    "    label='Wind mill array',\n",
    "    basis='MW',\n",
    ")\n",
    "\n",
    "\n",
    "s.PV = Process(\n",
    "    conversion={s.Power: {X(1): {s.Solar: -1.2}, X(2): {s.Solar: -1.5}}},\n",
    "    capex={X(0): 1333, X(1): 1444, X(2): 1555},\n",
    "    opex=22623,\n",
    "    setup={X(0): 3000, X(1): 4000, X(2): 5000},\n",
    "    locations=s.cacoda,\n",
    "    label='Solar PV',\n",
    "    basis='MW',\n",
    ")\n",
    "\n",
    "\n",
    "s.SMRH = Process(\n",
    "    setup_use={s.land: 50},\n",
    "    conversion={\n",
    "        s.H2: {\n",
    "            s.Power: -1.11,\n",
    "            s.CH4: -3.76,\n",
    "            s.H2O: -23.7,\n",
    "            s.CO2_Vent: 1.03,\n",
    "            s.CO2: 9.332,\n",
    "        }\n",
    "    },\n",
    "    capex={\n",
    "        2520000,\n",
    "    },\n",
    "    opex={51.5, I(945000)},\n",
    "    setup=[1000],\n",
    "    label='Steam methane reforming + CCUS',\n",
    ")\n",
    "\n",
    "s.NGCC = Process(\n",
    "    conversion={\n",
    "        s.Power: {\n",
    "            s.CH4: -0.108,\n",
    "            s.H2O: -10,\n",
    "            s.CO2_Vent: 0.297 * 0.05,\n",
    "            s.CO2: 0.297 * 0.95,\n",
    "        }\n",
    "    },\n",
    "    capex=2158928,\n",
    "    opex={4090, I(53320)},\n",
    "    setup=[1, 100],\n",
    "    label='NGCC + 95% CC',\n",
    ")\n",
    "s.SMR = Process(\n",
    "    capex=2400,\n",
    "    opex={0.03, I(800)},\n",
    "    conversion={s.H2: {s.Power: -1.11, s.CH4: -3.76, s.H2O: -23.7, s.CO2_Vent: 9.4979}},\n",
    "    setup=1000,\n",
    "    label='Steam methane reforming',\n",
    ")\n",
    "s.H2FC = Process(\n",
    "    conversion={s.Power: {s.H2: -0.050}},\n",
    "    capex=1.6 * 10**6,\n",
    "    opex=3.5,\n",
    "    setup=[1000, 2000],\n",
    "    label='hydrogen fuel cell',\n",
    ")\n",
    "s.DAC = Process(\n",
    "    capex=0.02536,\n",
    "    opex=0.634,\n",
    "    conversion={s.CO2_DAC: {s.Power: -0.193, s.H2O: -4.048}},\n",
    "    setup=1000,\n",
    "    label='Direct air capture',\n",
    ")\n",
    "# s.PSH = Process(conversion = {s.Power: 0.6}, capex = 3924781, fopex= 17820, vopex = 512.5, store = 10000, capacity=1000, label='Pumped storage hydropower', basis = 'MW')\n",
    "s.ASMR = Process(\n",
    "    conversion={s.Power: {s.Uranium: -4.17 * 10 ** (-5), s.H2O: -3.364}},\n",
    "    capex=7988951,\n",
    "    opex=I(0.04 * 0.730),\n",
    "    setup=1000,\n",
    "    label='Small modular reactors (SMRs)',\n",
    "    locations=s.madgaon,\n",
    ")\n",
    "s.AWE = Process(\n",
    "    setup_use={s.land: (0, 20)},\n",
    "    conversion={s.H2: {s.Power: -1, s.O2: 0.7632, s.H2O: -0.1753}},\n",
    "    capex={1.1 * 10**6, I(20)},\n",
    "    opex=I(16918),\n",
    "    setup=True,\n",
    "    label='Alkaline water electrolysis (AWE)',\n",
    "    citation='Demirhan et al. 2018 AIChE paper',\n",
    ")"
   ]
  },
  {
   "cell_type": "code",
   "execution_count": null,
   "metadata": {},
   "outputs": [],
   "source": [
    "s.LiI = Storage(setup=[2000], inventory=s.Power, setup_in=[40], setup_out=[20])\n",
    "s.LiI2 = Storage(setup=[2000], inventory={s.Power: 0.6})\n",
    "s.H2Stg = Storage(\n",
    "    setup=[2000], inventory={s.H2: {X(0): {s.Power: 0.8}, X(1): {s.Power: 0.9}}}\n",
    ")"
   ]
  },
  {
   "cell_type": "code",
   "execution_count": null,
   "metadata": {},
   "outputs": [],
   "source": [
    "s.parameters[4].__dict__"
   ]
  },
  {
   "cell_type": "code",
   "execution_count": null,
   "metadata": {},
   "outputs": [],
   "source": [
    "s.program.variables"
   ]
  },
  {
   "cell_type": "code",
   "execution_count": null,
   "metadata": {},
   "outputs": [],
   "source": [
    "s.attr.buy.cns()"
   ]
  },
  {
   "cell_type": "code",
   "execution_count": null,
   "metadata": {},
   "outputs": [],
   "source": [
    "s.data.__dict__\n",
    "s.data.H2.__dict__"
   ]
  },
  {
   "cell_type": "code",
   "execution_count": null,
   "metadata": {},
   "outputs": [],
   "source": [
    "s.registrar.__dict__"
   ]
  },
  {
   "cell_type": "code",
   "execution_count": null,
   "metadata": {},
   "outputs": [],
   "source": [
    "s.H2FC.pprint()"
   ]
  },
  {
   "cell_type": "code",
   "execution_count": null,
   "metadata": {},
   "outputs": [],
   "source": []
  },
  {
   "cell_type": "code",
   "execution_count": null,
   "metadata": {},
   "outputs": [],
   "source": [
    "s.H2FC.constraints[-1].__dict__"
   ]
  },
  {
   "cell_type": "code",
   "execution_count": null,
   "metadata": {},
   "outputs": [],
   "source": [
    "s.WF.constraints[-1].__dict__"
   ]
  },
  {
   "cell_type": "code",
   "execution_count": null,
   "metadata": {},
   "outputs": [],
   "source": [
    "s.NGCC.pprint()"
   ]
  },
  {
   "cell_type": "code",
   "execution_count": null,
   "metadata": {},
   "outputs": [],
   "source": [
    "s.pprint()"
   ]
  },
  {
   "cell_type": "code",
   "execution_count": null,
   "metadata": {},
   "outputs": [],
   "source": []
  },
  {
   "cell_type": "code",
   "execution_count": null,
   "metadata": {},
   "outputs": [],
   "source": [
    "[100 * (i + 1) / 14 for i in range(14)]"
   ]
  },
  {
   "cell_type": "code",
   "execution_count": null,
   "metadata": {},
   "outputs": [],
   "source": [
    "[100 * (i + 1) / 13 for i in range(13)]"
   ]
  },
  {
   "cell_type": "code",
   "execution_count": null,
   "metadata": {},
   "outputs": [],
   "source": [
    "print(len(s.variables))\n",
    "print(len(set(s.variables)))\n",
    "print(len(set([v.name for v in s.variables])))\n",
    "print()\n",
    "print(len(s.parameters))\n",
    "print(len(set(s.parameters)))\n",
    "print(len(set([v.name for v in s.parameters])))\n",
    "print()\n",
    "print(len(s.constraints))\n",
    "print(len(set(s.constraints)))\n",
    "print(len(set([v.name for v in s.constraints])))\n",
    "print()\n",
    "print(len(s.indices))\n",
    "print(len(set(s.indices)))\n",
    "print(len(set([v.name for v in s.indices])))"
   ]
  },
  {
   "cell_type": "code",
   "execution_count": null,
   "metadata": {},
   "outputs": [],
   "source": [
    "s.registrar.__dict__"
   ]
  },
  {
   "cell_type": "code",
   "execution_count": null,
   "metadata": {},
   "outputs": [],
   "source": [
    "s.registrar.mbounds"
   ]
  },
  {
   "cell_type": "code",
   "execution_count": null,
   "metadata": {},
   "outputs": [],
   "source": []
  },
  {
   "cell_type": "code",
   "execution_count": null,
   "metadata": {},
   "outputs": [],
   "source": [
    "s.indices"
   ]
  },
  {
   "cell_type": "code",
   "execution_count": null,
   "metadata": {},
   "outputs": [],
   "source": [
    "s.parameters"
   ]
  },
  {
   "cell_type": "code",
   "execution_count": null,
   "metadata": {},
   "outputs": [],
   "source": [
    "sorted(s.indices)"
   ]
  },
  {
   "cell_type": "code",
   "execution_count": null,
   "metadata": {},
   "outputs": [],
   "source": [
    "s.indices[43].__dict__"
   ]
  },
  {
   "cell_type": "code",
   "execution_count": null,
   "metadata": {},
   "outputs": [],
   "source": [
    "s.indices[40].disposition == s.indices[43].disposition"
   ]
  },
  {
   "cell_type": "code",
   "execution_count": null,
   "metadata": {},
   "outputs": [],
   "source": [
    "s.SMRH.program.indices"
   ]
  },
  {
   "cell_type": "code",
   "execution_count": null,
   "metadata": {},
   "outputs": [],
   "source": [
    "s.indices[40].__dict__"
   ]
  },
  {
   "cell_type": "code",
   "execution_count": null,
   "metadata": {},
   "outputs": [],
   "source": [
    "s.train = Transit(\n",
    "    freight=s.H2,\n",
    "    setup=[5, 400],\n",
    "    setup_use={s.land: 20},\n",
    "    setup_emit={s.odp: 0.1},\n",
    "    capex={s.alink: 200, s.blink: 300, s.clink: 400},\n",
    "    opex=100,\n",
    "    label='Train',\n",
    "    basis='passengers',\n",
    "    linkages=[s.alink],\n",
    ")"
   ]
  },
  {
   "cell_type": "code",
   "execution_count": null,
   "metadata": {},
   "outputs": [],
   "source": [
    "s.train.pprint()"
   ]
  },
  {
   "cell_type": "code",
   "execution_count": null,
   "metadata": {},
   "outputs": [],
   "source": [
    "s.pprint()"
   ]
  },
  {
   "cell_type": "code",
   "execution_count": null,
   "metadata": {},
   "outputs": [],
   "source": []
  }
 ],
 "metadata": {
  "kernelspec": {
   "display_name": ".venv",
   "language": "python",
   "name": "python3"
  },
  "language_info": {
   "codemirror_mode": {
    "name": "ipython",
    "version": 3
   },
   "file_extension": ".py",
   "mimetype": "text/x-python",
   "name": "python",
   "nbconvert_exporter": "python",
   "pygments_lexer": "ipython3",
   "version": "3.9.13"
  },
  "orig_nbformat": 4
 },
 "nbformat": 4,
 "nbformat_minor": 2
}
